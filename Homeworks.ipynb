{
 "cells": [
  {
   "cell_type": "markdown",
   "id": "3de1ea12",
   "metadata": {},
   "source": [
    "## Homework 1"
   ]
  },
  {
   "cell_type": "code",
   "execution_count": 1,
   "id": "ba091d89",
   "metadata": {},
   "outputs": [
    {
     "data": {
      "text/plain": [
       "{'Laptop': {'Price': 359.99, 'TVA': 0.2},\n",
       " 'Watch': {'Price': 99.99, 'TVA': 0.1},\n",
       " 'Rice bag': {'Price': 15.99, 'TVA': 0.03},\n",
       " 'Cereal box': {'Price': 5.8, 'TVA': 0.015},\n",
       " 'Phone': {'Price': 250.25, 'TVA': 0.25},\n",
       " 'Blender': {'Price': 150.9, 'TVA': 0.2},\n",
       " 'Book': {'Price': 3.99, 'TVA': 0.01}}"
      ]
     },
     "execution_count": 1,
     "metadata": {},
     "output_type": "execute_result"
    }
   ],
   "source": [
    "Catalogue = {\n",
    "    \"Laptop\" : {\"Price\" : 359.99, \"TVA\" : 0.2},\n",
    "    \"Watch\" : {\"Price\" : 99.99, \"TVA\" : 0.1},\n",
    "    \"Rice bag\" : {\"Price\" : 15.99, \"TVA\" : 0.03},\n",
    "    \"Cereal box\" : {\"Price\" : 5.80, \"TVA\" : 0.015},\n",
    "    \"Phone\" : {\"Price\" : 250.25, \"TVA\" : 0.25},\n",
    "    \"Blender\" : {\"Price\" : 150.90, \"TVA\" : 0.2},\n",
    "    \"Book\" : {\"Price\" : 3.99, \"TVA\" : 0.01},\n",
    "}\n",
    "Catalogue"
   ]
  },
  {
   "cell_type": "code",
   "execution_count": 2,
   "id": "4cfb58cc",
   "metadata": {},
   "outputs": [],
   "source": [
    "def ttc_price(product, quantity):\n",
    "    if product in Catalogue:\n",
    "        ht_price = Catalogue[product][\"Price\"]\n",
    "        tva = Catalogue[product][\"TVA\"]\n",
    "        tht_price = ht_price * quantity * tva\n",
    "        ttc_price = ht_price + tht_price\n",
    "        return ttc_price"
   ]
  },
  {
   "cell_type": "code",
   "execution_count": 3,
   "id": "e7114418",
   "metadata": {},
   "outputs": [
    {
     "name": "stdout",
     "output_type": "stream",
     "text": [
      "Combien de produits de chaque catégorie avez vous acheté : 3\n",
      "Nom du produit 1 : Laptop\n",
      "Quantité du produit 1 : 4\n",
      "Le prix ttc de 4 Laptop(s) est : 647.982\n",
      "Nom du produit 2 : Blender\n",
      "Quantité du produit 2 : 3\n",
      "Le prix ttc de 3 Blender(s) est : 241.44000000000003\n",
      "Nom du produit 3 : Book\n",
      "Quantité du produit 3 : 5\n",
      "Le prix ttc de 5 Book(s) est : 4.189500000000001\n",
      "La somme total ttc de vos produits achetés est : 893.6115\n"
     ]
    }
   ],
   "source": [
    "number_product = int(input(\"Combien de produits de chaque catégorie avez vous acheté : \"))\n",
    "\n",
    "total_price = 0\n",
    "\n",
    "for i in range(number_product):\n",
    "    product = str(input(f\"Nom du produit {i+1} : \"))\n",
    "    quantity = int(input(f\"Quantité du produit {i+1} : \"))\n",
    "    price = ttc_price(product, quantity)\n",
    "    print(f\"Le prix ttc de {quantity} {product}(s) est : {price}\")\n",
    "    total_price += price\n",
    "    \n",
    "print(\"La somme total ttc de vos produits achetés est :\", total_price)"
   ]
  },
  {
   "cell_type": "markdown",
   "id": "52f45cfe",
   "metadata": {},
   "source": [
    "## Homework 2"
   ]
  },
  {
   "cell_type": "code",
   "execution_count": 5,
   "id": "c1291037",
   "metadata": {},
   "outputs": [],
   "source": [
    "Notes = {\n",
    "    \"Raoul\" : {\"Math\": 18, \"Micro\": 19, \"Macro\": 15, \"Econometrics\": 16.50, \"Statistics\": 18, \"Computing\": 15},\n",
    "    \"Paola\" : {\"Math\": 18, \"Micro\": 19, \"Macro\": 15, \"Econometrics\": 16.575, \"Statistics\": 17, \"Computing\": 15},\n",
    "    \"Jean\" : {\"Math\": 15, \"Micro\": 18, \"Macro\": 19, \"Econometrics\": 18.50, \"Statistics\": 18, \"Computing\": 15},\n",
    "    \"Naim\" : {\"Math\": 18, \"Micro\": 19, \"Macro\": 15, \"Econometrics\": 16.25, \"Statistics\": 14, \"Computing\": 13},\n",
    "    \"Pierre\" : {\"Math\": 15, \"Micro\": 19, \"Macro\": 16, \"Econometrics\": 17.25, \"Statistics\": 12, \"Computing\": 15},\n",
    "}"
   ]
  },
  {
   "cell_type": "markdown",
   "id": "518bc19b",
   "metadata": {},
   "source": [
    "## First method"
   ]
  },
  {
   "cell_type": "code",
   "execution_count": 13,
   "id": "976c3b3c",
   "metadata": {},
   "outputs": [
    {
     "name": "stdout",
     "output_type": "stream",
     "text": [
      "              Raoul   Paola  Jean   Naim  Pierre\n",
      "Math           18.0  18.000  15.0  18.00   15.00\n",
      "Micro          19.0  19.000  18.0  19.00   19.00\n",
      "Macro          15.0  15.000  19.0  15.00   16.00\n",
      "Econometrics   16.5  16.575  18.5  16.25   17.25\n",
      "Statistics     18.0  17.000  18.0  14.00   12.00\n",
      "Computing      15.0  15.000  15.0  13.00   15.00\n"
     ]
    }
   ],
   "source": [
    "import pandas as pd\n",
    "\n",
    "notes = pd.DataFrame(Notes)\n",
    "\n",
    "print(notes)"
   ]
  },
  {
   "cell_type": "code",
   "execution_count": 16,
   "id": "d18cfe92",
   "metadata": {},
   "outputs": [
    {
     "data": {
      "text/plain": [
       "Raoul     16.916667\n",
       "Paola     16.762500\n",
       "Jean      17.250000\n",
       "Naim      15.875000\n",
       "Pierre    15.708333\n",
       "dtype: float64"
      ]
     },
     "execution_count": 16,
     "metadata": {},
     "output_type": "execute_result"
    }
   ],
   "source": [
    "notes.mean()"
   ]
  },
  {
   "cell_type": "markdown",
   "id": "d1f0edde",
   "metadata": {},
   "source": [
    "## Second method"
   ]
  },
  {
   "cell_type": "code",
   "execution_count": 7,
   "id": "1d7482b4",
   "metadata": {},
   "outputs": [],
   "source": [
    "def student_mean(grades):\n",
    "    return sum(grades.values()) / len(grades)"
   ]
  },
  {
   "cell_type": "code",
   "execution_count": 8,
   "id": "fa3951f9",
   "metadata": {},
   "outputs": [
    {
     "name": "stdout",
     "output_type": "stream",
     "text": [
      "La moyenne de Raoul est : 16.916666666666668\n",
      "La moyenne de Paola est : 16.7625\n",
      "La moyenne de Jean est : 17.25\n",
      "La moyenne de Naim est : 15.875\n",
      "La moyenne de Pierre est : 15.708333333333334\n",
      "La moyenne de la classe est : 16.5025\n"
     ]
    }
   ],
   "source": [
    "means = {}\n",
    "for student, note in Notes.items():\n",
    "    mean = student_mean(note)\n",
    "    means[student] = mean\n",
    "    print(f\"La moyenne de {student} est :\", mean)\n",
    "    \n",
    "class_mean = student_mean(means)\n",
    "print(f\"La moyenne de la classe est :\", class_mean)"
   ]
  },
  {
   "cell_type": "markdown",
   "id": "786beca3",
   "metadata": {},
   "source": [
    "## Homework 3"
   ]
  },
  {
   "cell_type": "code",
   "execution_count": 21,
   "id": "478759d4",
   "metadata": {},
   "outputs": [
    {
     "name": "stdout",
     "output_type": "stream",
     "text": [
      "  Student_ID  Age  Gender  Study_Hours_per_Week Preferred_Learning_Style  \\\n",
      "0     S00001   18  Female                    48              Kinesthetic   \n",
      "1     S00002   29  Female                    30          Reading/Writing   \n",
      "2     S00003   20  Female                    47              Kinesthetic   \n",
      "3     S00004   23  Female                    13                 Auditory   \n",
      "4     S00005   19  Female                    24                 Auditory   \n",
      "\n",
      "   Online_Courses_Completed Participation_in_Discussions  \\\n",
      "0                        14                          Yes   \n",
      "1                        20                           No   \n",
      "2                        11                           No   \n",
      "3                         0                          Yes   \n",
      "4                        19                          Yes   \n",
      "\n",
      "   Assignment_Completion_Rate (%)  Exam_Score (%)  Attendance_Rate (%)  \\\n",
      "0                             100              69                   66   \n",
      "1                              71              40                   57   \n",
      "2                              60              43                   79   \n",
      "3                              63              70                   60   \n",
      "4                              59              63                   93   \n",
      "\n",
      "  Use_of_Educational_Tech Self_Reported_Stress_Level  \\\n",
      "0                     Yes                       High   \n",
      "1                     Yes                     Medium   \n",
      "2                     Yes                        Low   \n",
      "3                     Yes                        Low   \n",
      "4                     Yes                     Medium   \n",
      "\n",
      "   Time_Spent_on_Social_Media (hours/week)  Sleep_Hours_per_Night Final_Grade  \n",
      "0                                        9                      8           C  \n",
      "1                                       28                      8           D  \n",
      "2                                       13                      7           D  \n",
      "3                                       24                     10           B  \n",
      "4                                       26                      8           C  \n"
     ]
    }
   ],
   "source": [
    "import pandas as pd\n",
    "\n",
    "base = pd.read_csv(\"D:\\DOCUMENTS\\PERSONNEL\\OO\\FORMATION\\FADP\\student_performance_large_dataset.csv\")\n",
    "print(base.head())"
   ]
  },
  {
   "cell_type": "code",
   "execution_count": 22,
   "id": "1acfccf1",
   "metadata": {},
   "outputs": [
    {
     "name": "stdout",
     "output_type": "stream",
     "text": [
      "Les valeurs manquantes avant nettoyage sont : \n",
      "Student_ID                                 0\n",
      "Age                                        0\n",
      "Gender                                     0\n",
      "Study_Hours_per_Week                       0\n",
      "Preferred_Learning_Style                   0\n",
      "Online_Courses_Completed                   0\n",
      "Participation_in_Discussions               0\n",
      "Assignment_Completion_Rate (%)             0\n",
      "Exam_Score (%)                             0\n",
      "Attendance_Rate (%)                        0\n",
      "Use_of_Educational_Tech                    0\n",
      "Self_Reported_Stress_Level                 0\n",
      "Time_Spent_on_Social_Media (hours/week)    0\n",
      "Sleep_Hours_per_Night                      0\n",
      "Final_Grade                                0\n",
      "dtype: int64\n"
     ]
    }
   ],
   "source": [
    "print(\"Les valeurs manquantes avant nettoyage sont : \")\n",
    "print(base.isnull().sum())"
   ]
  },
  {
   "cell_type": "code",
   "execution_count": 23,
   "id": "f858bba5",
   "metadata": {},
   "outputs": [
    {
     "name": "stdout",
     "output_type": "stream",
     "text": [
      "Les valeurs manquantes après nettoyage sont : \n",
      "Student_ID                                 0\n",
      "Age                                        0\n",
      "Gender                                     0\n",
      "Study_Hours_per_Week                       0\n",
      "Preferred_Learning_Style                   0\n",
      "Online_Courses_Completed                   0\n",
      "Participation_in_Discussions               0\n",
      "Assignment_Completion_Rate (%)             0\n",
      "Exam_Score (%)                             0\n",
      "Attendance_Rate (%)                        0\n",
      "Use_of_Educational_Tech                    0\n",
      "Self_Reported_Stress_Level                 0\n",
      "Time_Spent_on_Social_Media (hours/week)    0\n",
      "Sleep_Hours_per_Night                      0\n",
      "Final_Grade                                0\n",
      "dtype: int64\n"
     ]
    }
   ],
   "source": [
    "base_cleaned = base.fillna(0)\n",
    "base_cleaned = base.dropna()\n",
    "\n",
    "print(\"Les valeurs manquantes après nettoyage sont : \")\n",
    "print(base.isnull().sum())"
   ]
  },
  {
   "cell_type": "code",
   "execution_count": 29,
   "id": "a85e1ba6",
   "metadata": {},
   "outputs": [
    {
     "name": "stdout",
     "output_type": "stream",
     "text": [
      "Les doublons avant suppression sont :\n",
      "0\n",
      "Les doublons après suppression sont :\n",
      "0\n"
     ]
    }
   ],
   "source": [
    "print(\"Les doublons avant suppression sont :\")\n",
    "print(base.duplicated().sum())\n",
    "\n",
    "base_cleaned = base.drop_duplicates()\n",
    "\n",
    "print(\"Les doublons après suppression sont :\")\n",
    "print(base.duplicated().sum())"
   ]
  },
  {
   "cell_type": "code",
   "execution_count": 30,
   "id": "506a2be3",
   "metadata": {},
   "outputs": [
    {
     "name": "stdout",
     "output_type": "stream",
     "text": [
      "La nouvelle base nettoyée a été sauvegardé sous 'new_base.csv'.\n"
     ]
    }
   ],
   "source": [
    "base_cleaned.to_csv('new_base.csv', index=False)\n",
    "print(\"La nouvelle base nettoyée a été sauvegardé sous 'new_base.csv'.\")"
   ]
  },
  {
   "cell_type": "code",
   "execution_count": null,
   "id": "52f18c35",
   "metadata": {},
   "outputs": [],
   "source": []
  }
 ],
 "metadata": {
  "kernelspec": {
   "display_name": "Python 3 (ipykernel)",
   "language": "python",
   "name": "python3"
  },
  "language_info": {
   "codemirror_mode": {
    "name": "ipython",
    "version": 3
   },
   "file_extension": ".py",
   "mimetype": "text/x-python",
   "name": "python",
   "nbconvert_exporter": "python",
   "pygments_lexer": "ipython3",
   "version": "3.11.4"
  }
 },
 "nbformat": 4,
 "nbformat_minor": 5
}
