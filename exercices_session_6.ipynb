{
 "cells": [
  {
   "cell_type": "markdown",
   "id": "7aa9dd79-5d2d-4bdf-bd46-50b99e40cf3c",
   "metadata": {},
   "source": [
    "### **Deadline : 18 février 2025**"
   ]
  },
  {
   "cell_type": "markdown",
   "id": "ae6e308b",
   "metadata": {},
   "source": [
    "\n",
    "# 📘 Exercices sur les Fonctions en Python\n",
    "\n",
    "Ce notebook contient **40 exercices** qui nécessitent l'utilisation des fonctions et des concepts vus jusqu'ici.\n",
    "\n",
    "📌 **Instructions :**  \n",
    "- Chaque exercice est présenté avec un **contexte**, un **exemple d'input et d'output attendu**.\n",
    "- Implémentez votre fonction **dans la cellule prévue**.\n",
    "- **Une cellule de test est incluse** sous chaque exercice pour valider automatiquement votre solution.\n",
    "\n",
    "Bonne pratique ! 🚀  \n"
   ]
  },
  {
   "cell_type": "markdown",
   "id": "cfc1827f",
   "metadata": {},
   "source": [
    "## Exercice 1\n",
    "\n",
    "**Contexte :** Une entreprise vend des produits soumis à une taxe de 20%. Les prix des articles sont donnés sous forme de liste. Implémente une fonction qui prend une liste de prix et retourne le montant total à payer, taxe incluse.\n",
    "\n",
    "**Exemple :**\n",
    "```python\n",
    "calculer_total([50, 100, 200])\n",
    "```\n",
    "**Résultat attendu :**\n",
    "```python\n",
    "420.0\n",
    "```"
   ]
  },
  {
   "cell_type": "code",
   "execution_count": 4,
   "id": "8f8e1143",
   "metadata": {},
   "outputs": [],
   "source": [
    "# Implémentez votre fonction ici\n",
    "def calculer_total(price):\n",
    "    taux = sum(price) * 1.2\n",
    "    return taux"
   ]
  },
  {
   "cell_type": "code",
   "execution_count": 114,
   "id": "a3863b25",
   "metadata": {},
   "outputs": [],
   "source": [
    "assert calculer_total([50, 100, 200]) == 420.0\n",
    "assert calculer_total([10, 20]) == 36.0"
   ]
  },
  {
   "cell_type": "markdown",
   "id": "2e6f5307",
   "metadata": {},
   "source": [
    "## Exercice 2\n",
    "\n",
    "**Contexte :** Une station météo enregistre les températures d’une journée sous forme de liste. Implémente une fonction qui filtre et retourne uniquement les températures supérieures à 25°C.\n",
    "\n",
    "**Exemple :**\n",
    "```python\n",
    "filtrer_temperatures([22, 25, 28, 30, 21, 26])\n",
    "```\n",
    "**Résultat attendu :**\n",
    "```python\n",
    "[28, 30, 26]\n",
    "```"
   ]
  },
  {
   "cell_type": "code",
   "execution_count": 9,
   "id": "bd798f64",
   "metadata": {},
   "outputs": [],
   "source": [
    "# Implémentez votre fonction ici\n",
    "def filtrer_temperatures(weather):\n",
    "    return [x for x in weather if x > 25]"
   ]
  },
  {
   "cell_type": "code",
   "execution_count": 115,
   "id": "06b85a68",
   "metadata": {},
   "outputs": [],
   "source": [
    "assert filtrer_temperatures([22, 25, 28, 30, 21, 26]) == [28, 30, 26]\n",
    "assert filtrer_temperatures([15, 20, 24]) == []"
   ]
  },
  {
   "cell_type": "markdown",
   "id": "948c27b5",
   "metadata": {},
   "source": [
    "## **Exercice 3\n",
    "**Contexte :**  \n",
    "Un texte est fourni sous forme de chaîne de caractères. Implémente une fonction qui retourne le **nombre total de mots distincts** qu’il contient.\n",
    "\n",
    "**Exemple :**  \n",
    "```python\n",
    "analyser_texte(\"Python est un langage puissant. Python est aussi simple.\")\n",
    "```  \n",
    "**Output :**  \n",
    "```\n",
    "7\n",
    "```"
   ]
  },
  {
   "cell_type": "code",
   "execution_count": 27,
   "id": "f4501776",
   "metadata": {},
   "outputs": [],
   "source": [
    "# Implémentez votre fonction ici\n",
    "def analyser_texte(texte):\n",
    "    texte = texte.lower()\n",
    "    for x in \",.;?!\":\n",
    "        texte = texte.replace(x, \" \")\n",
    "    texte = texte.split()\n",
    "    distinct = set(texte)\n",
    "    return len(distinct)"
   ]
  },
  {
   "cell_type": "code",
   "execution_count": 116,
   "id": "fb84b68b",
   "metadata": {},
   "outputs": [],
   "source": [
    "assert analyser_texte(\"Bonjour Bonjour monde\") == 2\n",
    "assert analyser_texte(\"Python est génial\") == 3\n",
    "assert analyser_texte(\"Bonjour, bonjour. monde.\") == 2"
   ]
  },
  {
   "cell_type": "markdown",
   "id": "70b6ffc5",
   "metadata": {},
   "source": [
    "## Exercice 4\n",
    "\n",
    "**Contexte :**  \n",
    "Une liste de prénoms est donnée, certains en majuscules, d'autres en minuscules. Implémente une fonction qui normalise chaque prénom pour qu’il commence par une majuscule.\n",
    "\n",
    "**Exemple :**  \n",
    "```python\n",
    "normaliser_noms([\"ALICE\", \"bob\", \"ChArLie\"])\n",
    "```  \n",
    "**Output :**  \n",
    "```python\n",
    "[\"Alice\", \"Bob\", \"Charlie\"]\n",
    "```"
   ]
  },
  {
   "cell_type": "code",
   "execution_count": 38,
   "id": "990e8da4",
   "metadata": {},
   "outputs": [],
   "source": [
    "# Implémentez votre fonction ici\n",
    "def normaliser_noms(liste):\n",
    "    return [x.capitalize() for x in liste]"
   ]
  },
  {
   "cell_type": "code",
   "execution_count": 117,
   "id": "f332adc6",
   "metadata": {},
   "outputs": [],
   "source": [
    "assert normaliser_noms([\"JOHN\", \"paul\"]) == [\"John\", \"Paul\"], \"Votre fonction n'est pas bien implémentée\"\n",
    "assert normaliser_noms([]) == [], \"Votre fonction n'est pas bien implémentée\""
   ]
  },
  {
   "cell_type": "markdown",
   "id": "85d9e465",
   "metadata": {},
   "source": [
    "## Exercice 5\n",
    "\n",
    "**Contexte :**  \n",
    "Une entreprise a une liste de salariés sous forme de tuples `(nom, salaire)`. Implémente une fonction qui retourne la liste triée par ordre décroissant des salaires.\n",
    "\n",
    "**Exemple :**  \n",
    "```python\n",
    "trier_salaries([(\"Alice\", 3000), (\"Bob\", 2500), (\"Charlie\", 4000)])\n",
    "```  \n",
    "**Output :**  \n",
    "```python\n",
    "[(\"Charlie\", 4000), (\"Alice\", 3000), (\"Bob\", 2500)]\n",
    "```"
   ]
  },
  {
   "cell_type": "code",
   "execution_count": 40,
   "id": "fd7a38d1",
   "metadata": {},
   "outputs": [],
   "source": [
    "# Implémentez votre fonction ici\n",
    "def trier_salaries(liste):\n",
    "    return sorted(liste, key=lambda x: x[1], reverse=True)"
   ]
  },
  {
   "cell_type": "code",
   "execution_count": 118,
   "id": "ca395646",
   "metadata": {},
   "outputs": [],
   "source": [
    "assert trier_salaries([(\"A\", 1000), (\"B\", 2000)]) == [(\"B\", 2000), (\"A\", 1000)], \"Votre fonction n'est pas bien implémentée\""
   ]
  },
  {
   "cell_type": "markdown",
   "id": "8786aac4",
   "metadata": {},
   "source": [
    "## Exercice 6\n",
    "\n",
    "**Contexte :**  \n",
    "Deux listes, l’une contenant des prénoms, l’autre des noms de famille, doivent être fusionnées pour obtenir des noms complets.\n",
    "\n",
    "**Exemple :**  \n",
    "```python\n",
    "fusionner_noms([\"Alice\", \"Bob\"], [\"Durand\", \"Martin\"])\n",
    "```  \n",
    "**Output :**  \n",
    "```python\n",
    "[\"Alice Durand\", \"Bob Martin\"]\n",
    "```"
   ]
  },
  {
   "cell_type": "code",
   "execution_count": 43,
   "id": "89008993",
   "metadata": {},
   "outputs": [],
   "source": [
    "# Implémentez votre fonction ici\n",
    "def fusionner_noms(Prénoms, Noms):\n",
    "    return [Prénom + \" \" + Nom for Prénom, Nom in zip(Prénoms, Noms)]"
   ]
  },
  {
   "cell_type": "code",
   "execution_count": 119,
   "id": "b867d431",
   "metadata": {},
   "outputs": [],
   "source": [
    "assert fusionner_noms([\"A\", \"B\"], [\"X\", \"Y\"]) == [\"A X\", \"B Y\"], \"Il y a peut-etre une erreur dans votre fonction\""
   ]
  },
  {
   "cell_type": "markdown",
   "id": "a8e49c39",
   "metadata": {},
   "source": [
    "## Exercice 7\n",
    "\n",
    "**Contexte :**  \n",
    "Un convertisseur de devises doit transformer des prix en dollars en euros avec un taux de conversion donné.\n",
    "\n",
    "**Exemple :**  \n",
    "```python\n",
    "convertir_en_euros([10, 20, 50], 0.85)\n",
    "```  \n",
    "**Output :**  \n",
    "```python\n",
    "[8.5, 17.0, 42.5]\n",
    "```"
   ]
  },
  {
   "cell_type": "code",
   "execution_count": 46,
   "id": "fa1b6c5a",
   "metadata": {},
   "outputs": [],
   "source": [
    "# Implémentez votre fonction ici\n",
    "def convertir_en_euros(prix, taux):\n",
    "    return [x * taux for x in prix] "
   ]
  },
  {
   "cell_type": "code",
   "execution_count": 120,
   "id": "82ad001c",
   "metadata": {},
   "outputs": [],
   "source": [
    "assert convertir_en_euros([100], 0.9) == [90.0], \"Votre fonction n'est pas bien implémentée !\""
   ]
  },
  {
   "cell_type": "markdown",
   "id": "97c700fe",
   "metadata": {},
   "source": [
    "## Exercice 8\n",
    "\n",
    "**Contexte :**  \n",
    "Une base de clients contient des âges. Implémente une fonction qui filtre ceux ayant plus de 30 ans.\n",
    "\n",
    "**Exemple :**  \n",
    "```python\n",
    "filtrer_clients([(\"Alice\", 25), (\"Bob\", 35), (\"Charlie\", 40)])\n",
    "```  \n",
    "**Output :**  \n",
    "```python\n",
    "[(\"Bob\", 35), (\"Charlie\", 40)]\n",
    "```"
   ]
  },
  {
   "cell_type": "code",
   "execution_count": 52,
   "id": "f622890d",
   "metadata": {},
   "outputs": [],
   "source": [
    "# Implémentez votre fonction ici\n",
    "def filtrer_clients(clients):\n",
    "    return [x for x in clients if x[1] > 30]"
   ]
  },
  {
   "cell_type": "code",
   "execution_count": 121,
   "id": "74e25a64",
   "metadata": {},
   "outputs": [],
   "source": [
    "assert filtrer_clients([(\"A\", 40), (\"B\", 20)]) == [(\"A\", 40)], \"Une erreur dans votre fonction\""
   ]
  },
  {
   "cell_type": "markdown",
   "id": "3f9c5480",
   "metadata": {},
   "source": [
    "## Exercice 9\n",
    "\n",
    "**Contexte :**  \n",
    "Une liste de numéros de téléphone est donnée sous différents formats. Transforme-les en format international (ex: `+33 6 12 34 56 78`).\n",
    "\n",
    "**Exemple :**  \n",
    "```python\n",
    "formater_telephone([\"0612345678\", \"0711122233\"], \"+33\")\n",
    "```  \n",
    "**Output :**  \n",
    "```python\n",
    "[\"+33 6 12 34 56 78\", \"+33 7 11 12 22 33\"]\n",
    "```"
   ]
  },
  {
   "cell_type": "code",
   "execution_count": 60,
   "id": "6963345a",
   "metadata": {},
   "outputs": [],
   "source": [
    "# Implémentez votre fonction ici\n",
    "def formater_telephone(numéro, code):\n",
    "    formats = []\n",
    "    for num in numéro:\n",
    "        num = num.replace(\" \", \"\").replace(\"-\", \"\")\n",
    "        formate = \" \".join(num[i:i+2] for i in range(0, len(num), 2))\n",
    "        formate = code + \" \" + formate\n",
    "        formats.append(formate)\n",
    "    return formats"
   ]
  },
  {
   "cell_type": "code",
   "execution_count": 122,
   "id": "c2e3676d",
   "metadata": {},
   "outputs": [],
   "source": [
    "assert formater_telephone([\"0600000000\"], \"+33\") == [\"+33 06 00 00 00 00\"], \"Erreur dans votre code !\""
   ]
  },
  {
   "cell_type": "markdown",
   "id": "0ab86546",
   "metadata": {},
   "source": [
    "## Exercice 10\n",
    "\n",
    "**Contexte :**  \n",
    "Une liste de valeurs contient des doublons. Identifie les éléments qui apparaissent plusieurs fois.\n",
    "\n",
    "**Exemple :**  \n",
    "```python\n",
    "detecter_doublons([1, 2, 3, 2, 4, 1, 5])\n",
    "```  \n",
    "**Output :**  \n",
    "```python\n",
    "[1, 2]\n",
    "```"
   ]
  },
  {
   "cell_type": "code",
   "execution_count": 65,
   "id": "7f8742f1",
   "metadata": {},
   "outputs": [],
   "source": [
    "# Implémentez votre fonction ici\n",
    "def detecter_doublons(liste):\n",
    "    doublon = []\n",
    "    for x in liste:\n",
    "        if liste.count(x) > 1 and x not in doublon:\n",
    "            doublon.append(x)\n",
    "    return doublon"
   ]
  },
  {
   "cell_type": "code",
   "execution_count": 123,
   "id": "23a11928",
   "metadata": {},
   "outputs": [],
   "source": [
    "assert detecter_doublons([5, 5, 5, 3, 2, 2]) == [5, 2], \"Une erreur dans votre code !\""
   ]
  },
  {
   "cell_type": "markdown",
   "id": "9e1aacc4",
   "metadata": {},
   "source": [
    "## Exercice 11\n",
    "\n",
    "**Contexte :**  \n",
    "Un enseignant dispose d’une liste de notes d’élèves et souhaite connaître la **moyenne**, la **note la plus haute** et la **note la plus basse**. Implémente une fonction qui retourne ces trois valeurs sous forme de tuple.\n",
    "\n",
    "**Exemple :**  \n",
    "```python\n",
    "calculer_statistiques([12, 15, 8, 19, 10])\n",
    "```  \n",
    "**Output :**  \n",
    "```python\n",
    "(12.8, 19, 8)\n",
    "```"
   ]
  },
  {
   "cell_type": "code",
   "execution_count": 69,
   "id": "13507827",
   "metadata": {},
   "outputs": [],
   "source": [
    "# Implémentez votre fonction ici\n",
    "def calculer_statistiques(notes):\n",
    "    stats = []\n",
    "    mean = sum(notes) / len(notes)\n",
    "    stats.append(mean)\n",
    "    maximum = max(notes)\n",
    "    stats.append(maximum)\n",
    "    minimum = min(notes)\n",
    "    stats.append(minimum)\n",
    "    return tuple(stats)"
   ]
  },
  {
   "cell_type": "code",
   "execution_count": 124,
   "id": "768c74dd",
   "metadata": {},
   "outputs": [],
   "source": [
    "assert calculer_statistiques([12, 15, 8, 19, 10]) == (12.8, 19, 8), \"Votre code n'est pas bon\"\n",
    "assert calculer_statistiques([20, 20, 20]) == (20.0, 20, 20), \"Votre code n'est pas bien implémenté\""
   ]
  },
  {
   "cell_type": "markdown",
   "id": "a122241d",
   "metadata": {},
   "source": [
    "## Exercice 12\n",
    "\n",
    "**Contexte :**  \n",
    "Une boutique en ligne dispose d’une liste de produits sous forme de tuples `(nom, prix)`. Implémente une fonction qui retourne un **dictionnaire associant chaque produit à son prix**.\n",
    "\n",
    "**Exemple :**  \n",
    "```python\n",
    "creer_catalogue([(\"Chaise\", 50), (\"Table\", 120), (\"Lampe\", 30)])\n",
    "```  \n",
    "**Output :**  \n",
    "```python\n",
    "{\"Chaise\": 50, \"Table\": 120, \"Lampe\": 30}\n",
    "```"
   ]
  },
  {
   "cell_type": "code",
   "execution_count": 71,
   "id": "ff941885",
   "metadata": {},
   "outputs": [],
   "source": [
    "# Implémentez votre fonction ici\n",
    "def creer_catalogue(catalogue:dict) -> dict:\n",
    "    return {x: y for x, y in catalogue}"
   ]
  },
  {
   "cell_type": "code",
   "execution_count": 125,
   "id": "9e667ccc",
   "metadata": {},
   "outputs": [],
   "source": [
    "assert creer_catalogue([(\"Chaise\", 50), (\"Table\", 120)]) == {\"Chaise\": 50, \"Table\": 120}, \"Votre code n'est pas bien implémenté\"\n",
    "assert creer_catalogue([]) == {}, \"Votre code n'est pas bien implémenté\""
   ]
  },
  {
   "cell_type": "markdown",
   "id": "4388c037",
   "metadata": {},
   "source": [
    "## Exercice 13 \n",
    "\n",
    "**Contexte :**  \n",
    "Une liste d’adresses e-mail est fournie. Implémente une fonction qui retourne celles qui **ne respectent pas le format standard** (doivent contenir `@` et `.`).\n",
    "\n",
    "**Exemple :**  \n",
    "```python\n",
    "verifier_emails([\"user@gmail.com\", \"admin@site\", \"contact@xyz.com\", \"email_sans_arobase\"])\n",
    "```  \n",
    "**Output :**  \n",
    "```python\n",
    "[\"admin@site\", \"email_sans_arobase\"]\n",
    "```"
   ]
  },
  {
   "cell_type": "code",
   "execution_count": 76,
   "id": "4817636e",
   "metadata": {},
   "outputs": [],
   "source": [
    "# Implémentez votre fonction ici\n",
    "def verifier_emails(mails:list) -> list:\n",
    "    return [x for x in mails if \"@\" and \".\" not in x]"
   ]
  },
  {
   "cell_type": "code",
   "execution_count": 126,
   "id": "dda9c569",
   "metadata": {},
   "outputs": [],
   "source": [
    "assert verifier_emails([\"abc@gmail.com\", \"xyz@site\"]) == [\"xyz@site\"], \"Votre code n'est pas bien implémenté\"\n",
    "assert verifier_emails([\"email@domain.com\"]) == [], \"Votre code n'est pas bien implémenté\""
   ]
  },
  {
   "cell_type": "markdown",
   "id": "0cbbe81e",
   "metadata": {},
   "source": [
    "## Exercice 14 \n",
    "\n",
    "**Contexte :**  \n",
    "Un dictionnaire contient des produits et leur prix unitaire. Une liste d’achats indique la **quantité de chaque produit commandé**. Calcule le **montant total à payer**.\n",
    "\n",
    "**Exemple :**  \n",
    "```python\n",
    "calculer_total_achat({\"pomme\": 2, \"banane\": 1.5, \"orange\": 3}, {\"pomme\": 3, \"banane\": 2, \"orange\" : 5})\n",
    "```  \n",
    "**Output :**  \n",
    "```python\n",
    "24.0  # (2*3) + (1.5*2) + (3*5)\n",
    "```"
   ]
  },
  {
   "cell_type": "code",
   "execution_count": 85,
   "id": "3ee0cf43",
   "metadata": {},
   "outputs": [],
   "source": [
    "# Implémentez votre fonction ici\n",
    "def calculer_total_achat(quantites:dict, prix:dict) -> float:\n",
    "    total = 0\n",
    "    for x, y in prix.items():\n",
    "        if x in quantites:\n",
    "            total += quantites[x] * y\n",
    "    return total          "
   ]
  },
  {
   "cell_type": "code",
   "execution_count": 127,
   "id": "511630d3",
   "metadata": {},
   "outputs": [],
   "source": [
    "assert calculer_total_achat({\"a\": 10, \"b\": 5}, {\"a\": 2, \"b\": 3}) == 35, \"Votre code n'est pas bien implémenté\"\n",
    "assert calculer_total_achat({}, {\"a\": 2}) == 0, \"Votre code n'est pas bien implémenté\""
   ]
  },
  {
   "cell_type": "markdown",
   "id": "5135d852",
   "metadata": {},
   "source": [
    "## Exercice 15\n",
    "\n",
    "**Contexte :**  \n",
    "Une base de données de clients contient des informations sur leur **ville de résidence**. Implémente une fonction qui regroupe les clients **par ville**.\n",
    "\n",
    "**Exemple :**  \n",
    "```python\n",
    "regrouper_clients([(\"Alice\", \"Paris\"), (\"Bob\", \"Lyon\"), (\"Charlie\", \"Paris\")])\n",
    "```  \n",
    "**Output :**  \n",
    "```python\n",
    "{\"Paris\": [\"Alice\", \"Charlie\"], \"Lyon\": [\"Bob\"]}\n",
    "```"
   ]
  },
  {
   "cell_type": "code",
   "execution_count": 87,
   "id": "48dbf958",
   "metadata": {},
   "outputs": [],
   "source": [
    "# Implémentez votre fonction ici\n",
    "def regrouper_clients(clients:list) -> dict:\n",
    "    villes = {}\n",
    "    for x, y in clients:\n",
    "        if y in villes:\n",
    "            villes[y].append(x)\n",
    "        else:\n",
    "            villes[y] = [x]\n",
    "    return villes"
   ]
  },
  {
   "cell_type": "code",
   "execution_count": 128,
   "id": "d7d4e934",
   "metadata": {},
   "outputs": [],
   "source": [
    "assert regrouper_clients([(\"A\", \"X\"), (\"B\", \"Y\"), (\"C\", \"X\")]) == {\"X\": [\"A\", \"C\"], \"Y\": [\"B\"]}, \"Votre code est mal implémenté\""
   ]
  },
  {
   "cell_type": "markdown",
   "id": "4a52041e",
   "metadata": {},
   "source": [
    "## Exercice 16\n",
    "\n",
    "**Contexte :**  \n",
    "Un entrepôt doit mettre à jour ses stocks après chaque vente. Implémente une fonction qui **diminue la quantité disponible** d’un produit après un achat.\n",
    "\n",
    "**Exemple :**  \n",
    "```python\n",
    "mettre_a_jour_stock({\"pomme\": [10, 3], \"banane\": [5, 0]})\n",
    "```  \n",
    "**Output :**  \n",
    "```python\n",
    "{\"pomme\": 7, \"banane\": 5}\n",
    "```"
   ]
  },
  {
   "cell_type": "code",
   "execution_count": 89,
   "id": "f2a21d6c",
   "metadata": {},
   "outputs": [],
   "source": [
    "# Implémentez votre fonction ici\n",
    "def mettre_a_jour_stock(inventaire):\n",
    "    mj = {}\n",
    "    for x, y in inventaire.items():\n",
    "        stock = y[0]\n",
    "        vendu = y[1]\n",
    "        mj[x] = stock - vendu\n",
    "    return mj"
   ]
  },
  {
   "cell_type": "code",
   "execution_count": 129,
   "id": "2940a422",
   "metadata": {},
   "outputs": [],
   "source": [
    "assert mettre_a_jour_stock({\"a\": [10, 4]}) == {\"a\": 6}, \"Votre code est mal implémenté\""
   ]
  },
  {
   "cell_type": "markdown",
   "id": "c516cab1",
   "metadata": {},
   "source": [
    "## Exercice 17 \n",
    "\n",
    "**Contexte :**  \n",
    "Un fichier de logs système contient des messages d’erreur. Identifie **les 5 erreurs les plus fréquentes**.\n",
    "\n",
    "**Exemple :**  \n",
    "```python\n",
    "analyser_logs([\"Error 404\", \"Error 500\", \"Error 404\", \"Error 404\", \"Error 500\", \"Error 403\"])\n",
    "```  \n",
    "**Output :**  \n",
    "```python\n",
    "[(\"Error 404\", 3), (\"Error 500\", 2), (\"Error 403\", 1)]\n",
    "```"
   ]
  },
  {
   "cell_type": "code",
   "execution_count": 91,
   "id": "4c20a64e",
   "metadata": {},
   "outputs": [],
   "source": [
    "# Implémentez votre fonction ici\n",
    "from collections import Counter\n",
    "\n",
    "def analyser_logs(liste):\n",
    "    counté = Counter(liste)\n",
    "    freq = counté.most_common(5)\n",
    "    return freq"
   ]
  },
  {
   "cell_type": "code",
   "execution_count": 130,
   "id": "7b21ce47",
   "metadata": {},
   "outputs": [],
   "source": [
    "assert analyser_logs([\"A\", \"A\", \"B\", \"B\", \"A\"]) == [(\"A\", 3), (\"B\", 2)], \"Votre code est mal implémenté\""
   ]
  },
  {
   "cell_type": "markdown",
   "id": "d614afd2",
   "metadata": {},
   "source": [
    "## Exercice 18\n",
    "\n",
    "**Contexte :**  \n",
    "Une liste de dates est fournie sous un format non standard. Convertis-les en **format `AAAA-MM-JJ`**.\n",
    "\n",
    "**Exemple :**  \n",
    "```python\n",
    "convertir_dates([\"12/01/2024\", \"05/08/2023\"])\n",
    "```  \n",
    "**Output :**  \n",
    "```python\n",
    "[\"2024-01-12\", \"2023-08-05\"]\n",
    "```"
   ]
  },
  {
   "cell_type": "code",
   "execution_count": 94,
   "id": "f82674ec",
   "metadata": {},
   "outputs": [],
   "source": [
    "# Implémentez votre fonction ici\n",
    "def convertir_dates(dates):\n",
    "    formatt = []\n",
    "    for date in dates:\n",
    "        jour, mois, année = date.split(\"/\")\n",
    "        formatee = f\"{année}-{mois}-{jour}\"\n",
    "        formatt.append(formatee)\n",
    "    return formatt"
   ]
  },
  {
   "cell_type": "code",
   "execution_count": 131,
   "id": "0265570c",
   "metadata": {},
   "outputs": [],
   "source": [
    "assert convertir_dates([\"01/02/2022\"]) == [\"2022-02-01\"], \"Le format des dates n'est pas le bon !\""
   ]
  },
  {
   "cell_type": "markdown",
   "id": "598e74db",
   "metadata": {},
   "source": [
    "## Exercice 19 \n",
    "\n",
    "**Contexte :**  \n",
    "Une entreprise doit générer **des mots de passe aléatoires** contenant lettres, chiffres et caractères spéciaux.\n",
    "\n",
    "**Exemple :**  \n",
    "```python\n",
    "generer_mot_de_passe(8)\n",
    "```  \n",
    "**Output (exemple aléatoire) :**  \n",
    "```python\n",
    "\"X3@t4!zA\"\n",
    "```"
   ]
  },
  {
   "cell_type": "code",
   "execution_count": 102,
   "id": "6b0618c7",
   "metadata": {},
   "outputs": [],
   "source": [
    "# Implémentez votre fonction ici\n",
    "import random\n",
    "import string\n",
    "\n",
    "def generer_mot_de_passe(long):\n",
    "    caract = string.ascii_letters + string.digits + string.punctuation\n",
    "    mot_de_passe = ''.join(random.choice(caract) for _ in range(long))\n",
    "    return mot_de_passe"
   ]
  },
  {
   "cell_type": "code",
   "execution_count": 132,
   "id": "ed836464",
   "metadata": {},
   "outputs": [],
   "source": [
    "assert len(generer_mot_de_passe(10)) == 10, \"Votre fonction ne respecte pas les instructions\""
   ]
  },
  {
   "cell_type": "markdown",
   "id": "5cc8ffd7",
   "metadata": {},
   "source": [
    "## Exercice 20 \n",
    "\n",
    "**Contexte :**  \n",
    "Un texte contient des mots répétés. Remplace les mots apparaissant au moins 3 fois par une abréviation unique.\n",
    "\n",
    "**Exemple :**  \n",
    "```python\n",
    "compresser_texte(\"le chat dort, le chat mange, le chat boit\")\n",
    "```  \n",
    "**Output :**  \n",
    "```python\n",
    "\"le c1 dort, le c1 mange, le c1 boit\"  # \"chat\" devient \"c1\"\n",
    "```"
   ]
  },
  {
   "cell_type": "code",
   "execution_count": 111,
   "id": "e0eca10a",
   "metadata": {},
   "outputs": [],
   "source": [
    "# Implémentez votre fonction ici\n",
    "def compresser_texte(texte):\n",
    "    mots = texte.split()\n",
    "    compt = {}\n",
    "    abre = {}\n",
    "    texte_compress = []\n",
    "\n",
    "    for mot in mots:\n",
    "        compt[mot] = compt.get(mot, 0) + 1\n",
    "\n",
    "    abre_index = 1\n",
    "    for mot, count in compt.items():\n",
    "        if count >= 3:\n",
    "            abre[mot] = f\"{mot[0]}{abre_index}\"\n",
    "            abre_index += 1\n",
    "\n",
    "    for mot in mots:\n",
    "        if mot in abre:\n",
    "            texte_compress.append(abre[mot])\n",
    "        else:\n",
    "            texte_compress.append(mot)\n",
    "\n",
    "    return \" \".join(texte_compress)"
   ]
  },
  {
   "cell_type": "code",
   "execution_count": 133,
   "id": "158aad2e",
   "metadata": {},
   "outputs": [],
   "source": [
    "assert compresser_texte(\"un un un un deux deux trois\") == \"u1 u1 u1 u1 deux deux trois\", \"Une erreur s'est glissée dans votre code\""
   ]
  },
  {
   "cell_type": "markdown",
   "id": "2098c65e",
   "metadata": {},
   "source": [
    "## Exercice 21 \n",
    "\n",
    "**Contexte :**  \n",
    "Une liste d'étudiants `(nom, âge)` est donnée. Implémente une fonction qui classe les personnes en trois groupes :  \n",
    "- `moins de 20 ans`  \n",
    "- `20-40 ans`  \n",
    "- `plus de 40 ans`  \n",
    "\n",
    "**Exemple :**  \n",
    "```python\n",
    "regrouper_par_age([(\"Alice\", 25), (\"Bob\", 17), (\"Charlie\", 45), (\"David\", 33)])\n",
    "```  \n",
    "**Output :**  \n",
    "```python\n",
    "{\n",
    "    \"moins de 20 ans\": [\"Bob\"],\n",
    "    \"20-40 ans\": [\"Alice\", \"David\"],\n",
    "    \"plus de 40 ans\": [\"Charlie\"]\n",
    "}\n",
    "```"
   ]
  },
  {
   "cell_type": "code",
   "execution_count": 134,
   "id": "db386c99",
   "metadata": {},
   "outputs": [],
   "source": [
    "# Implémentez votre fonction ici\n",
    "def regrouper_par_age(etudiants:tuple) -> dict:\n",
    "    groupes = {\n",
    "        \"moins de 20 ans\": [],\n",
    "        \"20-40 ans\": [],\n",
    "        \"plus de 40 ans\": []\n",
    "    }\n",
    "    \n",
    "    for nom, age in etudiants:\n",
    "        if age < 20:\n",
    "            groupes[\"moins de 20 ans\"].append(nom)\n",
    "        elif 20 <= age <= 40:\n",
    "            groupes[\"20-40 ans\"].append(nom)\n",
    "        else:\n",
    "            groupes[\"plus de 40 ans\"].append(nom)\n",
    "    \n",
    "    return groupes"
   ]
  },
  {
   "cell_type": "code",
   "execution_count": 135,
   "id": "07229ed6",
   "metadata": {},
   "outputs": [],
   "source": [
    "assert regrouper_par_age([(\"X\", 18), (\"Y\", 35), (\"Z\", 50)]) == {\n",
    "    \"moins de 20 ans\": [\"X\"], \"20-40 ans\": [\"Y\"], \"plus de 40 ans\": [\"Z\"]\n",
    "}, \"Une erreur s'est glissée dans votre code\""
   ]
  },
  {
   "cell_type": "markdown",
   "id": "f9c27bd2",
   "metadata": {},
   "source": [
    "## Exercice 22\n",
    "\n",
    "**Contexte :**  \n",
    "Un joueur de jeu vidéo reçoit des scores pour chaque partie. Implémente une fonction qui prend une liste de scores et retourne la moyenne des 5 meilleurs scores.\n",
    "\n",
    "**Exemple :**  \n",
    "```python\n",
    "moyenne_top5([10, 20, 30, 40, 50, 60, 70])\n",
    "```  \n",
    "**Output :**  \n",
    "```python\n",
    "50.0\n",
    "```"
   ]
  },
  {
   "cell_type": "code",
   "execution_count": 144,
   "id": "f086863b",
   "metadata": {},
   "outputs": [],
   "source": [
    "# Implémentez votre fonction ici\n",
    "def moyenne_top5(score:list) -> float:\n",
    "    tri = sorted(score, reverse=True)\n",
    "    top5 = tri[:5]\n",
    "    return sum(top5) / len(top5)"
   ]
  },
  {
   "cell_type": "code",
   "execution_count": 145,
   "id": "0254ee2b",
   "metadata": {},
   "outputs": [],
   "source": [
    "assert moyenne_top5([5, 15, 25, 35, 45, 55]) == 35.0, \"Votre fonction contient une erreur !\""
   ]
  },
  {
   "cell_type": "markdown",
   "id": "a55e7ce9",
   "metadata": {},
   "source": [
    "## Exercice 23 \n",
    "\n",
    "**Contexte :**  \n",
    "Deux fichiers texte sont fournis sous forme de listes de lignes. Implémente une fonction qui identifie les lignes présentes dans l’un mais pas dans l’autre.\n",
    "\n",
    "**Exemple :**  \n",
    "```python\n",
    "comparer_fichiers([\"Ligne 1\", \"Ligne 2\", \"Ligne 3\"], [\"Ligne 2\", \"Ligne 3\", \"Ligne 4\"])\n",
    "```  \n",
    "**Output :**  \n",
    "```python\n",
    "{\"Lignes uniques fichier 1\": [\"Ligne 1\"], \"Lignes uniques fichier 2\": [\"Ligne 4\"]}\n",
    "```"
   ]
  },
  {
   "cell_type": "code",
   "execution_count": 152,
   "id": "cc47fb0d",
   "metadata": {},
   "outputs": [],
   "source": [
    "# Implémentez votre fonction ici\n",
    "def comparer_fichiers(*fichiers):\n",
    "    ensembles = [set(fichier) for fichier in fichiers]\n",
    "    \n",
    "    unique = {}\n",
    "    for i, ensemble in enumerate(ensembles):\n",
    "        autres = [e for j, e in enumerate(ensembles) if i != j]\n",
    "        unique[f\"Lignes uniques fichier {i + 1}\"] = list(ensemble.difference(*autres))\n",
    "    \n",
    "    return unique"
   ]
  },
  {
   "cell_type": "code",
   "execution_count": 153,
   "id": "9b53983b",
   "metadata": {},
   "outputs": [],
   "source": [
    "assert comparer_fichiers([\"A\", \"B\"], [\"B\", \"C\"], [\"D\", \"Z\", \"P\"]) == {\"Lignes uniques fichier 1\": [\"A\"], \"Lignes uniques fichier 2\": [\"C\"], \"Lignes uniques fichier 3\": [\"D\", \"Z\", \"P\"]}, \"Votre code contient une erreur !\""
   ]
  },
  {
   "cell_type": "markdown",
   "id": "2394b059",
   "metadata": {},
   "source": [
    "## Exercice 24\n",
    "\n",
    "**Contexte :**  \n",
    "Une liste de mots est fournie. Implémente une fonction qui retourne tous les groupes d’anagrammes.\n",
    "\n",
    "**Exemple :**  \n",
    "```python\n",
    "detecter_anagrammes([\"chien\", \"niche\", \"écoute\", \"touche\", \"chien\", \"chemin\"])\n",
    "```  \n",
    "**Output :**  \n",
    "```python\n",
    "{\"chien\": [\"chien\", \"niche\"], \"écoute\": [\"écoute\", \"touche\"]}\n",
    "```"
   ]
  },
  {
   "cell_type": "code",
   "execution_count": 154,
   "id": "03b5cead",
   "metadata": {},
   "outputs": [],
   "source": [
    "# Implémentez votre fonction ici\n",
    "from collections import defaultdict\n",
    "\n",
    "def detecter_anagrammes(mots):\n",
    "    anagrammes = defaultdict(list)\n",
    "    for mot in mots:\n",
    "        cle = \"\".join(sorted(mot))\n",
    "        anagrammes[cle].append(mot)   \n",
    "    result = {v[0]: v for v in anagrammes.values() if len(v) > 1}\n",
    "    \n",
    "    return result"
   ]
  },
  {
   "cell_type": "code",
   "execution_count": 155,
   "id": "6ca5fd3e",
   "metadata": {},
   "outputs": [],
   "source": [
    "assert detecter_anagrammes([\"abcd\", \"bcda\", \"xyz\", \"zyx\"]) == {\"abcd\": [\"abcd\", \"bcda\"], \"xyz\": [\"xyz\", \"zyx\"]}, \"Votre code contient une erreur !\""
   ]
  },
  {
   "cell_type": "markdown",
   "id": "0094f3cc",
   "metadata": {},
   "source": [
    "## Exercice 25\n",
    "\n",
    "**Contexte :**  \n",
    "Un grand ensemble de données est trié. Implémente une recherche binaire pour retrouver une valeur donnée efficacement. Ne pas utiliser la fonction index()\n",
    "\n",
    "**Exemple :**  \n",
    "```python\n",
    "recherche_binaire([1, 3, 5, 7, 9], 5)\n",
    "```  \n",
    "**Output :**  \n",
    "```python\n",
    "2  # Position de l'élément trouvé\n",
    "```"
   ]
  },
  {
   "cell_type": "code",
   "execution_count": 158,
   "id": "45e09f00",
   "metadata": {},
   "outputs": [],
   "source": [
    "# Implémentez votre fonction ici\n",
    "def recherche_binaire(liste, valeur):\n",
    "    debut = 0\n",
    "    fin = len(liste) - 1\n",
    "    while debut <= fin:\n",
    "        milieu = (debut + fin) // 2\n",
    "        if liste[milieu] == valeur:\n",
    "            return milieu\n",
    "        elif liste[milieu] < valeur:\n",
    "            debut = milieu + 1\n",
    "        else:\n",
    "            fin = milieu - 1\n",
    "    \n",
    "    return -1"
   ]
  },
  {
   "cell_type": "code",
   "execution_count": 160,
   "id": "e6eba1e6",
   "metadata": {},
   "outputs": [],
   "source": [
    "assert recherche_binaire([2, 4, 6, 8, 10], 8) == 3\n",
    "assert recherche_binaire([2, 4, 6, 8, 10], 2) == 0"
   ]
  },
  {
   "cell_type": "markdown",
   "id": "a866cf69",
   "metadata": {},
   "source": [
    "## Exercice 26\n",
    "**Contexte :**  \n",
    "Un site web doit générer des identifiants uniques pour chaque nouvel utilisateur. L’identifiant est formé des 3 premières lettres du prénom + 3 premières lettres du nom.\n",
    "\n",
    "**Exemple :**  \n",
    "```python\n",
    "generer_identifiant(\"Alice\", \"Dupont\")\n",
    "```  \n",
    "**Output (exemple aléatoire) :**  \n",
    "```python\n",
    "\"AliDup\"\n",
    "```"
   ]
  },
  {
   "cell_type": "code",
   "execution_count": 161,
   "id": "0f0b2e95",
   "metadata": {},
   "outputs": [],
   "source": [
    "# Implémentez votre fonction ici\n",
    "def generer_identifiant(prenom, nom):\n",
    "    identifiant = prenom[:3] + nom[:3]\n",
    "    return identifiant"
   ]
  },
  {
   "cell_type": "code",
   "execution_count": 162,
   "id": "dfffefec",
   "metadata": {},
   "outputs": [],
   "source": [
    "assert len(generer_identifiant(\"Paul\", \"Martin\")) == 6"
   ]
  },
  {
   "cell_type": "markdown",
   "id": "1d862438",
   "metadata": {},
   "source": [
    "## Exercice 27 \n",
    "\n",
    "**Contexte :**  \n",
    "Un mot ou une phrase est fournie. Implémente une fonction qui vérifie si c’est un palindrome.\n",
    "\n",
    "**Exemple :**  \n",
    "```python\n",
    "est_palindrome(\"radar\")\n",
    "```  \n",
    "**Output :**  \n",
    "```python\n",
    "True\n",
    "```"
   ]
  },
  {
   "cell_type": "code",
   "execution_count": 163,
   "id": "124ee42b",
   "metadata": {},
   "outputs": [],
   "source": [
    "# Implémentez votre fonction ici\n",
    "def est_palindrome(texte):\n",
    "    texte = texte.replace(\" \", \"\").lower()\n",
    "    return texte == texte[::-1]"
   ]
  },
  {
   "cell_type": "code",
   "execution_count": 164,
   "id": "32e245cb",
   "metadata": {},
   "outputs": [],
   "source": [
    "assert est_palindrome(\"racecar\") == True\n",
    "assert est_palindrome(\"python\") == False"
   ]
  },
  {
   "cell_type": "markdown",
   "id": "146f094e",
   "metadata": {},
   "source": [
    "## Exercice 28 \n",
    "\n",
    "**Contexte :**  \n",
    "Implémente un algorithme simple où chaque lettre est remplacée par la suivante dans l’alphabet (`a -> b`, `b -> c`, etc.).\n",
    "\n",
    "**Exemple :**  \n",
    "```python\n",
    "chiffrer(\"abc\")\n",
    "```  \n",
    "**Output :**  \n",
    "```python\n",
    "\"bcd\"\n",
    "```"
   ]
  },
  {
   "cell_type": "code",
   "execution_count": 166,
   "id": "5db47415",
   "metadata": {},
   "outputs": [],
   "source": [
    "# Implémentez votre fonction ici\n",
    "def chiffrer(texte):\n",
    "    result = []\n",
    "    for char in texte:\n",
    "        if char.isalpha():  \n",
    "            if char.lower() == 'z':\n",
    "                newlet = 'a'\n",
    "            else:\n",
    "                newlet = chr(ord(char) + 1)\n",
    "                if char.isupper():\n",
    "                    newlet = newlet.upper()\n",
    "            result.append(newlet)\n",
    "        else:\n",
    "            resultat.append(char)\n",
    "    return ''.join(result)"
   ]
  },
  {
   "cell_type": "code",
   "execution_count": 167,
   "id": "4cf0ee1f",
   "metadata": {},
   "outputs": [],
   "source": [
    "assert chiffrer(\"xyz\") == \"yza\""
   ]
  },
  {
   "cell_type": "markdown",
   "id": "3a6a7f23",
   "metadata": {},
   "source": [
    "## Exercice 29 \n",
    "\n",
    "**Contexte :**  \n",
    "Une série de valeurs suit une certaine tendance. Implémente une fonction qui prédit les 5 prochaines valeurs.\n",
    "\n",
    "**Exemple :**  \n",
    "```python\n",
    "predire_sequence([2, 4, 6, 8])\n",
    "```  \n",
    "**Output :**  \n",
    "```python\n",
    "[10, 12, 14, 16, 18]\n",
    "```"
   ]
  },
  {
   "cell_type": "code",
   "execution_count": 170,
   "id": "cd8a89dd",
   "metadata": {},
   "outputs": [],
   "source": [
    "# Implémentez votre fonction ici\n",
    "def predire_sequence(sequence):\n",
    "    if len(sequence) < 2:\n",
    "        raise ValueError(\"La séquence doit contenir au moins deux valeurs.\")\n",
    "    \n",
    "    difference = sequence[1] - sequence[0]\n",
    "    valeurs = []\n",
    "    for i in range(5):\n",
    "        next_value = sequence[-1] + difference * (i + 1)\n",
    "        valeurs.append(next_value)\n",
    "    \n",
    "    return valeurs"
   ]
  },
  {
   "cell_type": "code",
   "execution_count": 171,
   "id": "978872c4",
   "metadata": {},
   "outputs": [],
   "source": [
    "assert predire_sequence([1, 3, 5]) == [7, 9, 11, 13, 15]"
   ]
  },
  {
   "cell_type": "markdown",
   "id": "bcf86417",
   "metadata": {},
   "source": [
    "## Exercice 30\n",
    "\n",
    "**Contexte :**  \n",
    "Une base de données contient des informations sur les trajets de bus. Implémente une fonction qui identifie les lignes les plus utilisées.\n",
    "\n",
    "**Exemple :**  \n",
    "```python\n",
    "analyser_trafic([(\"Ligne A\", 100), (\"Ligne B\", 150), (\"Ligne A\", 50)])\n",
    "```  \n",
    "**Output :**  \n",
    "```python\n",
    "{\"Ligne A\": 150, \"Ligne B\": 150}\n",
    "```"
   ]
  },
  {
   "cell_type": "code",
   "execution_count": 172,
   "id": "b4f45ce3",
   "metadata": {},
   "outputs": [],
   "source": [
    "# Implémentez votre fonction ici\n",
    "from collections import defaultdict\n",
    "\n",
    "def analyser_trafic(trafic):\n",
    "    total = defaultdict(int)\n",
    "    for ligne, passagers in trafic:\n",
    "        total[ligne] += passagers\n",
    "    \n",
    "    return dict(total)  "
   ]
  },
  {
   "cell_type": "code",
   "execution_count": 173,
   "id": "619fea3b",
   "metadata": {},
   "outputs": [],
   "source": [
    "assert analyser_trafic([(\"X\", 200), (\"Y\", 300), (\"X\", 100)]) == {\"X\": 300, \"Y\": 300}"
   ]
  },
  {
   "cell_type": "markdown",
   "id": "5448b3ec",
   "metadata": {},
   "source": [
    "## Exercice 31 \n",
    "\n",
    "Une école attribue des notes A, B, C, D, E en fonction d’un score numérique. Implémente une fonction qui prend un score sur 100 et retourne la lettre correspondante selon ce barème :  \n",
    "- 90-100 → A  \n",
    "- 80-89 → B  \n",
    "- 70-79 → C  \n",
    "- 60-69 → D  \n",
    "- 0-59 → E  \n",
    "\n",
    "**Exemple :**  \n",
    "```python\n",
    "attribuer_note(85)\n",
    "```  \n",
    "**Output :**  \n",
    "```python\n",
    "'B'\n",
    "```"
   ]
  },
  {
   "cell_type": "code",
   "execution_count": 176,
   "id": "1e446e4b",
   "metadata": {},
   "outputs": [],
   "source": [
    "# Implémentez votre fonction ici\n",
    "def attribuer_note(score):\n",
    "    if 90 <= score <= 100:\n",
    "        return 'A'\n",
    "    elif 80 <= score <= 89:\n",
    "        return 'B'\n",
    "    elif 70 <= score <= 79:\n",
    "        return 'C'\n",
    "    elif 60 <= score <= 69:\n",
    "        return 'D'\n",
    "    else:\n",
    "        return 'E'"
   ]
  },
  {
   "cell_type": "code",
   "execution_count": 177,
   "id": "6cfb6c93",
   "metadata": {},
   "outputs": [],
   "source": [
    "assert attribuer_note(92) == 'A', 'Erreur : la note attribuée est incorrecte'\n",
    "assert attribuer_note(70) == 'C', 'Erreur : la note attribuée est incorrecte'\n",
    "assert attribuer_note(55) == 'E', 'Erreur : la note attribuée est incorrecte'"
   ]
  },
  {
   "cell_type": "markdown",
   "id": "4435aa34",
   "metadata": {},
   "source": [
    "## Exercice 32 \n",
    "\n",
    "Deux fichiers contenant des données clients doivent être fusionnés sans créer de doublons. Implémente une fonction qui prend deux listes de clients et retourne une liste sans doublons.\n",
    "\n",
    "**Exemple :**  \n",
    "```python\n",
    "fusionner_bases([\"Alice\", \"Bob\"], [\"Bob\", \"Charlie\"])\n",
    "```  \n",
    "**Output :**  \n",
    "```python\n",
    "[\"Alice\", \"Bob\", \"Charlie\"]\n",
    "```"
   ]
  },
  {
   "cell_type": "code",
   "execution_count": 182,
   "id": "20c71635",
   "metadata": {},
   "outputs": [],
   "source": [
    "# Implémentez votre fonction ici\n",
    "from collections import OrderedDict\n",
    "\n",
    "def fusionner_bases(liste1, liste2):\n",
    "    fusion = list(OrderedDict.fromkeys(liste1 + liste2))\n",
    "    return fusion"
   ]
  },
  {
   "cell_type": "code",
   "execution_count": 183,
   "id": "84ded066",
   "metadata": {},
   "outputs": [],
   "source": [
    "assert fusionner_bases([\"X\", \"Y\"], [\"Y\", \"Z\"]) == [\"X\", \"Y\", \"Z\"], 'Erreur : les doublons ne sont pas bien gérés'\n",
    "assert fusionner_bases([\"A\", \"B\"], [\"B\", \"C\", \"D\"]) == [\"A\", \"B\", \"C\", \"D\"], 'Erreur : la fusion est incorrecte'"
   ]
  },
  {
   "cell_type": "markdown",
   "id": "ce9fd751",
   "metadata": {},
   "source": [
    "## Exercice 33 \n",
    "\n",
    "Un historique d’achats est fourni sous forme de dictionnaire `{client: nombre_achats}`. Implémente une fonction qui classe les clients du plus au moins fidèle et retourne les 10 premiers.\n",
    "\n",
    "**Exemple :**  \n",
    "```python\n",
    "clients_fideles({\"Alice\": 5, \"Bob\": 12, \"Charlie\": 8})\n",
    "```  \n",
    "**Output :**  \n",
    "```python\n",
    "[\"Bob\", \"Charlie\", \"Alice\"]\n",
    "```"
   ]
  },
  {
   "cell_type": "code",
   "execution_count": 184,
   "id": "16b95238",
   "metadata": {},
   "outputs": [],
   "source": [
    "# Implémentez votre fonction ici\n",
    "def clients_fideles(historique):\n",
    "    tri = sorted(historique.items(), key=lambda x: x[1], reverse=True)\n",
    "    top = [client for client, achats in tri[:10]]\n",
    "    return top"
   ]
  },
  {
   "cell_type": "code",
   "execution_count": 185,
   "id": "483d46c8",
   "metadata": {},
   "outputs": [],
   "source": [
    "assert clients_fideles({\"X\": 15, \"Y\": 20, \"Z\": 10}) == [\"Y\", \"X\", \"Z\"], 'Erreur : le classement des clients est incorrect'"
   ]
  },
  {
   "cell_type": "markdown",
   "id": "ec1564cb",
   "metadata": {},
   "source": [
    "## Exercice 34 \n",
    "\n",
    "Un programme doit fusionner plusieurs fichiers CSV en supprimant les lignes en double. Implémente une fonction qui prend une liste de noms de fichiers et retourne `\"CSV fusionné avec succès\"` si les deux fichiers ont moins de deux caractères de différents dans le nom. Sinon `\"Les deux fichiers ne peuvent pas ête fusionnés\"`\n",
    "\n",
    "**Exemple :**  \n",
    "```python\n",
    "fusionner_csv([\"file1.csv\", \"file2.csv\"])\n",
    "```  \n",
    "**Output :**  \n",
    "```python\n",
    "\"CSV fusionné avec succès\"\n",
    "```"
   ]
  },
  {
   "cell_type": "code",
   "execution_count": 186,
   "id": "83afceea",
   "metadata": {},
   "outputs": [],
   "source": [
    "# Implémentez votre fonction ici\n",
    "def fusionner_csv(fichiers):\n",
    "    def difference_caracteres(str1, str2):\n",
    "        return sum(1 for a, b in zip(str1, str2) if a != b) + abs(len(str1) - len(str2))\n",
    "    \n",
    "    if len(fichiers) != 2:\n",
    "        return \"Veuillez fournir exactement deux fichiers.\"\n",
    "    \n",
    "    fichier1, fichier2 = fichiers\n",
    "    if difference_caracteres(fichier1, fichier2) < 2:\n",
    "        return \"CSV fusionné avec succès\"\n",
    "    else:\n",
    "        return \"Les deux fichiers ne peuvent pas être fusionnés\""
   ]
  },
  {
   "cell_type": "code",
   "execution_count": 187,
   "id": "a6a7443d",
   "metadata": {},
   "outputs": [
    {
     "ename": "AssertionError",
     "evalue": "Erreur : la fusion des fichiers CSV a échoué",
     "output_type": "error",
     "traceback": [
      "\u001b[1;31m---------------------------------------------------------------------------\u001b[0m",
      "\u001b[1;31mAssertionError\u001b[0m                            Traceback (most recent call last)",
      "Cell \u001b[1;32mIn[187], line 2\u001b[0m\n\u001b[0;32m      1\u001b[0m \u001b[38;5;28;01massert\u001b[39;00m fusionner_csv([\u001b[38;5;124m\"\u001b[39m\u001b[38;5;124mdata1.csv\u001b[39m\u001b[38;5;124m\"\u001b[39m, \u001b[38;5;124m\"\u001b[39m\u001b[38;5;124mdata2.csv\u001b[39m\u001b[38;5;124m\"\u001b[39m]) \u001b[38;5;241m==\u001b[39m \u001b[38;5;124m\"\u001b[39m\u001b[38;5;124mCSV fusionné avec succès\u001b[39m\u001b[38;5;124m\"\u001b[39m, \u001b[38;5;124m'\u001b[39m\u001b[38;5;124mErreur : la fusion des fichiers CSV a échoué\u001b[39m\u001b[38;5;124m'\u001b[39m\n\u001b[1;32m----> 2\u001b[0m \u001b[38;5;28;01massert\u001b[39;00m fusionner_csv([\u001b[38;5;124m\"\u001b[39m\u001b[38;5;124mdata1.csv\u001b[39m\u001b[38;5;124m\"\u001b[39m, \u001b[38;5;124m\"\u001b[39m\u001b[38;5;124mfile2.csv\u001b[39m\u001b[38;5;124m\"\u001b[39m]) \u001b[38;5;241m==\u001b[39m \u001b[38;5;124m\"\u001b[39m\u001b[38;5;124mLes deux fichiers ne peuvent pas ête fusionnés\u001b[39m\u001b[38;5;124m\"\u001b[39m, \u001b[38;5;124m'\u001b[39m\u001b[38;5;124mErreur : la fusion des fichiers CSV a échoué\u001b[39m\u001b[38;5;124m'\u001b[39m\n",
      "\u001b[1;31mAssertionError\u001b[0m: Erreur : la fusion des fichiers CSV a échoué"
     ]
    }
   ],
   "source": [
    "assert fusionner_csv([\"data1.csv\", \"data2.csv\"]) == \"CSV fusionné avec succès\", 'Erreur : la fusion des fichiers CSV a échoué'\n",
    "assert fusionner_csv([\"data1.csv\", \"file2.csv\"]) == \"Les deux fichiers ne peuvent pas ête fusionnés\", 'Erreur : la fusion des fichiers CSV a échoué'"
   ]
  },
  {
   "cell_type": "markdown",
   "id": "6a69bfab",
   "metadata": {},
   "source": [
    "## Exercice 35 \n",
    "\n",
    "Une entreprise de transport doit minimiser les distances parcourues par ses livreurs en regroupant les livraisons proches. Implémente une fonction qui trie les coordonnées des livraisons.\n",
    "\n",
    "**Exemple :**  \n",
    "```python\n",
    "optimiser_trajets([(2,3), (5,1), (1,4)])\n",
    "```  \n",
    "**Output :**  \n",
    "```python\n",
    "[(1,4), (2,3), (5,1)]\n",
    "```"
   ]
  },
  {
   "cell_type": "code",
   "execution_count": 188,
   "id": "dbf85293",
   "metadata": {},
   "outputs": [],
   "source": [
    "# Implémentez votre fonction ici\n",
    "def optimiser_trajets(trajets:list) -> list:\n",
    "    tri = sorted(trajets)\n",
    "    return tri"
   ]
  },
  {
   "cell_type": "code",
   "execution_count": 189,
   "id": "5a9c72d8",
   "metadata": {},
   "outputs": [],
   "source": [
    "assert optimiser_trajets([(1,2), (3,4)]) == [(1,2), (3,4)], 'Erreur : l’optimisation des trajets est incorrecte'"
   ]
  },
  {
   "cell_type": "markdown",
   "id": "2fddc224",
   "metadata": {},
   "source": [
    "## Exercice 36 \n",
    "\n",
    "Un programme doit vérifier si un fichier JSON d'étudiants (nom et age) contient toutes les clés requises et signaler les erreurs si elles sont absentes.\n",
    "\n",
    "**Exemple :**  \n",
    "```python\n",
    "verifier_json({\"nom\": \"Alice\", \"age\": 30})\n",
    "```  \n",
    "**Output :**  \n",
    "```python\n",
    "\"JSON valide\" # En cas d'erreur il aurait renvoyé \"Erreur : clé manquante\"\n",
    "```"
   ]
  },
  {
   "cell_type": "code",
   "execution_count": 190,
   "id": "197b9a87",
   "metadata": {},
   "outputs": [],
   "source": [
    "# Implémentez votre fonction ici\n",
    "def verifier_json(json):\n",
    "    krequises = {\"nom\", \"age\"}\n",
    "    kpresentes = set(json.keys())\n",
    "    if krequises.issubset(kpresentes):\n",
    "        return \"JSON valide\"\n",
    "    else:\n",
    "        return \"Erreur : clé manquante\""
   ]
  },
  {
   "cell_type": "code",
   "execution_count": 191,
   "id": "38d5f959",
   "metadata": {},
   "outputs": [],
   "source": [
    "assert verifier_json({\"nom\": \"Bob\"}) == \"Erreur : clé manquante\", 'Erreur : la validation JSON ne fonctionne pas'"
   ]
  },
  {
   "cell_type": "markdown",
   "id": "cae66e5d",
   "metadata": {},
   "source": [
    "## Exercice 37\n",
    "\n",
    "Un programme analyse une liste de transactions bancaires et détecte les opérations suspectes (supérieures à 5000€).\n",
    "\n",
    "**Exemple :**  \n",
    "```python\n",
    "detecter_fraudes([100, 5000, 200, 8000])\n",
    "```  \n",
    "**Output :**  \n",
    "```python\n",
    "[5000, 8000]\n",
    "```"
   ]
  },
  {
   "cell_type": "code",
   "execution_count": 196,
   "id": "93875472",
   "metadata": {},
   "outputs": [],
   "source": [
    "# Implémentez votre fonction ici\n",
    "def detecter_fraudes(transactions):\n",
    "    fraude = [transaction for transaction in transactions if transaction >= 5000]\n",
    "    return fraude"
   ]
  },
  {
   "cell_type": "code",
   "execution_count": 197,
   "id": "b226893a",
   "metadata": {},
   "outputs": [],
   "source": [
    "assert detecter_fraudes([50, 1000, 7000]) == [7000], 'Erreur : la détection des fraudes est incorrecte'"
   ]
  },
  {
   "cell_type": "markdown",
   "id": "d1d9f2bf",
   "metadata": {},
   "source": [
    "## Exercice 38\n",
    "\n",
    "Un programme analyse les achats sur plusieurs mois et identifie les produits dont les ventes augmentent fortement.\n",
    "\n",
    "**Exemple :**  \n",
    "```python\n",
    "analyser_tendances({\"pomme\": [100, 120, 140], \"banane\": [50, 45, 40]})\n",
    "```  \n",
    "**Output :**  \n",
    "```python\n",
    "[\"pomme\"]\n",
    "```"
   ]
  },
  {
   "cell_type": "code",
   "execution_count": 192,
   "id": "17b3cda9",
   "metadata": {},
   "outputs": [],
   "source": [
    "# Implémentez votre fonction ici\n",
    "def analyser_tendances(vente):\n",
    "    prodforts = []\n",
    "    for prod, mois in vente.items():\n",
    "        if len(mois) >= 2 and mois[-1] > mois[-2] and (mois[-1] - mois[-2]) / mois[-2] > 0.2:\n",
    "            prodforts.append(prod)\n",
    "    return prodforts"
   ]
  },
  {
   "cell_type": "code",
   "execution_count": 193,
   "id": "81fce69e",
   "metadata": {},
   "outputs": [],
   "source": [
    "assert analyser_tendances({\"A\": [10, 20, 30], \"B\": [5, 4, 3]}) == [\"A\"], 'Erreur : l’analyse des tendances est incorrecte'"
   ]
  },
  {
   "cell_type": "markdown",
   "id": "ab816bf0",
   "metadata": {},
   "source": [
    "## Exercice 39\n",
    "\n",
    "Un programme doit indiquer chaque fois qu’une fonction est appelée. Implémente un décorateur qui affiche `Exécution de la fonction <nom>...` avant l’exécution de la fonction. Ce décorateur devra fonctionner avec n’importe quelle fonction.\n",
    "\n",
    "**Exemple :**  \n",
    "```python\n",
    "@afficher_execution\n",
    "def dire_bonjour():\n",
    "    return \"Bonjour!\"\n",
    "\n",
    "dire_bonjour()\n",
    "```  \n",
    "**Output :**  \n",
    "```python\n",
    "Exécution de la fonction dire_bonjour...\n",
    "\"Bonjour!\"\n",
    "```"
   ]
  },
  {
   "cell_type": "code",
   "execution_count": 198,
   "id": "d2ad4c17",
   "metadata": {},
   "outputs": [],
   "source": [
    "# Implémentez votre fonction ici\n",
    "def afficher_execution(fonction):\n",
    "    def wrapper(*args, **kwargs):\n",
    "        print(f\"Exécution de la fonction {fonction.__name__}...\")\n",
    "        return fonction(*args, **kwargs)\n",
    "    return wrapper"
   ]
  },
  {
   "cell_type": "code",
   "execution_count": 199,
   "id": "7a67f714",
   "metadata": {},
   "outputs": [
    {
     "name": "stdout",
     "output_type": "stream",
     "text": [
      "Exécution de la fonction test...\n"
     ]
    }
   ],
   "source": [
    "@afficher_execution\n",
    "def test():\n",
    "    return \"Test réussi\"\n",
    "\n",
    "resultat = test()\n",
    "assert resultat == \"Test réussi\", \"Erreur : la fonction ne retourne pas la bonne valeur\""
   ]
  },
  {
   "cell_type": "markdown",
   "id": "8b68d845",
   "metadata": {},
   "source": [
    "## Exercice 40\n",
    "\n",
    "Un programme doit générer dynamiquement des fonctions de formatage de texte. Implémente une fonction `creer_formatteur(style)` qui retourne une fonction appliquant un style spécifique au texte. Le style peut être `\"majuscule\"`, `\"minuscule\"` ou `\"inversé\"`.\n",
    "\n",
    "**Exemple :**  \n",
    "```python\n",
    "formatter_maj = creer_formatteur(\"majuscule\")\n",
    "print(formatter_maj(\"hello\"))\n",
    "```  \n",
    "**Output :**  \n",
    "```python\n",
    "\"HELLO\"\n",
    "```"
   ]
  },
  {
   "cell_type": "code",
   "execution_count": 204,
   "id": "f6916e9a",
   "metadata": {},
   "outputs": [],
   "source": [
    "# Implémentez votre fonction ici\n",
    "def creer_formatteur(style):\n",
    "    if style == \"majuscule\":\n",
    "        return lambda texte: texte.upper()\n",
    "    elif style == \"minuscule\":\n",
    "        return lambda texte: texte.lower()\n",
    "    elif style == \"inversé\":\n",
    "        return lambda texte: texte[::-1].swapcase()\n",
    "    else:\n",
    "        raise ValueError(\"Style non pris en charge\")"
   ]
  },
  {
   "cell_type": "code",
   "execution_count": 205,
   "id": "d759430d",
   "metadata": {},
   "outputs": [],
   "source": [
    "formatter_min = creer_formatteur(\"minuscule\")\n",
    "assert formatter_min(\"Hello\") == \"hello\", \"Erreur : la fonction ne formate pas correctement\"\n",
    "\n",
    "formatter_inv = creer_formatteur(\"inversé\")\n",
    "assert formatter_inv(\"AbC\") == \"cBa\", \"Erreur : la fonction ne formate pas correctement\""
   ]
  }
 ],
 "metadata": {
  "kernelspec": {
   "display_name": "Python 3 (ipykernel)",
   "language": "python",
   "name": "python3"
  },
  "language_info": {
   "codemirror_mode": {
    "name": "ipython",
    "version": 3
   },
   "file_extension": ".py",
   "mimetype": "text/x-python",
   "name": "python",
   "nbconvert_exporter": "python",
   "pygments_lexer": "ipython3",
   "version": "3.11.4"
  }
 },
 "nbformat": 4,
 "nbformat_minor": 5
}
