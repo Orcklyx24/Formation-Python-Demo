{
 "cells": [
  {
   "cell_type": "markdown",
   "id": "cbbe7077",
   "metadata": {},
   "source": [
    "# Définition d'un test paramétrique\n",
    "\n",
    "Un test paramétrique suppose que les données suivent une distribution particulière (souvent une distribution normale) et que les paramètres de cette distribution (moyenne, variance, etc.) sont connus ou peuvent être estimés. Ces tests sont généralement plus puissants que les non paramétriques lorsque leurs conditions sont remplies."
   ]
  },
  {
   "cell_type": "markdown",
   "id": "fb60ca28",
   "metadata": {},
   "source": [
    "## 1. Test t pour échantillon unique\n",
    "\n",
    "### Quand l'utiliser ?\n",
    "\n",
    "Comparer la moyenne d'un échantillon à une valeur théorique.\n",
    "\n",
    "### Conditions :\n",
    "\n",
    "- Données normalement distribuées (ou grand échantillon, n > 30).\n",
    "\n",
    "- Variance connue ou estimée.\n",
    "\n",
    "### Hypothèses :\n",
    "\n",
    "- #### H₀ : μ = μ₀\n",
    "\n",
    "- #### H₁ : μ ≠ μ₀ (ou >, <)\n",
    "\n",
    "#### Code python"
   ]
  },
  {
   "cell_type": "code",
   "execution_count": null,
   "id": "6f58c1ec",
   "metadata": {},
   "outputs": [],
   "source": [
    "from scipy.stats import ttest_1samp\n",
    "t_stat, p_val = ttest_1samp(data, popmean=μ₀)"
   ]
  },
  {
   "cell_type": "markdown",
   "id": "6e1972b9",
   "metadata": {},
   "source": [
    "## 2. Test t pour échantillons indépendants\n",
    "\n",
    "### Quand l'utiliser ?\n",
    "\n",
    "Comparer les moyennes de deux groupes indépendants.\n",
    "\n",
    "### Conditions :\n",
    "\n",
    "- Normalité des données.\n",
    "\n",
    "- Homogénéité des variances (test de Levene).\n",
    "\n",
    "### Hypothèses :\n",
    "\n",
    "- #### H₀ : μ₁ = μ₂\n",
    "\n",
    "- #### H₁ : μ₁ ≠ μ₂\n",
    "\n",
    "#### Code python"
   ]
  },
  {
   "cell_type": "code",
   "execution_count": null,
   "id": "914e72c7",
   "metadata": {},
   "outputs": [],
   "source": [
    "from scipy.stats import ttest_ind\n",
    "t_stat, p_val = ttest_ind(group1, group2, equal_var=True)"
   ]
  },
  {
   "cell_type": "markdown",
   "id": "4d44f388",
   "metadata": {},
   "source": [
    "## 3. Test t apparié\n",
    "\n",
    "### Quand l'utiliser ?\n",
    "\n",
    "Comparer deux mesures sur les mêmes sujets (avant/après).\n",
    "\n",
    "### Conditions :\n",
    "\n",
    "Différences normalement distribuées.\n",
    "\n",
    "### Hypothèses :\n",
    "\n",
    "- #### H₀ : μ_diff = 0\n",
    "\n",
    "- #### H₁ : μ_diff ≠ 0\n",
    "\n",
    "#### Code Python :"
   ]
  },
  {
   "cell_type": "code",
   "execution_count": null,
   "id": "c6b487ce",
   "metadata": {},
   "outputs": [],
   "source": [
    "from scipy.stats import ttest_rel\n",
    "t_stat, p_val = ttest_rel(before, after)"
   ]
  },
  {
   "cell_type": "markdown",
   "id": "a8e8801d",
   "metadata": {},
   "source": [
    "## 4. ANOVA à un facteur\n",
    "\n",
    "### Quand l'utiliser ?\n",
    "\n",
    "Comparer les moyennes de ≥ 3 groupes indépendants.\n",
    "\n",
    "### Conditions :\n",
    "\n",
    "- Normalité dans chaque groupe.\n",
    "\n",
    "- Homogénéité des variances.\n",
    "\n",
    "### Hypothèses :\n",
    "\n",
    "- #### H₀ : Toutes les moyennes sont égales.\n",
    "\n",
    "- #### H₁ : Au moins une moyenne diffère.\n",
    "\n",
    "#### Code Python :"
   ]
  },
  {
   "cell_type": "code",
   "execution_count": null,
   "id": "da7203cb",
   "metadata": {},
   "outputs": [],
   "source": [
    "from scipy.stats import f_oneway\n",
    "f_stat, p_val = f_oneway(group1, group2, group3)"
   ]
  },
  {
   "cell_type": "markdown",
   "id": "4e877fb2",
   "metadata": {},
   "source": [
    "## 5. ANOVA à mesures répétées\n",
    "\n",
    "### Quand l'utiliser ?\n",
    "\n",
    "Comparer ≥ 3 mesures sur les mêmes sujets.\n",
    "\n",
    "### Conditions :\n",
    "\n",
    "- Sphéricité (test de Mauchly).\n",
    "\n",
    "- Normalité des différences.\n",
    "\n",
    "### Hypothèses :\n",
    "\n",
    "- #### H₀ : Pas de différence entre les mesures.\n",
    "\n",
    "- #### H₁ : Au moins une mesure diffère.\n",
    "\n",
    "#### Code Python :"
   ]
  },
  {
   "cell_type": "code",
   "execution_count": null,
   "id": "9d3a2699",
   "metadata": {},
   "outputs": [],
   "source": [
    "import pingouin as pg\n",
    "aov = pg.rm_anova(data=df, dv='score', within='time', subject='subject')"
   ]
  },
  {
   "cell_type": "markdown",
   "id": "c64127fd",
   "metadata": {},
   "source": [
    "## 6. Test Z pour une proportion\n",
    "\n",
    "### Quand l'utiliser ?\n",
    "\n",
    "Comparer une proportion observée à une valeur théorique.\n",
    "\n",
    "### Conditions :\n",
    "\n",
    "np ≥ 5 et n(1-p) ≥ 5.\n",
    "\n",
    "### Hypothèses :\n",
    "\n",
    "- #### H₀ : p = p₀\n",
    "\n",
    "- #### H₁ : p ≠ p₀\n",
    "\n",
    "#### Code Python :"
   ]
  },
  {
   "cell_type": "code",
   "execution_count": null,
   "id": "3589d34c",
   "metadata": {},
   "outputs": [],
   "source": [
    "from statsmodels.stats.proportion import proportions_ztest\n",
    "z_stat, p_val = proportions_ztest(count, nobs, value=p₀)"
   ]
  },
  {
   "cell_type": "markdown",
   "id": "c30ced73",
   "metadata": {},
   "source": [
    "## 7. Test du chi² d'ajustement\n",
    "\n",
    "### Quand l'utiliser ?\n",
    "\n",
    "Vérifier si une distribution suit une loi théorique.\n",
    "\n",
    "### Conditions :\n",
    "\n",
    "Fréquences attendues ≥ 5.\n",
    "\n",
    "### Hypothèses :\n",
    "\n",
    "- #### H₀ : La distribution suit le modèle théorique.\n",
    "\n",
    "- #### H₁ : La distribution ne suit pas le modèle.\n",
    "\n",
    "#### Code Python :"
   ]
  },
  {
   "cell_type": "code",
   "execution_count": null,
   "id": "4cb0fec6",
   "metadata": {},
   "outputs": [],
   "source": [
    "from scipy.stats import chisquare\n",
    "chi_stat, p_val = chisquare(observed, f_exp=expected)"
   ]
  },
  {
   "cell_type": "markdown",
   "id": "c8b4a1ec",
   "metadata": {},
   "source": [
    "## 8. Test du chi² d'indépendance\n",
    "\n",
    "### Quand l'utiliser ?\n",
    "\n",
    "Tester l'association entre deux variables catégorielles.\n",
    "\n",
    "### Conditions :\n",
    "\n",
    "Fréquences attendues ≥5.\n",
    "\n",
    "### Hypothèses :\n",
    "\n",
    "- #### H₀ : Les variables sont indépendantes.\n",
    "\n",
    "- #### H₁ : Les variables sont dépendantes.\n",
    "\n",
    "#### Code Python :"
   ]
  },
  {
   "cell_type": "code",
   "execution_count": null,
   "id": "6d65876d",
   "metadata": {},
   "outputs": [],
   "source": [
    "from scipy.stats import chi2_contingency\n",
    "chi_stat, p_val, dof, expected = chi2_contingency(contingency_table)"
   ]
  },
  {
   "cell_type": "markdown",
   "id": "2a1c62c0",
   "metadata": {},
   "source": [
    "## 9. Corrélation de Pearson\n",
    "\n",
    "### Quand l'utiliser ?\n",
    "\n",
    "Mesurer la relation linéaire entre deux variables continues.\n",
    "\n",
    "### Conditions :\n",
    "\n",
    "- Normalité des données.\n",
    "\n",
    "- Linéarité.\n",
    "\n",
    "### Hypothèses :\n",
    "\n",
    "- #### H₀ : ρ = 0\n",
    "\n",
    "- #### H₁ : ρ ≠ 0\n",
    "\n",
    "#### Code Python :"
   ]
  },
  {
   "cell_type": "code",
   "execution_count": null,
   "id": "c04c2036",
   "metadata": {},
   "outputs": [],
   "source": [
    "from scipy.stats import pearsonr\n",
    "r, p_val = pearsonr(x, y)"
   ]
  },
  {
   "cell_type": "markdown",
   "id": "548f29b5",
   "metadata": {},
   "source": [
    "## 10. Régression linéaire (test t sur les coefficients)\n",
    "\n",
    "### Quand l'utiliser ?\n",
    "\n",
    "Tester si un prédicteur influence une variable réponse.\n",
    "\n",
    "### Conditions :\n",
    "\n",
    "- Résidus normalement distribués.\n",
    "\n",
    "- Homoscédasticité.\n",
    "\n",
    "### Hypothèses :\n",
    "\n",
    "- #### H₀ : β = 0\n",
    "\n",
    "- #### H₁ : β ≠ 0\n",
    "\n",
    "#### Code Python :"
   ]
  },
  {
   "cell_type": "code",
   "execution_count": null,
   "id": "736ef36a",
   "metadata": {},
   "outputs": [],
   "source": [
    "import statsmodels.api as sm\n",
    "model = sm.OLS(y, X).fit()\n",
    "print(model.summary())"
   ]
  },
  {
   "cell_type": "markdown",
   "id": "a9fec95b",
   "metadata": {},
   "source": [
    "## Tests non paramétriques\n",
    "\n",
    "- Données non normales (test de Shapiro/Anderson rejette H₀).\n",
    "\n",
    "- Données ordinales ou catégorielles.\n",
    "\n",
    "- Petits échantillons (n < 30).\n",
    "\n",
    "- Variances inégales (si test paramétrique sensible à l'hétéroscédasticité).\n",
    "\n",
    "## 11. Test de Mann-Whitney U\n",
    "\n",
    "### Quand l'utiliser ?\n",
    "\n",
    "Comparer deux groupes indépendants (alternative non paramétrique au test t indépendant).\n",
    "\n",
    "### Conditions :\n",
    "\n",
    "Données ordinales ou non normales.\n",
    "\n",
    "### Hypothèses :\n",
    "\n",
    "- #### H₀ : Les distributions sont identiques.\n",
    "\n",
    "- #### H₁ : Les distributions diffèrent.\n",
    "\n",
    "#### Code Python :"
   ]
  },
  {
   "cell_type": "code",
   "execution_count": null,
   "id": "b14f2d63",
   "metadata": {},
   "outputs": [],
   "source": [
    "from scipy.stats import mannwhitneyu\n",
    "u_stat, p_val = mannwhitneyu(group1, group2)"
   ]
  },
  {
   "cell_type": "markdown",
   "id": "dff836f0",
   "metadata": {},
   "source": [
    "## 12. Test de Wilcoxon signé\n",
    "\n",
    "### Quand l'utiliser ?\n",
    "\n",
    "Comparer deux mesures appariées (alternative non paramétrique au test t apparié).\n",
    "\n",
    "### Conditions :\n",
    "\n",
    "Données ordinales ou non normales.\n",
    "\n",
    "### Hypothèses :\n",
    "\n",
    "- #### H₀ : Pas de différence entre les paires.\n",
    "\n",
    "- #### H₁ : Différence significative.\n",
    "\n",
    "#### Code Python :"
   ]
  },
  {
   "cell_type": "code",
   "execution_count": null,
   "id": "e38e8d2e",
   "metadata": {},
   "outputs": [],
   "source": [
    "from scipy.stats import wilcoxon\n",
    "w_stat, p_val = wilcoxon(before, after)"
   ]
  },
  {
   "cell_type": "markdown",
   "id": "17ebfdf7",
   "metadata": {},
   "source": [
    "## 13. Test de Kruskal-Wallis\n",
    "\n",
    "### Quand l'utiliser ?\n",
    "\n",
    "Comparer ≥ 3 groupes indépendants (alternative non paramétrique à l'ANOVA).\n",
    "\n",
    "### Conditions :\n",
    "\n",
    "Données ordinales ou non normales.\n",
    "\n",
    "### Hypothèses :\n",
    "\n",
    "- #### H₀ : Tous les groupes ont la même distribution.\n",
    "\n",
    "- #### H₁ : Au moins un groupe diffère.\n",
    "\n",
    "#### Code Python :"
   ]
  },
  {
   "cell_type": "code",
   "execution_count": null,
   "id": "e1f6307e",
   "metadata": {},
   "outputs": [],
   "source": [
    "from scipy.stats import kruskal\n",
    "h_stat, p_val = kruskal(group1, group2, group3)"
   ]
  },
  {
   "cell_type": "markdown",
   "id": "01d79d32",
   "metadata": {},
   "source": [
    "## 14. Test de Friedman\n",
    "\n",
    "### Quand l'utiliser ?\n",
    "\n",
    "Comparer ≥ 3 mesures répétées (alternative non paramétrique à l'ANOVA répétée).\n",
    "\n",
    "### Conditions :\n",
    "\n",
    "Données ordinales ou non normales.\n",
    "\n",
    "### Hypothèses :\n",
    "\n",
    "- #### H₀ : Pas de différence entre les mesures.\n",
    "\n",
    "- #### H₁ : Au moins une mesure diffère.\n",
    "\n",
    "#### Code Python :"
   ]
  },
  {
   "cell_type": "code",
   "execution_count": null,
   "id": "2df49e41",
   "metadata": {},
   "outputs": [],
   "source": [
    "from scipy.stats import friedmanchisquare\n",
    "chi_stat, p_val = friedmanchisquare(group1, group2, group3)"
   ]
  },
  {
   "cell_type": "markdown",
   "id": "b12ea1b5",
   "metadata": {},
   "source": [
    "## 15. Test des rangs signés de Wilcoxon\n",
    "\n",
    "### Quand l'utiliser ?\n",
    "\n",
    "Alternative non paramétrique au test t pour échantillon unique.\n",
    "\n",
    "### Conditions :\n",
    "\n",
    "Données non normales.\n",
    "\n",
    "### Hypothèses :\n",
    "\n",
    "- #### H₀ : Médiane = valeur théorique.\n",
    "\n",
    "- #### H₁ : Médiane ≠ valeur théorique.\n",
    "\n",
    "#### Code Python :"
   ]
  },
  {
   "cell_type": "code",
   "execution_count": null,
   "id": "88671562",
   "metadata": {},
   "outputs": [],
   "source": [
    "from scipy.stats import wilcoxon\n",
    "w_stat, p_val = wilcoxon(data - μ₀)"
   ]
  },
  {
   "cell_type": "markdown",
   "id": "11d980c1",
   "metadata": {},
   "source": [
    "## 16. Corrélation de Spearman\n",
    "\n",
    "### Quand l'utiliser ?\n",
    "\n",
    "Mesurer une relation monotone (non nécessairement linéaire).\n",
    "\n",
    "### Conditions :\n",
    "\n",
    "Données ordinales ou non normales.\n",
    "\n",
    "### Hypothèses :\n",
    "\n",
    "- #### H₀ : ρ = 0\n",
    "\n",
    "- #### H₁ : ρ ≠ 0\n",
    "\n",
    "#### Code Python :"
   ]
  },
  {
   "cell_type": "code",
   "execution_count": null,
   "id": "36cd1b23",
   "metadata": {},
   "outputs": [],
   "source": [
    "from scipy.stats import spearmanr\n",
    "rho, p_val = spearmanr(x, y)"
   ]
  },
  {
   "cell_type": "markdown",
   "id": "a213dcc5",
   "metadata": {},
   "source": [
    "## 17. Corrélation de Kendall\n",
    "\n",
    "### Quand l'utiliser ?\n",
    "\n",
    "Alternative à Spearman pour petits échantillons avec nombreux ex-aequos.\n",
    "\n",
    "### Conditions :\n",
    "\n",
    "Données ordinales.\n",
    "\n",
    "### Hypothèses :\n",
    "\n",
    "- #### H₀ : τ = 0\n",
    "\n",
    "- #### H₁ : τ ≠ 0\n",
    "\n",
    "#### Code Python :"
   ]
  },
  {
   "cell_type": "code",
   "execution_count": null,
   "id": "6a4cff03",
   "metadata": {},
   "outputs": [],
   "source": [
    "from scipy.stats import kendalltau\n",
    "tau, p_val = kendalltau(x, y)"
   ]
  },
  {
   "cell_type": "markdown",
   "id": "04df003a",
   "metadata": {},
   "source": [
    "## 18. Test de Kolmogorov-Smirnov (à 1 échantillon)\n",
    "\n",
    "### Quand l'utiliser ?\n",
    "\n",
    "Comparer une distribution observée à une distribution théorique.\n",
    "\n",
    "### Conditions :\n",
    "\n",
    "Données continues.\n",
    "\n",
    "### Hypothèses :\n",
    "\n",
    "- #### H₀ : Les distributions sont identiques.\n",
    "\n",
    "- #### H₁ : Les distributions diffèrent.\n",
    "\n",
    "#### Code Python :"
   ]
  },
  {
   "cell_type": "code",
   "execution_count": null,
   "id": "6016e3fc",
   "metadata": {},
   "outputs": [],
   "source": [
    "from scipy.stats import kstest\n",
    "ks_stat, p_val = kstest(data, 'norm')"
   ]
  },
  {
   "cell_type": "markdown",
   "id": "286812c3",
   "metadata": {},
   "source": [
    "## 19. Test de Kolmogorov-Smirnov (à 2 échantillons)\n",
    "\n",
    "### Quand l'utiliser ?\n",
    "\n",
    "Comparer deux distributions empiriques.\n",
    "\n",
    "### Conditions :\n",
    "\n",
    "Données continues.\n",
    "\n",
    "### Hypothèses :\n",
    "\n",
    "- #### H₀ : Les distributions sont identiques.\n",
    "\n",
    "- #### H₁ : Les distributions diffèrent.\n",
    "\n",
    "#### Code Python :"
   ]
  },
  {
   "cell_type": "code",
   "execution_count": null,
   "id": "76e65673",
   "metadata": {},
   "outputs": [],
   "source": [
    "from scipy.stats import ks_2samp\n",
    "ks_stat, p_val = ks_2samp(group1, group2)"
   ]
  },
  {
   "cell_type": "markdown",
   "id": "da4b5233",
   "metadata": {},
   "source": [
    "## 20. Test de McNemar\n",
    "\n",
    "### Quand l'utiliser ?\n",
    "\n",
    "Comparer deux proportions appariées (données binaires).\n",
    "\n",
    "### Conditions :\n",
    "\n",
    "Données catégorielles appariées.\n",
    "\n",
    "### Hypothèses :\n",
    "\n",
    "- #### H₀ : Pas de changement dans les proportions.\n",
    "\n",
    "- #### H₁ : Changement significatif.\n",
    "\n",
    "#### Code Python :"
   ]
  },
  {
   "cell_type": "code",
   "execution_count": null,
   "id": "ff7413b4",
   "metadata": {},
   "outputs": [],
   "source": [
    "from statsmodels.stats.contingency_tables import mcnemar\n",
    "result = mcnemar(table, exact=True)"
   ]
  },
  {
   "cell_type": "markdown",
   "id": "2071f33f",
   "metadata": {},
   "source": [
    "## 21. Test de Cochran Q\n",
    "\n",
    "### Quand l'utiliser ?\n",
    "\n",
    "Comparer ≥ 3 proportions appariées (données binaires, extension de McNemar).\n",
    "\n",
    "### Conditions :\n",
    "\n",
    "- Données binaires (0/1) pour plusieurs mesures répétées.\n",
    "\n",
    "- ≥ 3 groupes appariés.\n",
    "\n",
    "### Hypothèses :\n",
    "\n",
    "- #### H₀ : Aucune différence entre les proportions.\n",
    "\n",
    "- #### H₁ : Au moins une proportion diffère.\n",
    "\n",
    "#### Code Python :"
   ]
  },
  {
   "cell_type": "code",
   "execution_count": null,
   "id": "4a0f44a9",
   "metadata": {},
   "outputs": [],
   "source": [
    "from statsmodels.stats.contingency_tables import cochrans_q\n",
    "q_stat, p_val = cochrans_q(data)"
   ]
  },
  {
   "cell_type": "markdown",
   "id": "0e03ace8",
   "metadata": {},
   "source": [
    "## 22. Test de Mood pour les médianes\n",
    "\n",
    "### Quand l'utiliser ?\n",
    "\n",
    "Comparer les médianes de ≥2 groupes indépendants (alternative non paramétrique à l'ANOVA).\n",
    "\n",
    "### Conditions :\n",
    "\n",
    "- Données ordinales ou non normales.\n",
    "\n",
    "- Distributions de forme similaire.\n",
    "\n",
    "### Hypothèses :\n",
    "\n",
    "- #### H₀ : Tous les groupes ont la même médiane.\n",
    "\n",
    "- #### H₁ : Au moins un groupe a une médiane différente.\n",
    "\n",
    "#### Code Python :"
   ]
  },
  {
   "cell_type": "code",
   "execution_count": null,
   "id": "eee8d24f",
   "metadata": {},
   "outputs": [],
   "source": [
    "from scipy.stats import median_test\n",
    "stat, p_val, med, tbl = median_test(group1, group2, group3)"
   ]
  },
  {
   "cell_type": "markdown",
   "id": "ac301fae",
   "metadata": {},
   "source": [
    "## 23. Test de Fligner-Killeen\n",
    "\n",
    "### Quand l'utiliser ?\n",
    "\n",
    "Tester l'homogénéité des variances entre ≥2 groupes (non paramétrique, robuste à la non-normalité).\n",
    "\n",
    "### Conditions :\n",
    "\n",
    "- Données continues ou ordinales.\n",
    "\n",
    "- Plus robuste que Levene pour les non-normales.\n",
    "\n",
    "### Hypothèses :\n",
    "\n",
    "- #### H₀ : Les variances sont égales.\n",
    "\n",
    "- #### H₁ : Au moins une variance diffère.\n",
    "\n",
    "#### Code Python :"
   ]
  },
  {
   "cell_type": "code",
   "execution_count": null,
   "id": "6f4474e0",
   "metadata": {},
   "outputs": [],
   "source": [
    "from scipy.stats import fligner\n",
    "stat, p_val = fligner(group1, group2, group3)"
   ]
  },
  {
   "cell_type": "markdown",
   "id": "358d5bd0",
   "metadata": {},
   "source": [
    "## 24. Test de Shapiro-Wilk\n",
    "\n",
    "### Quand l'utiliser ?\n",
    "\n",
    "Tester la normalité d'un échantillon (petits échantillons, n < 50).\n",
    "\n",
    "### Conditions :\n",
    "\n",
    "Échantillon de taille modérée (5 < n < 5000).\n",
    "\n",
    "### Hypothèses :\n",
    "\n",
    "- #### H₀ : Les données suivent une loi normale.\n",
    "\n",
    "- #### H₁ : Les données ne sont pas normales.\n",
    "\n",
    "#### Code Python :"
   ]
  },
  {
   "cell_type": "code",
   "execution_count": null,
   "id": "c58b8b9e",
   "metadata": {},
   "outputs": [],
   "source": [
    "from scipy.stats import shapiro\n",
    "stat, p_val = shapiro(data)"
   ]
  },
  {
   "cell_type": "markdown",
   "id": "bb1b8ac4",
   "metadata": {},
   "source": [
    "## 25. Test de Anderson-Darling\n",
    "\n",
    "### Quand l'utiliser ?\n",
    "\n",
    "Tester la normalité (plus sensible que Shapiro-Wilk pour les queues de distribution).\n",
    "\n",
    "### Conditions :\n",
    "\n",
    "- Données continues.\n",
    "\n",
    "- Comparaison à plusieurs distributions (normale, exponentielle, etc.).\n",
    "\n",
    "### Hypothèses :\n",
    "\n",
    "- #### H₀ : Les données suivent la distribution spécifiée.\n",
    "\n",
    "- #### H₁ : Les données ne suivent pas la distribution.\n",
    "\n",
    "#### Code Python :"
   ]
  },
  {
   "cell_type": "code",
   "execution_count": null,
   "id": "042ac36a",
   "metadata": {},
   "outputs": [],
   "source": [
    "from scipy.stats import anderson\n",
    "result = anderson(data, dist='norm')"
   ]
  },
  {
   "cell_type": "markdown",
   "id": "9a3b078b",
   "metadata": {},
   "source": [
    "## 26. Test de Lilliefors\n",
    "\n",
    "### Quand l'utiliser ?\n",
    "\n",
    "Tester la normalité (variante de Kolmogorov-Smirnov pour moyennes et variances estimées).\n",
    "\n",
    "### Conditions :\n",
    "\n",
    "- Petits échantillons.\n",
    "\n",
    "- Moyenne et variance inconnues.\n",
    "\n",
    "### Hypothèses :\n",
    "\n",
    "- #### H₀ : Les données sont normales.\n",
    "\n",
    "- #### H₁ : Les données ne sont pas normales.\n",
    "\n",
    "#### Code Python :"
   ]
  },
  {
   "cell_type": "markdown",
   "id": "abf9270c",
   "metadata": {},
   "source": [
    "from statsmodels.stats.diagnostic import lilliefors\n",
    "stat, p_val = lilliefors(data, dist='norm')"
   ]
  },
  {
   "cell_type": "markdown",
   "id": "2495cb2e",
   "metadata": {},
   "source": [
    "## 27. Test de Runs de Wald-Wolfowitz\n",
    "\n",
    "### Quand l'utiliser ?\n",
    "\n",
    "Tester si une séquence est aléatoire (ex : détection de patterns dans des données binaires).\n",
    "\n",
    "### Conditions :\n",
    "\n",
    "Données binaires ou dichotomisées.\n",
    "\n",
    "### Hypothèses :\n",
    "\n",
    "- #### H₀ : La séquence est aléatoire.\n",
    "\n",
    "- #### H₁ : La séquence n'est pas aléatoire.\n",
    "\n",
    "#### Code Python :"
   ]
  },
  {
   "cell_type": "code",
   "execution_count": null,
   "id": "a9a97536",
   "metadata": {},
   "outputs": [],
   "source": [
    "from statsmodels.sandbox.stats.runs import runstest_1samp\n",
    "stat, p_val = runstest_1samp(data, cutoff='mean')"
   ]
  },
  {
   "cell_type": "markdown",
   "id": "6e3179eb",
   "metadata": {},
   "source": [
    "## 28. Test de Page\n",
    "\n",
    "### Quand l'utiliser ?\n",
    "\n",
    "Détecter une tendance croissante/décroissante dans ≥3 groupes appariés (alternative à Friedman pour données ordonnées).\n",
    "\n",
    "### Conditions :\n",
    "\n",
    "- Données ordinales ou continues.\n",
    "\n",
    "- Hypothèse de tendance linéaire.\n",
    "\n",
    "### Hypothèses :\n",
    "\n",
    "- #### H₀ : Pas de tendance ordonnée.\n",
    "\n",
    "- #### H₁ : Tendance croissante/décroissante.\n",
    "\n",
    "#### Code Python :"
   ]
  },
  {
   "cell_type": "code",
   "execution_count": null,
   "id": "f0382dd2",
   "metadata": {},
   "outputs": [],
   "source": [
    "import pingouin as pg\n",
    "pg.page_test(data, ranked=True)"
   ]
  },
  {
   "cell_type": "markdown",
   "id": "f999bcb3",
   "metadata": {},
   "source": [
    "### 29. Test de Jonckheere-Terpstra\n",
    "\n",
    "### Quand l'utiliser ?\n",
    "\n",
    "Détecter une tendance monotone entre ≥3 groupes ordonnés (ex : doses croissantes d'un médicament).\n",
    "\n",
    "### Conditions :\n",
    "\n",
    "- Groupes ordonnés (ex : faible, moyen, fort).\n",
    "\n",
    "- Données ordinales ou non normales.\n",
    "\n",
    "### Hypothèses :\n",
    "\n",
    "- #### H₀ : Pas de tendance.\n",
    "\n",
    "- #### H₁ : Tendance monotone.\n",
    "\n",
    "#### Code Python :"
   ]
  },
  {
   "cell_type": "code",
   "execution_count": null,
   "id": "97808ed9",
   "metadata": {},
   "outputs": [],
   "source": [
    "from scipy.stats import jonckheere\n",
    "stat, p_val = jonckheere(group1, group2, group3, alternative='increasing')"
   ]
  },
  {
   "cell_type": "markdown",
   "id": "b6024c21",
   "metadata": {},
   "source": [
    "## 30. Test de Durbin\n",
    "\n",
    "### Quand l'utiliser ?\n",
    "\n",
    "ANOVA non paramétrique pour blocs incomplets (alternative à Friedman quand des données manquent).\n",
    "\n",
    "### Conditions :\n",
    "\n",
    "- Plans expérimentaux déséquilibrés.\n",
    "\n",
    "- Données ordinales ou non normales.\n",
    "\n",
    "### Hypothèses :\n",
    "\n",
    "- #### H₀ : Aucune différence entre les traitements.\n",
    "\n",
    "- #### H₁ : Au moins un traitement diffère.\n",
    "\n",
    "#### Code Python :"
   ]
  },
  {
   "cell_type": "code",
   "execution_count": null,
   "id": "2a05130d",
   "metadata": {},
   "outputs": [],
   "source": [
    "from scipy.stats import friedmanchisquare  # Approximatif si données manquantes\n",
    "# Pas de fonction native pour Durbin dans scipy/statsmodels, implémentation manuelle nécessaire."
   ]
  },
  {
   "cell_type": "markdown",
   "id": "a1531e25",
   "metadata": {},
   "source": [
    "## Test de Sphéricité de Mauchly\n",
    "\n",
    "### Quand l'utiliser ?\n",
    "\n",
    "- Le test de Mauchly évalue l'hypothèse de sphéricité dans les ANOVA à mesures répétées ou les analyses de variance multivariées (MANOVA).\n",
    "\n",
    "- Sphéricité signifie que les variances des différences entre toutes les paires de conditions sont égales.\n",
    "\n",
    "- Si cette hypothèse est violée, les résultats de l'ANOVA répétée peuvent être trop liberals (augmentation du risque de faux positifs).\n",
    "\n",
    "### Conditions d'utilisation\n",
    "\n",
    "- ANOVA à mesures répétées (plus de 2 mesures sur les mêmes sujets).\n",
    "\n",
    "- Les données doivent être normalement distribuées (sinon, utiliser des corrections ou des alternatives non paramétriques comme le test de Friedman).\n",
    "\n",
    "### Hypothèses\n",
    "\n",
    "- #### H₀ (Hypothèse nulle) : La condition de sphéricité est respectée (les variances des différences sont égales).\n",
    "\n",
    "- #### H₁ (Hypothèse alternative) : La condition de sphéricité n'est pas respectée (les variances des différences ne sont pas égales).\n",
    "\n",
    "### Interprétation\n",
    "\n",
    "- Si p-value < α (0.05) → Rejeter H₀ → La sphéricité est violée → Appliquer une correction (Greenhouse-Geisser ou Huynh-Feldt).\n",
    "\n",
    "- Si p-value ≥ α → Ne pas rejeter H₀ → La sphéricité est acceptable.\n",
    "\n",
    "### Corrections si sphéricité violée\n",
    "\n",
    "- Correction de Greenhouse-Geisser (GG) : Réduit les degrés de liberté (conservateur).\n",
    "\n",
    "- Correction de Huynh-Feldt (HF) : Moins conservateur que GG, utilisé si l'estimation GG est trop sévère.\n",
    "\n",
    "#### Code python"
   ]
  },
  {
   "cell_type": "code",
   "execution_count": null,
   "id": "ab10a3b5",
   "metadata": {},
   "outputs": [],
   "source": [
    "import pingouin as pg  \n",
    "# Exemple : ANOVA à mesures répétées avec test de sphéricité  \n",
    "aov = pg.rm_anova(data=df, dv='score', within='temps', subject='sujet', detailed=True)  \n",
    "print(aov)  \n",
    "\n",
    "# Test de Mauchly (intégré dans `pg.rm_anova` si `detailed=True`)  \n",
    "# Si sphéricité violée, utiliser les corrections :  \n",
    "aov_gg = pg.rm_anova(data=df, dv='score', within='temps', subject='sujet', correction='gg')  \n",
    "aov_hf = pg.rm_anova(data=df, dv='score', within='temps', subject='sujet', correction='hf')  "
   ]
  }
 ],
 "metadata": {
  "kernelspec": {
   "display_name": "Python 3 (ipykernel)",
   "language": "python",
   "name": "python3"
  },
  "language_info": {
   "codemirror_mode": {
    "name": "ipython",
    "version": 3
   },
   "file_extension": ".py",
   "mimetype": "text/x-python",
   "name": "python",
   "nbconvert_exporter": "python",
   "pygments_lexer": "ipython3",
   "version": "3.11.4"
  }
 },
 "nbformat": 4,
 "nbformat_minor": 5
}
