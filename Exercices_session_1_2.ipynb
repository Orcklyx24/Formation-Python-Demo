{
 "cells": [
  {
   "cell_type": "markdown",
   "id": "91a89cd4-f35b-480a-8f5b-17901467e384",
   "metadata": {
    "jp-MarkdownHeadingCollapsed": true
   },
   "source": [
    "# Session 1 : Notions de base en Python"
   ]
  },
  {
   "cell_type": "markdown",
   "id": "7ac684a0-5b1a-47d2-b02b-58bb0ab672c0",
   "metadata": {},
   "source": [
    "1. Déclarez une variable x avec la valeur 25 et une autre variable y avec la valeur 12.5. Affichez leur type."
   ]
  },
  {
   "cell_type": "code",
   "execution_count": 4,
   "id": "43cd1251-6c76-45b7-bf11-4c9f9f28d73b",
   "metadata": {},
   "outputs": [
    {
     "name": "stdout",
     "output_type": "stream",
     "text": [
      "Le type de x est: <class 'int'> et le type de y est : <class 'float'>\n"
     ]
    }
   ],
   "source": [
    "# votre code ici\n",
    "x = 25\n",
    "y = 12.5\n",
    "\n",
    "print(\"Le type de x est:\", type(x), \"et le type de y est :\", type(y)) "
   ]
  },
  {
   "cell_type": "markdown",
   "id": "648a8e00-a879-425b-b5f1-9c5607016b65",
   "metadata": {},
   "source": [
    "2. Transformez la variable x en une chaîne de caractères, puis affichez son nouveau type."
   ]
  },
  {
   "cell_type": "code",
   "execution_count": 28,
   "id": "ff27d8ab-4997-4221-a6fb-e2cee988821a",
   "metadata": {},
   "outputs": [
    {
     "name": "stdout",
     "output_type": "stream",
     "text": [
      "Le nouveau type de x est : <class 'str'>\n"
     ]
    }
   ],
   "source": [
    "# votre code ici\n",
    "\n",
    "new_x = str(x)\n",
    "\n",
    "print(\"Le nouveau type de x est :\", type(new_x))"
   ]
  },
  {
   "cell_type": "markdown",
   "id": "d4687409-ae8d-43ce-9fac-9d99d680b1e6",
   "metadata": {},
   "source": [
    "3. Déclarez deux variables, a = 10 et b = 4. Calculez et affichez leur somme, leur différence, leur produit, et leur division."
   ]
  },
  {
   "cell_type": "code",
   "execution_count": 14,
   "id": "2eefc89f-c680-4bf4-9eba-60927e703954",
   "metadata": {},
   "outputs": [
    {
     "name": "stdout",
     "output_type": "stream",
     "text": [
      "La somme de a et b est : 14 , la différence de a et b est : 6 , le produit de a et b est : 40 et la division de a et b est : 2.5\n"
     ]
    }
   ],
   "source": [
    "# votre code ici\n",
    "\n",
    "a = 10\n",
    "b = 4\n",
    "\n",
    "som = a + b\n",
    "diff = a - b\n",
    "prod = a * b\n",
    "div = a / b\n",
    "\n",
    "print(\"La somme de a et b est :\", som, \", la différence de a et b est :\", diff, \", le produit de a et b est :\", prod, \"et la division de a et b est :\", div)"
   ]
  },
  {
   "cell_type": "markdown",
   "id": "b0c52afd-271f-4639-bdf8-99ced4f85d2e",
   "metadata": {},
   "source": [
    "4. Déclarez une variable nombre = 15. Calculez le reste de la division de nombre par 4."
   ]
  },
  {
   "cell_type": "code",
   "execution_count": 16,
   "id": "7f5f38ee-e9df-4b54-aec4-599982b096e5",
   "metadata": {},
   "outputs": [
    {
     "name": "stdout",
     "output_type": "stream",
     "text": [
      "Le reste de la division de 5 par 4 est : 3\n"
     ]
    }
   ],
   "source": [
    "# votre code ici\n",
    "\n",
    "nombre = 5\n",
    "\n",
    "reste = 15 % 4\n",
    "\n",
    "print(\"Le reste de la division de\", nombre, \"par 4 est :\", reste)"
   ]
  },
  {
   "cell_type": "markdown",
   "id": "a9bfffe4-87e9-4ba9-9e61-5ebb2d249186",
   "metadata": {},
   "source": [
    "5. Convertissez la chaîne \"45\" en un entier. Ajoutez 5 au résultat et affichez-le."
   ]
  },
  {
   "cell_type": "code",
   "execution_count": 29,
   "id": "1568d98b-e9c1-4eae-8186-03be8b6a8c8a",
   "metadata": {},
   "outputs": [
    {
     "name": "stdout",
     "output_type": "stream",
     "text": [
      "Le résultat est : 50\n"
     ]
    }
   ],
   "source": [
    "# votre code ici\n",
    "\n",
    "chaine = \"45\"\n",
    "entier = int(chaine)\n",
    "\n",
    "resultat = entier + 5\n",
    "\n",
    "print(\"Le résultat est :\", resultat)"
   ]
  },
  {
   "cell_type": "markdown",
   "id": "5753ce00-0020-42c9-982f-d4661cc5ba9d",
   "metadata": {},
   "source": [
    "6. Transformez le nombre décimal 3.14 en une chaîne de caractères, puis affichez-le."
   ]
  },
  {
   "cell_type": "code",
   "execution_count": 30,
   "id": "a8a627ff-eb5b-4329-963d-cba3294f4b2c",
   "metadata": {},
   "outputs": [
    {
     "name": "stdout",
     "output_type": "stream",
     "text": [
      "3.14\n"
     ]
    }
   ],
   "source": [
    "# votre code ici\n",
    "\n",
    "nom_dec = 3.14\n",
    "chaine = str(3.14)\n",
    "\n",
    "print(chaine)"
   ]
  },
  {
   "cell_type": "markdown",
   "id": "a5af86d9-b2f0-46d7-bd70-7f9c9e1a918e",
   "metadata": {},
   "source": [
    "7. Déclarez une variable texte = \"Python est amusant\". Affichez cette phrase en lettres majuscules."
   ]
  },
  {
   "cell_type": "code",
   "execution_count": 19,
   "id": "eeb347c0-5676-4d79-bc8d-c4442123dd38",
   "metadata": {},
   "outputs": [
    {
     "name": "stdout",
     "output_type": "stream",
     "text": [
      "PYTHON EST AMUSANT\n"
     ]
    }
   ],
   "source": [
    "# votre code ici\n",
    "\n",
    "texte = \"Python est amusant\"\n",
    "\n",
    "print(texte.upper())"
   ]
  },
  {
   "cell_type": "markdown",
   "id": "97fe7efc-4446-4120-b744-f31ff042defb",
   "metadata": {},
   "source": [
    "8. Analysez ce code et expliquez pourquoi il produit une erreur  \n",
    "```python\n",
    "x = \"10\"\n",
    "y = 5\n",
    "print(x + y)\n"
   ]
  },
  {
   "cell_type": "markdown",
   "id": "48eaa56e-1361-4ce5-a713-8afd7f3b1261",
   "metadata": {},
   "source": [
    "Ce code ne fonctionne pas à cause de la variable x qui est une chaine de caractère. On ne peut procéder aux opérations qu'entre variable de même type à l'exeption des nombres entiers et des nombres décimaux."
   ]
  },
  {
   "cell_type": "markdown",
   "id": "d79d379c-f0a9-4f25-819c-868c8710ffe0",
   "metadata": {},
   "source": [
    "9. Déclarez une variable nom = \"Alice\". Créez une nouvelle chaîne qui dit : \"Bonjour, Alice\"."
   ]
  },
  {
   "cell_type": "code",
   "execution_count": null,
   "id": "d66f3d4f-8de0-4cb1-b48c-fb057c0f5376",
   "metadata": {},
   "outputs": [],
   "source": [
    "# votre code ici\n",
    "\n",
    "nom = \"Alice\"\n",
    "\n",
    "chaine = \"Bonjour, Alice\""
   ]
  },
  {
   "cell_type": "markdown",
   "id": "b4de1de4-ba3a-4c2a-b96f-2a280846a25e",
   "metadata": {},
   "source": [
    "10. Corrigez le code ci-dessous :\n",
    "```python\n",
    "z = \"Bonjour\"\n",
    "print(\"Le message est :  + z\")"
   ]
  },
  {
   "cell_type": "code",
   "execution_count": 21,
   "id": "30cafed9-ef4d-4077-b5c7-e9dcd2f9a4fd",
   "metadata": {},
   "outputs": [
    {
     "name": "stdout",
     "output_type": "stream",
     "text": [
      "Le message est : Bonjour\n"
     ]
    }
   ],
   "source": [
    "# votre code ici\n",
    "\n",
    "z = \"Bonjour\"\n",
    "\n",
    "print(\"Le message est :\", z)"
   ]
  },
  {
   "cell_type": "markdown",
   "id": "32f3c85c-1975-434b-b920-02bcfc6f2c0a",
   "metadata": {},
   "source": [
    "11. Calculez la valeur de l’expression suivante : $(3 + 5) \\times 2 - 8 / 4$."
   ]
  },
  {
   "cell_type": "code",
   "execution_count": 22,
   "id": "f5d8bcd5-912b-4a6f-b416-a1dd94cdcaf3",
   "metadata": {},
   "outputs": [
    {
     "name": "stdout",
     "output_type": "stream",
     "text": [
      "14.0\n"
     ]
    }
   ],
   "source": [
    "# votre code ici\n",
    "\n",
    "valeur = (3+5)*2-8/4\n",
    "\n",
    "print(valeur)"
   ]
  },
  {
   "cell_type": "markdown",
   "id": "5bcdc4a1-f383-4c25-bb9c-2a4b6222e074",
   "metadata": {},
   "source": [
    "12. Déclarez une variable rayon = 7 et utilisez la formule $C = 2 \\pi r$ pour calculer la circonférence d’un cercle (en supposant $\\pi = 3.14$)."
   ]
  },
  {
   "cell_type": "code",
   "execution_count": 23,
   "id": "47538849-3fbb-4cd6-93f1-f3f8f1675636",
   "metadata": {},
   "outputs": [
    {
     "name": "stdout",
     "output_type": "stream",
     "text": [
      "La circonférence d'un cercle de rayon 7 est : 43.96\n"
     ]
    }
   ],
   "source": [
    "# votre code ici\n",
    "\n",
    "rayon = 7\n",
    "pi = 3.14\n",
    "\n",
    "C = 2 * rayon * pi \n",
    "\n",
    "print(\"La circonférence d'un cercle de rayon 7 est :\", C)"
   ]
  },
  {
   "cell_type": "markdown",
   "id": "f44ca009-a4d4-4ddc-b94c-c651b9fba055",
   "metadata": {},
   "source": [
    "13. Créez une variable contenant la phrase \"Python est génial\". Remplacez \"génial\" par \"facile\" et affichez le résultat.\n",
    "\n",
    "`Tip`: cherchez la documentation de replace () en python sur internet"
   ]
  },
  {
   "cell_type": "code",
   "execution_count": 26,
   "id": "7ca30c99-54c5-4dc1-b925-24d3a2dcf4e5",
   "metadata": {},
   "outputs": [
    {
     "name": "stdout",
     "output_type": "stream",
     "text": [
      "La nouvelle phrase est : Python est facile\n"
     ]
    }
   ],
   "source": [
    "# votre code ici\n",
    "\n",
    "phrase = \"Python est génial\"\n",
    "new_phrase = phrase.replace(\"génial\", \"facile\")\n",
    "\n",
    "print(\"La nouvelle phrase est :\", new_phrase)"
   ]
  },
  {
   "cell_type": "markdown",
   "id": "c772a7e6-a249-4360-898a-af3cfa134b02",
   "metadata": {},
   "source": [
    "14. Déclarez une variable phrase = \"Data Science\". Trouvez combien de caractères cette phrase contient.\n",
    "   \n",
    "`Tip`: on utilise la syntaxe len(x) pour connaitre la taille du contenu d'une variable"
   ]
  },
  {
   "cell_type": "code",
   "execution_count": 27,
   "id": "aea1137d-37e3-40f0-bc66-f087c67cf073",
   "metadata": {},
   "outputs": [
    {
     "name": "stdout",
     "output_type": "stream",
     "text": [
      "Le nombre de caractère de cette phrase est : 12\n"
     ]
    }
   ],
   "source": [
    "# votre code ici\n",
    "\n",
    "phrase = \"Data Science\"\n",
    "\n",
    "print(\"Le nombre de caractère de cette phrase est :\", len(phrase))"
   ]
  },
  {
   "cell_type": "markdown",
   "id": "2f058410-46ef-4833-881e-cb9252e7f0a0",
   "metadata": {},
   "source": [
    "15. Pourquoi ce code produit-il une erreur ?\n",
    "```python\n",
    "valeur = 5\n",
    "texte = \"Le résultat est \"\n",
    "print(texte + valeur)"
   ]
  },
  {
   "cell_type": "markdown",
   "id": "286a3771-1e0b-42f3-a61d-bde383db4dc9",
   "metadata": {},
   "source": [
    "Ce code ne fonctionne pas à cause de la variable valeur qui est un nombre entier. On ne peut procéder aux opérations qu'entre variable de même type à l'exeption des nombres entiers et des nombres décimaux. Il faut donc que valeur soit une chaine de caractère tout comme texte."
   ]
  },
  {
   "cell_type": "markdown",
   "id": "af4b1941-7125-45a2-a6b0-eaa62fb13695",
   "metadata": {},
   "source": [
    "16. Transformez la valeur entière 42 en un float, puis en une chaîne de caractères."
   ]
  },
  {
   "cell_type": "code",
   "execution_count": 35,
   "id": "cf94c90c-cd37-492b-a57e-94be61f5b2cc",
   "metadata": {},
   "outputs": [
    {
     "name": "stdout",
     "output_type": "stream",
     "text": [
      "<class 'str'>\n"
     ]
    }
   ],
   "source": [
    "# votre code ici\n",
    "\n",
    "entier = 42\n",
    "décimal = float(entier)\n",
    "chaine = str(décimal)\n",
    "\n",
    "print(type(chaine))"
   ]
  },
  {
   "cell_type": "markdown",
   "id": "c408a14a-30be-488e-9d6f-8047f391fb9f",
   "metadata": {},
   "source": [
    "17. Affichez la valeur de $10^3$ en utilisant l’opérateur Python correspondant."
   ]
  },
  {
   "cell_type": "code",
   "execution_count": 37,
   "id": "f485fa88-112b-4d65-a62e-787d1bbd10f8",
   "metadata": {},
   "outputs": [
    {
     "name": "stdout",
     "output_type": "stream",
     "text": [
      "10^3 égal : 1000\n"
     ]
    }
   ],
   "source": [
    "# votre code ici\n",
    "\n",
    "valeur = 10**3\n",
    "\n",
    "print (\"10^3 égal :\", valeur)"
   ]
  },
  {
   "cell_type": "markdown",
   "id": "57cc73aa-9020-4006-bc21-03312dec91bd",
   "metadata": {},
   "source": [
    "18. Créez une variable pi = 3.14159 et affichez sa valeur arrondie à deux décimales."
   ]
  },
  {
   "cell_type": "code",
   "execution_count": 38,
   "id": "e005486b-e395-4a2f-a7b8-a39e818dd2aa",
   "metadata": {},
   "outputs": [
    {
     "name": "stdout",
     "output_type": "stream",
     "text": [
      "3.14\n"
     ]
    }
   ],
   "source": [
    "# votre code ici\n",
    "\n",
    "pi = 3.14159\n",
    "arrondi = round(pi,2)\n",
    "\n",
    "print(arrondi)"
   ]
  },
  {
   "cell_type": "markdown",
   "id": "2cee3d91-a58e-45db-8d09-bd4a811c140b",
   "metadata": {},
   "source": [
    "19. Donnez un exemple où il est préférable d’utiliser un float plutôt qu’un entier."
   ]
  },
  {
   "cell_type": "markdown",
   "id": "ba6e4798-df05-4e8f-b872-6ced4bb5c25a",
   "metadata": {},
   "source": [
    "Il est préférable d'utiliser un float plutôt qu'un entier lorsque l'on veut travailler avec la taille, la température, les notes ou les taux par exemple."
   ]
  },
  {
   "cell_type": "markdown",
   "id": "72e56889-6cf8-42f9-bbc5-6bf9f5082417",
   "metadata": {},
   "source": [
    "20. Pourquoi le code suivant ne produit-il pas le résultat attendu ?\n",
    "```python\n",
    "x = \"3\"\n",
    "y = \"4\"\n",
    "print(x + y)"
   ]
  },
  {
   "cell_type": "markdown",
   "id": "f34f73fd-3fe7-4de0-bf46-1fd90a579391",
   "metadata": {},
   "source": [
    "Ce code ne produit pas le résultat attendu à cause des variables qui sont en chaine de caractère. Il faut que x et soient des variables numériques pour obtenir le résultat escompté."
   ]
  },
  {
   "cell_type": "markdown",
   "id": "2689235e-bf37-4d87-92f4-fe665867f6dc",
   "metadata": {
    "jp-MarkdownHeadingCollapsed": true
   },
   "source": [
    "# Session 2"
   ]
  },
  {
   "cell_type": "markdown",
   "id": "ea727236-6d24-4c60-b4de-62e057ab92de",
   "metadata": {},
   "source": [
    "1. Quelle commande permet d’initialiser un dépôt Git dans un dossier ?\n",
    "\n",
    "Cette commande est git init"
   ]
  },
  {
   "cell_type": "markdown",
   "id": "a705621f-d09b-4d6d-b40c-eda7b0180ccb",
   "metadata": {},
   "source": [
    "2. Expliquez à quoi sert la commande git status.\n",
    "\n",
    "Elle sert à lister tous les fichiers nouveaux ou anciens présents dans le dossier."
   ]
  },
  {
   "cell_type": "markdown",
   "id": "41a1ed07-7dd7-438f-a265-3a09c63b7cfd",
   "metadata": {},
   "source": [
    "3. Donnez les commandes pour configurer votre nom d’utilisateur Git et votre email.\n",
    "\n",
    "Pour le mail, c'est : git config --global user.email \"mail\"\n",
    "\n",
    "Pour le nom, c'est : git config --global user.name \"name\""
   ]
  },
  {
   "cell_type": "markdown",
   "id": "271c12d5-c7e3-4793-a200-ddeeee7f4e8c",
   "metadata": {},
   "source": [
    "4. Pourquoi est-il important de configurer ces informations avant de commencer à utiliser Git ?\n",
    "\n",
    "Il est important de configurer ces informations avant de commencer à utiliser Git car cela permet de suivre et d'enregistrer les modifications portées à un projet au niveau du Git dans notre espace Github. "
   ]
  },
  {
   "cell_type": "markdown",
   "id": "92f6d0d1-b2d8-4a97-badd-9fa7501f6d90",
   "metadata": {},
   "source": [
    "5. Expliquez ce que fait la commande git add et donnez un exemple d’utilisation.\n",
    "\n",
    "Cette commande permet d'ajouter un fichier à notre espacee de travail. Ex: git add Nom du fichier."
   ]
  },
  {
   "cell_type": "markdown",
   "id": "9a2bbfd0-16c9-40c8-a8d7-1ce03ceff673",
   "metadata": {},
   "source": [
    "6. Quelle est la différence entre git commit et git push ?\n",
    "\n",
    "git commit enregistre les modifications dans l'historique du dépôt local tandis que git push envoie les commits du dépôt local vers le dépôt distant"
   ]
  },
  {
   "cell_type": "markdown",
   "id": "cf06d033-2b8e-4964-814a-e7d281cfa9c8",
   "metadata": {},
   "source": [
    "7. Quelle commande permet de voir l’historique des commits ? Donnez un exemple.\n",
    "\n",
    "Cete comande est git log. \n",
    "Ex : commit identifiant du commit, auteur : name, date : today"
   ]
  },
  {
   "cell_type": "markdown",
   "id": "09dab394-2b4e-4284-99ef-389d244edd96",
   "metadata": {},
   "source": [
    "8. Comment afficher uniquement les deux derniers commits dans cet historique ?\n",
    "\n",
    "Cette commande est git log -n 2"
   ]
  },
  {
   "cell_type": "markdown",
   "id": "f38e149b-7195-4365-adc1-d69719acb8f5",
   "metadata": {},
   "source": [
    "9. Comment créer une nouvelle branche dans Git ? Donnez la commande.\n",
    "\n",
    "C'est git branch Nom de la nouvelle branche"
   ]
  },
  {
   "cell_type": "markdown",
   "id": "fcc66186-63f2-478b-810c-4ed557374da4",
   "metadata": {},
   "source": [
    "10. Expliquez à quoi sert une branche dans un projet collaboratif.\n",
    "\n",
    "Les branches dans Git permettent aux développeurs de travailler sur des fonctionnalités ou des corrections de bugs en parallèle sans perturber le code principal. Elles facilitent la gestion du code, les révisions et la collaboration entre les membres de l'équipe."
   ]
  },
  {
   "cell_type": "markdown",
   "id": "43d7e9ef-3870-49d8-8799-b18eee53af07",
   "metadata": {},
   "source": [
    "11. Donnez les commandes pour récupérer les modifications d’un dépôt distant.\n",
    "\n",
    "Nous avons git fetch et git pull."
   ]
  },
  {
   "cell_type": "markdown",
   "id": "bbcf1483-f79b-4afe-8306-eb8f968b38f6",
   "metadata": {},
   "source": [
    "12. Expliquez la différence entre git pull et git clone.\n",
    "\n",
    "git pull récupère et fusionne les modifications d'un dépôt distant dans votre branche locale actuelle tandis que git clone copie l'intégralité d'un dépôt distant, créant une nouvelle version locale de celui-ci."
   ]
  },
  {
   "cell_type": "markdown",
   "id": "bd364b91-fafc-42e4-b4c8-4c8f4619b46e",
   "metadata": {},
   "source": [
    "13. Quelle commande permet de connecter un dépôt local à un dépôt distant ? Donnez un exemple.\n",
    "\n",
    "C'est git remote add origin lien. Ex : git remote add origin https://github.com/utilisateur/nom-du-depot.git"
   ]
  },
  {
   "cell_type": "markdown",
   "id": "d88cb1d9-7c81-4b4e-84cb-ee7089dc4b53",
   "metadata": {},
   "source": [
    "14. Pourquoi est-il important d’utiliser un dépôt distant pour un projet collaboratif ?\n",
    "\n",
    "Cela permet aux membres de l'équipe de synchroniser leurs modifications, assurant une collaboration efficace et évitant les conflits de code. Il offre également une sauvegarde sécurisée et accessible du projet, protégeant le travail contre les pertes locales."
   ]
  },
  {
   "cell_type": "markdown",
   "id": "10d3f4e7-2dcf-4e5e-9a5b-ef9a1d50bcb7",
   "metadata": {},
   "source": [
    "15. Quelle commande permet d’exclure des fichiers du suivi Git à l’aide d’un fichier .gitignore ?\n",
    "\n",
    "C'est .log ou tmp"
   ]
  },
  {
   "cell_type": "markdown",
   "id": "35fa55a2-6e65-404d-ba84-87102d9d4690",
   "metadata": {},
   "source": [
    "16. Que se passe-t-il si vous supprimez un fichier suivi par Git dans votre système de fichiers mais que vous ne faites pas de commit ?\n",
    "\n",
    "Git détectera la suppression du fichier comme une modification non validée. On pourra voir cette modification en utilisant git status, et on doit soit valider la suppression, soit restaurer le fichier."
   ]
  },
  {
   "cell_type": "markdown",
   "id": "a447dd95-4b88-42ae-9637-7c75986037ee",
   "metadata": {},
   "source": [
    "17. Que fait la commande git rm ? Donnez un exemple.\n",
    "\n",
    "La commande git rm supprime un fichier du répertoire de travail et l'index Git. Ex : git rm exemple.txt :"
   ]
  },
  {
   "cell_type": "markdown",
   "id": "c0551f4d-9ab9-4ab1-aeec-7d9d0ff61c12",
   "metadata": {},
   "source": [
    "18. Expliquez pourquoi il est déconseillé de committer directement sur la branche main dans un projet collaboratif.\n",
    "\n",
    "Committer directement sur la branche main peut introduire des bugs ou des modifications non validées dans le code stable, perturbant le flux de travail des autres développeurs."
   ]
  },
  {
   "cell_type": "markdown",
   "id": "9a86b1c5-5622-4a3a-b9d5-e76d1578ddbf",
   "metadata": {},
   "source": [
    "19. Donnez un scénario où l’utilisation de Git pourrait éviter une perte de données.\n",
    "\n",
    "Si un développeur modifie le code et que son ordinateur subit une panne, les commits précédents peuvent être récupérés depuis le dépôt distant, assurant que le travail n'est pas perdu. De plus, les branches permettent de sauvegarder les progrès régulièrement, minimisant le risque de perte de données."
   ]
  },
  {
   "cell_type": "markdown",
   "id": "bc55da8e-98a5-4f76-be8c-23fa66ce9f49",
   "metadata": {},
   "source": [
    "20. Si vous avez accidentellement committé un mot de passe dans un fichier, comment pouvez-vous corriger cela dans Git ?\n",
    "\n",
    "Il faut supprimez le mot de passe du fichier, validez la modification, et utilisez git rebase ou git filter-branch pour supprimer l'historique du commit. Ensuite, forcez la mise à jour du dépôt distant avec git push --force."
   ]
  }
 ],
 "metadata": {
  "kernelspec": {
   "display_name": "Python 3 (ipykernel)",
   "language": "python",
   "name": "python3"
  },
  "language_info": {
   "codemirror_mode": {
    "name": "ipython",
    "version": 3
   },
   "file_extension": ".py",
   "mimetype": "text/x-python",
   "name": "python",
   "nbconvert_exporter": "python",
   "pygments_lexer": "ipython3",
   "version": "3.11.4"
  }
 },
 "nbformat": 4,
 "nbformat_minor": 5
}
