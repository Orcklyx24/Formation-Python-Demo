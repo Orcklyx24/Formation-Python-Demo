{
 "cells": [
  {
   "cell_type": "code",
   "execution_count": 1,
   "id": "ccb4acbc",
   "metadata": {},
   "outputs": [],
   "source": [
    "import pandas as pd"
   ]
  },
  {
   "cell_type": "code",
   "execution_count": 2,
   "id": "2dc5dcb3",
   "metadata": {},
   "outputs": [],
   "source": [
    "base = pd.read_csv('https://raw.githubusercontent.com/Neriya98/teaching_data/refs/heads/main/bank.csv')"
   ]
  },
  {
   "cell_type": "code",
   "execution_count": 5,
   "id": "487270df",
   "metadata": {},
   "outputs": [
    {
     "data": {
      "text/plain": [
       "(4521, 16)"
      ]
     },
     "metadata": {},
     "output_type": "display_data"
    },
    {
     "data": {
      "text/html": [
       "<div>\n",
       "<style scoped>\n",
       "    .dataframe tbody tr th:only-of-type {\n",
       "        vertical-align: middle;\n",
       "    }\n",
       "\n",
       "    .dataframe tbody tr th {\n",
       "        vertical-align: top;\n",
       "    }\n",
       "\n",
       "    .dataframe thead th {\n",
       "        text-align: right;\n",
       "    }\n",
       "</style>\n",
       "<table border=\"1\" class=\"dataframe\">\n",
       "  <thead>\n",
       "    <tr style=\"text-align: right;\">\n",
       "      <th></th>\n",
       "      <th>age</th>\n",
       "      <th>job</th>\n",
       "      <th>marital</th>\n",
       "      <th>education</th>\n",
       "      <th>default</th>\n",
       "      <th>balance</th>\n",
       "      <th>housing</th>\n",
       "      <th>loan</th>\n",
       "      <th>contact</th>\n",
       "      <th>day</th>\n",
       "      <th>month</th>\n",
       "      <th>duration</th>\n",
       "      <th>campaign</th>\n",
       "      <th>pdays</th>\n",
       "      <th>previous</th>\n",
       "      <th>y</th>\n",
       "    </tr>\n",
       "  </thead>\n",
       "  <tbody>\n",
       "    <tr>\n",
       "      <th>0</th>\n",
       "      <td>30</td>\n",
       "      <td>unemployed</td>\n",
       "      <td>married</td>\n",
       "      <td>primary</td>\n",
       "      <td>no</td>\n",
       "      <td>1787</td>\n",
       "      <td>no</td>\n",
       "      <td>no</td>\n",
       "      <td>cellular</td>\n",
       "      <td>19</td>\n",
       "      <td>oct</td>\n",
       "      <td>79</td>\n",
       "      <td>1</td>\n",
       "      <td>-1</td>\n",
       "      <td>0</td>\n",
       "      <td>no</td>\n",
       "    </tr>\n",
       "    <tr>\n",
       "      <th>1</th>\n",
       "      <td>33</td>\n",
       "      <td>services</td>\n",
       "      <td>married</td>\n",
       "      <td>secondary</td>\n",
       "      <td>no</td>\n",
       "      <td>4789</td>\n",
       "      <td>yes</td>\n",
       "      <td>yes</td>\n",
       "      <td>cellular</td>\n",
       "      <td>11</td>\n",
       "      <td>may</td>\n",
       "      <td>220</td>\n",
       "      <td>1</td>\n",
       "      <td>339</td>\n",
       "      <td>4</td>\n",
       "      <td>no</td>\n",
       "    </tr>\n",
       "    <tr>\n",
       "      <th>2</th>\n",
       "      <td>35</td>\n",
       "      <td>management</td>\n",
       "      <td>single</td>\n",
       "      <td>tertiary</td>\n",
       "      <td>no</td>\n",
       "      <td>1350</td>\n",
       "      <td>yes</td>\n",
       "      <td>no</td>\n",
       "      <td>cellular</td>\n",
       "      <td>16</td>\n",
       "      <td>apr</td>\n",
       "      <td>185</td>\n",
       "      <td>1</td>\n",
       "      <td>330</td>\n",
       "      <td>1</td>\n",
       "      <td>no</td>\n",
       "    </tr>\n",
       "    <tr>\n",
       "      <th>3</th>\n",
       "      <td>30</td>\n",
       "      <td>management</td>\n",
       "      <td>married</td>\n",
       "      <td>tertiary</td>\n",
       "      <td>no</td>\n",
       "      <td>1476</td>\n",
       "      <td>yes</td>\n",
       "      <td>yes</td>\n",
       "      <td>unknown</td>\n",
       "      <td>3</td>\n",
       "      <td>jun</td>\n",
       "      <td>199</td>\n",
       "      <td>4</td>\n",
       "      <td>-1</td>\n",
       "      <td>0</td>\n",
       "      <td>no</td>\n",
       "    </tr>\n",
       "    <tr>\n",
       "      <th>4</th>\n",
       "      <td>59</td>\n",
       "      <td>blue-collar</td>\n",
       "      <td>married</td>\n",
       "      <td>secondary</td>\n",
       "      <td>no</td>\n",
       "      <td>0</td>\n",
       "      <td>yes</td>\n",
       "      <td>no</td>\n",
       "      <td>unknown</td>\n",
       "      <td>5</td>\n",
       "      <td>may</td>\n",
       "      <td>226</td>\n",
       "      <td>1</td>\n",
       "      <td>-1</td>\n",
       "      <td>0</td>\n",
       "      <td>no</td>\n",
       "    </tr>\n",
       "  </tbody>\n",
       "</table>\n",
       "</div>"
      ],
      "text/plain": [
       "   age          job  marital  education default  balance housing loan  \\\n",
       "0   30   unemployed  married    primary      no     1787      no   no   \n",
       "1   33     services  married  secondary      no     4789     yes  yes   \n",
       "2   35   management   single   tertiary      no     1350     yes   no   \n",
       "3   30   management  married   tertiary      no     1476     yes  yes   \n",
       "4   59  blue-collar  married  secondary      no        0     yes   no   \n",
       "\n",
       "    contact  day month  duration  campaign  pdays  previous   y  \n",
       "0  cellular   19   oct        79         1     -1         0  no  \n",
       "1  cellular   11   may       220         1    339         4  no  \n",
       "2  cellular   16   apr       185         1    330         1  no  \n",
       "3   unknown    3   jun       199         4     -1         0  no  \n",
       "4   unknown    5   may       226         1     -1         0  no  "
      ]
     },
     "metadata": {},
     "output_type": "display_data"
    }
   ],
   "source": [
    "display(base.shape, base.head())"
   ]
  },
  {
   "cell_type": "markdown",
   "id": "2087cff6",
   "metadata": {},
   "source": [
    "### Nombre de personnes ayant déjà souscrit à un prêt par mois"
   ]
  },
  {
   "cell_type": "code",
   "execution_count": 18,
   "id": "7b48252d",
   "metadata": {},
   "outputs": [],
   "source": [
    "def borrowers_by_month(base):\n",
    "    return base[base['loan'] == 'yes'].groupby('month').size().sort_values(ascending = False)"
   ]
  },
  {
   "cell_type": "code",
   "execution_count": 19,
   "id": "aab8e527",
   "metadata": {},
   "outputs": [
    {
     "data": {
      "text/plain": [
       "month\n",
       "jul    210\n",
       "may    189\n",
       "nov     70\n",
       "aug     67\n",
       "jun     62\n",
       "apr     32\n",
       "feb     31\n",
       "jan     18\n",
       "oct      7\n",
       "sep      3\n",
       "dec      1\n",
       "mar      1\n",
       "dtype: int64"
      ]
     },
     "execution_count": 19,
     "metadata": {},
     "output_type": "execute_result"
    }
   ],
   "source": [
    "borrowers_by_month(base)"
   ]
  },
  {
   "cell_type": "markdown",
   "id": "451ea45c",
   "metadata": {},
   "source": [
    "### Age des personnes ayant déjà souscrit à un prêt"
   ]
  },
  {
   "cell_type": "code",
   "execution_count": 37,
   "id": "1ccf9e49",
   "metadata": {},
   "outputs": [],
   "source": [
    "def borrowers_mean_age(base):\n",
    "    return base[base['loan']  == 'yes'].groupby('age').size().sort_values(ascending = False).head(10)"
   ]
  },
  {
   "cell_type": "code",
   "execution_count": 38,
   "id": "4578fc99",
   "metadata": {},
   "outputs": [
    {
     "data": {
      "text/plain": [
       "age\n",
       "34    47\n",
       "32    38\n",
       "31    33\n",
       "33    32\n",
       "35    30\n",
       "40    24\n",
       "41    23\n",
       "36    23\n",
       "57    21\n",
       "56    21\n",
       "dtype: int64"
      ]
     },
     "execution_count": 38,
     "metadata": {},
     "output_type": "execute_result"
    }
   ],
   "source": [
    "borrowers_mean_age(base)"
   ]
  },
  {
   "cell_type": "markdown",
   "id": "bbbce696",
   "metadata": {},
   "source": [
    "### Nombre de personnes avec des prêts précédents à qui on a accordé un nouveau prêt"
   ]
  },
  {
   "cell_type": "code",
   "execution_count": 60,
   "id": "51cc1c24",
   "metadata": {},
   "outputs": [],
   "source": [
    "def previous_loan_borrowers(base):\n",
    "    return base[base['loan'] == 'yes'].groupby('y').size()"
   ]
  },
  {
   "cell_type": "code",
   "execution_count": 61,
   "id": "f13d2563",
   "metadata": {},
   "outputs": [
    {
     "data": {
      "text/plain": [
       "y\n",
       "no     648\n",
       "yes     43\n",
       "dtype: int64"
      ]
     },
     "execution_count": 61,
     "metadata": {},
     "output_type": "execute_result"
    }
   ],
   "source": [
    "previous_loan_borrowers(base)"
   ]
  },
  {
   "cell_type": "markdown",
   "id": "389a894b",
   "metadata": {},
   "source": [
    "### Top 5 des métiers des emprunteurs"
   ]
  },
  {
   "cell_type": "code",
   "execution_count": 58,
   "id": "d4a57acd",
   "metadata": {},
   "outputs": [],
   "source": [
    "def borrowers_job(base):\n",
    "    return base[base['loan'] == 'yes']['job'].value_counts()"
   ]
  },
  {
   "cell_type": "code",
   "execution_count": 59,
   "id": "902deceb",
   "metadata": {},
   "outputs": [
    {
     "data": {
      "text/plain": [
       "blue-collar      156\n",
       "management       120\n",
       "technician       119\n",
       "admin.            91\n",
       "services          74\n",
       "entrepreneur      41\n",
       "retired           32\n",
       "self-employed     30\n",
       "unemployed        13\n",
       "housemaid         13\n",
       "student            1\n",
       "unknown            1\n",
       "Name: job, dtype: int64"
      ]
     },
     "execution_count": 59,
     "metadata": {},
     "output_type": "execute_result"
    }
   ],
   "source": [
    "borrowers_job(base)"
   ]
  },
  {
   "cell_type": "markdown",
   "id": "82724d45",
   "metadata": {},
   "source": [
    "### Situation matrimoniale des emprunteurs"
   ]
  },
  {
   "cell_type": "code",
   "execution_count": 63,
   "id": "5fb047b0",
   "metadata": {},
   "outputs": [],
   "source": [
    "def borrowers_marital(base):\n",
    "    return base[base['loan'] == 'yes']['marital'].value_counts()"
   ]
  },
  {
   "cell_type": "code",
   "execution_count": 64,
   "id": "97cd4d71",
   "metadata": {},
   "outputs": [
    {
     "data": {
      "text/plain": [
       "married     453\n",
       "single      148\n",
       "divorced     90\n",
       "Name: marital, dtype: int64"
      ]
     },
     "execution_count": 64,
     "metadata": {},
     "output_type": "execute_result"
    }
   ],
   "source": [
    "borrowers_marital(base)"
   ]
  },
  {
   "cell_type": "markdown",
   "id": "6bacdbfa",
   "metadata": {},
   "source": [
    "### Niveau d'éducation des emprunteurs"
   ]
  },
  {
   "cell_type": "code",
   "execution_count": 65,
   "id": "04609c5c",
   "metadata": {},
   "outputs": [],
   "source": [
    "def borrowers_education(base):\n",
    "    return base[base['loan'] == 'yes']['education'].value_counts()"
   ]
  },
  {
   "cell_type": "code",
   "execution_count": 66,
   "id": "2468e00b",
   "metadata": {},
   "outputs": [
    {
     "data": {
      "text/plain": [
       "secondary    416\n",
       "tertiary     174\n",
       "primary       94\n",
       "unknown        7\n",
       "Name: education, dtype: int64"
      ]
     },
     "execution_count": 66,
     "metadata": {},
     "output_type": "execute_result"
    }
   ],
   "source": [
    "borrowers_education(base)"
   ]
  },
  {
   "cell_type": "code",
   "execution_count": null,
   "id": "456c0854",
   "metadata": {},
   "outputs": [],
   "source": []
  }
 ],
 "metadata": {
  "kernelspec": {
   "display_name": "Python 3 (ipykernel)",
   "language": "python",
   "name": "python3"
  },
  "language_info": {
   "codemirror_mode": {
    "name": "ipython",
    "version": 3
   },
   "file_extension": ".py",
   "mimetype": "text/x-python",
   "name": "python",
   "nbconvert_exporter": "python",
   "pygments_lexer": "ipython3",
   "version": "3.11.4"
  }
 },
 "nbformat": 4,
 "nbformat_minor": 5
}
