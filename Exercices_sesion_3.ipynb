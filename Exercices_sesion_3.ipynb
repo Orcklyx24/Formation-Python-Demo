{
 "cells": [
  {
   "cell_type": "markdown",
   "id": "4a905a0d-3288-4165-96a2-993381a255a1",
   "metadata": {},
   "source": [
    "**`NB`: Merci de créeer une cellule pour chaque question lorsque vous répondez**\n",
    "\n",
    "**Deadline : Dimanche 16 février 2025**"
   ]
  },
  {
   "cell_type": "markdown",
   "id": "86196bee-d18f-428d-b991-2fcce0795c64",
   "metadata": {},
   "source": [
    "**EXERCICES - SESSION 3 : STRUCTURES DE DONNÉES EN PYTHON**"
   ]
  },
  {
   "cell_type": "markdown",
   "id": "7dbbf4ee",
   "metadata": {},
   "source": [
    "## **I. Questions Théoriques**\n",
    "\n"
   ]
  },
  {
   "cell_type": "markdown",
   "id": "44f4d27e",
   "metadata": {},
   "source": [
    "### 1. Quelles sont les principales différences entre une liste, un tuple et un dictionnaire en Python ?\n",
    "\n",
    "Une liste est une collection de données définit avec des crochets, elle est ordonnée et changeable. \n",
    "\n",
    "Un tuple est une collection de données définit avec des parenthèses, elle est ordonnée et inchangeable.\n",
    "\n",
    "Un dictionnaire est une collection de données définit avec des crochets et stockée selon des clés et des valeurs, elle est ordonnée et changeable."
   ]
  },
  {
   "cell_type": "markdown",
   "id": "3aa2f5de",
   "metadata": {},
   "source": [
    "### 2. Pourquoi les listes sont-elles dites \"muables\" alors que les tuples sont \"immuables\" ? Donnez un exemple.\n",
    "\n",
    "Une liste est muable car une fois définit, les éléménts qui la constitue peut être modifié.\n",
    "\n",
    "###### Exemple "
   ]
  },
  {
   "cell_type": "code",
   "execution_count": 78,
   "id": "6430666b",
   "metadata": {},
   "outputs": [
    {
     "data": {
      "text/plain": [
       "['Berries', 'Apple', 'Pineapple']"
      ]
     },
     "execution_count": 78,
     "metadata": {},
     "output_type": "execute_result"
    }
   ],
   "source": [
    "liste = [15, \"Apple\", \"Pineapple\"]\n",
    "liste\n",
    "\n",
    "liste[0] = \"Berries\"\n",
    "liste "
   ]
  },
  {
   "cell_type": "markdown",
   "id": "013cdd3e",
   "metadata": {},
   "source": [
    "Par contre, une fois qu'un tuple est définit, il est impossible de changer les éléments qui l'a compose. On dit qu'est elle immuable.\n",
    "\n",
    "###### Exemple"
   ]
  },
  {
   "cell_type": "code",
   "execution_count": 79,
   "id": "1d3c1b3f",
   "metadata": {},
   "outputs": [
    {
     "ename": "TypeError",
     "evalue": "'tuple' object does not support item assignment",
     "output_type": "error",
     "traceback": [
      "\u001b[1;31m---------------------------------------------------------------------------\u001b[0m",
      "\u001b[1;31mTypeError\u001b[0m                                 Traceback (most recent call last)",
      "Cell \u001b[1;32mIn[79], line 4\u001b[0m\n\u001b[0;32m      1\u001b[0m tple \u001b[38;5;241m=\u001b[39m (\u001b[38;5;241m15\u001b[39m, \u001b[38;5;124m\"\u001b[39m\u001b[38;5;124mApple\u001b[39m\u001b[38;5;124m\"\u001b[39m, \u001b[38;5;124m\"\u001b[39m\u001b[38;5;124mPineapple\u001b[39m\u001b[38;5;124m\"\u001b[39m)\n\u001b[0;32m      2\u001b[0m tple\n\u001b[1;32m----> 4\u001b[0m tple[\u001b[38;5;241m0\u001b[39m] \u001b[38;5;241m=\u001b[39m \u001b[38;5;124m\"\u001b[39m\u001b[38;5;124mBerries\u001b[39m\u001b[38;5;124m\"\u001b[39m\n\u001b[0;32m      5\u001b[0m tple\n",
      "\u001b[1;31mTypeError\u001b[0m: 'tuple' object does not support item assignment"
     ]
    }
   ],
   "source": [
    "tple = (15, \"Apple\", \"Pineapple\")\n",
    "tple\n",
    "\n",
    "tple[0] = \"Berries\"\n",
    "tple"
   ]
  },
  {
   "cell_type": "markdown",
   "id": "dba3cd6a",
   "metadata": {},
   "source": [
    "### 3. Dans quels cas est-il préférable d'utiliser un tuple plutôt qu'une liste ?\n",
    "\n",
    "Il est préférable d'utiliser un tuple plutôt qu'une liste lorsque l'on voudrait stocker ou sauvegarder des données qui ne changent pas."
   ]
  },
  {
   "cell_type": "markdown",
   "id": "519203a9",
   "metadata": {},
   "source": [
    "### 4. Expliquez la notion d'indexation dans une liste. Pourquoi commence-t-on à 0 et non à 1 ?\n",
    "\n",
    "L'indexation dans une liste commence de 0 et non de 1 car, c'est un language de base de Python pour simplifier les calculs et optimiser les algorithmes."
   ]
  },
  {
   "cell_type": "markdown",
   "id": "364ab39b",
   "metadata": {},
   "source": [
    "### 5. Comment ajouter et supprimer des éléments dans une liste ? Donnez les méthodes utilisées.\n",
    "\n",
    "Pour ajouter des éléments dans une liste, on utilise :\n",
    "- append()\n",
    "- insert()\n",
    "- extend()\n",
    "\n",
    "Pour supprimer des éléments dans une liste, on utilise : \n",
    "- remove()\n",
    "- pop() \n",
    "- del()"
   ]
  },
  {
   "cell_type": "markdown",
   "id": "91b3f546",
   "metadata": {},
   "source": [
    "### 6. Quelles sont les principales méthodes disponibles pour manipuler les dictionnaires en Python ?\n",
    "\n",
    "Les principales méthodes disponibles pour manipuler les dictionnaires en Python sont : \n",
    "- get()\n",
    "- items()\n",
    "- keys()\n",
    "- values()\n",
    "- pop()\n",
    "- copy()\n",
    "- popitems()\n",
    "- clear()\n",
    "- update()\n",
    "- fromkeys()\n",
    "- setdefault()"
   ]
  },
  {
   "cell_type": "markdown",
   "id": "6e12de84",
   "metadata": {},
   "source": [
    "### 7. Que se passe-t-il si vous essayez d'accéder à une clé inexistante dans un dictionnaire ? Comment éviter une erreur ?\n",
    "\n",
    "Lorsqu'on essaie d'accéder à une clé inexistant dans un dictionnaire, on obtient une erreur. \n",
    "\n",
    "Pour eviter cette erreur, on peut utiliser :\n",
    "- `get()` pou récuperer une valeur sans modifier le dictionnaire de départ ;\n",
    "- `in` pour vérifier si la clé se trouve effectivement dans la liste et ;\n",
    "- `setdefault` pour ajouter une clé manquante avec une valeur."
   ]
  },
  {
   "cell_type": "markdown",
   "id": "6ed7b1e4",
   "metadata": {},
   "source": [
    "### 8. Pourquoi dit-on que les dictionnaires en Python sont des \"collections non ordonnées\" ?\n",
    "\n",
    "Les dictionnaires en Python sont des collections non ordonnées car,  à l'origine elles n'étaient pas conçus pour des opéations basées sur la position. Leurs forces résident dans l'accès direct par clé. Toutefois, avec la version 3.7 de Python, les dictionnaires ont désormais ordonnées."
   ]
  },
  {
   "cell_type": "markdown",
   "id": "9c4f7449",
   "metadata": {},
   "source": [
    "### 9. Expliquez la différence entre une clé et une valeur dans un dictionnaire.\n",
    "\n",
    "La clé est l'identifiant utilisé pour accéder à une valeur d'un dictionnaire.\n",
    "\n",
    "La valeur est est la donnéee associée ou stockée dans la clé d'un dictionnaire."
   ]
  },
  {
   "cell_type": "markdown",
   "id": "11b2be6c",
   "metadata": {},
   "source": [
    "### 10. Donnez un exemple d'utilisation réelle d'un dictionnaire dans une application Python.\n",
    "\n",
    "Système de gestion et d'enregisstrement des notes des étudiants "
   ]
  },
  {
   "cell_type": "code",
   "execution_count": 1,
   "id": "135da6b3",
   "metadata": {},
   "outputs": [
    {
     "data": {
      "text/plain": [
       "{'Nom1': {'Maths': 15, 'Macro': 16, 'Micro': 17, 'History': 18},\n",
       " 'Nom2': {'Maths': 18, 'Macro': 19, 'Micro': 17, 'History': 17},\n",
       " 'Nom3': {'Maths': 15, 'Macro': 16, 'Micro': 18, 'History': 19},\n",
       " 'Nom4': {'Maths': 20, 'Macro': 15, 'Micro': 14, 'History': 17}}"
      ]
     },
     "execution_count": 1,
     "metadata": {},
     "output_type": "execute_result"
    }
   ],
   "source": [
    "Notes = {\n",
    "    \"Nom1\" : {\"Maths\" : 15, \"Macro\" : 16, \"Micro\" : 17, \"History\" : 18},\n",
    "    \"Nom2\" : {\"Maths\" : 18, \"Macro\" : 19, \"Micro\" : 17, \"History\" : 17},\n",
    "    \"Nom3\" : {\"Maths\" : 15, \"Macro\" : 16, \"Micro\" : 18, \"History\" : 19},\n",
    "    \"Nom4\" : {\"Maths\" : 20, \"Macro\" : 15, \"Micro\" : 14, \"History\" : 17}\n",
    "}\n",
    "\n",
    "Notes"
   ]
  },
  {
   "cell_type": "markdown",
   "id": "80a64a06",
   "metadata": {},
   "source": [
    "## **II. Exercices sur les Listes**"
   ]
  },
  {
   "cell_type": "markdown",
   "id": "79cf95be",
   "metadata": {},
   "source": [
    "### 1. Créez une liste contenant les noms de 5 pays africains."
   ]
  },
  {
   "cell_type": "code",
   "execution_count": 3,
   "id": "c3fa7769",
   "metadata": {},
   "outputs": [
    {
     "data": {
      "text/plain": [
       "['Bénin', 'Ghana', 'Togo', 'Mali', 'Nigeria']"
      ]
     },
     "execution_count": 3,
     "metadata": {},
     "output_type": "execute_result"
    }
   ],
   "source": [
    "country = [\"Bénin\", \"Ghana\", \"Togo\", \"Mali\", \"Nigeria\"]\n",
    "country"
   ]
  },
  {
   "cell_type": "markdown",
   "id": "cea79e19",
   "metadata": {},
   "source": [
    "### 2. Affichez le troisième élément de la liste."
   ]
  },
  {
   "cell_type": "code",
   "execution_count": 4,
   "id": "e8914b36",
   "metadata": {},
   "outputs": [
    {
     "data": {
      "text/plain": [
       "'Togo'"
      ]
     },
     "execution_count": 4,
     "metadata": {},
     "output_type": "execute_result"
    }
   ],
   "source": [
    "country[2]"
   ]
  },
  {
   "cell_type": "markdown",
   "id": "cd6a4907",
   "metadata": {},
   "source": [
    "### 3. Remplacez le deuxième élément par un autre pays."
   ]
  },
  {
   "cell_type": "code",
   "execution_count": 5,
   "id": "07b523f0",
   "metadata": {},
   "outputs": [
    {
     "data": {
      "text/plain": [
       "['Bénin', 'Niger', 'Togo', 'Mali', 'Nigeria']"
      ]
     },
     "execution_count": 5,
     "metadata": {},
     "output_type": "execute_result"
    }
   ],
   "source": [
    "country[1] = \"Niger\"\n",
    "country"
   ]
  },
  {
   "cell_type": "markdown",
   "id": "1d693baa",
   "metadata": {},
   "source": [
    "### 4. Ajoutez un pays à la fin de la liste."
   ]
  },
  {
   "cell_type": "code",
   "execution_count": 6,
   "id": "920b3abd",
   "metadata": {},
   "outputs": [
    {
     "data": {
      "text/plain": [
       "['Bénin', 'Niger', 'Togo', 'Mali', 'Nigeria', 'Australie']"
      ]
     },
     "execution_count": 6,
     "metadata": {},
     "output_type": "execute_result"
    }
   ],
   "source": [
    "country.append(\"Australie\")\n",
    "country"
   ]
  },
  {
   "cell_type": "markdown",
   "id": "e6057e8b",
   "metadata": {},
   "source": [
    "### 5. Supprimez le dernier élément de la liste et affichez la liste mise à jour."
   ]
  },
  {
   "cell_type": "code",
   "execution_count": 7,
   "id": "ff50c6dd",
   "metadata": {},
   "outputs": [
    {
     "data": {
      "text/plain": [
       "['Bénin', 'Niger', 'Togo', 'Mali', 'Nigeria']"
      ]
     },
     "execution_count": 7,
     "metadata": {},
     "output_type": "execute_result"
    }
   ],
   "source": [
    "country.remove(\"Australie\")\n",
    "country"
   ]
  },
  {
   "cell_type": "markdown",
   "id": "3914f561",
   "metadata": {},
   "source": [
    "### 6. Vérifiez si \"Maroc\" est présent dans la liste et affichez un message approprié (sans utiliser de boucle ni de if)."
   ]
  },
  {
   "cell_type": "code",
   "execution_count": 8,
   "id": "d504753d",
   "metadata": {},
   "outputs": [
    {
     "name": "stdout",
     "output_type": "stream",
     "text": [
      "No, Maroc is not in Country\n"
     ]
    }
   ],
   "source": [
    "print((\"No, Maroc is not in Country\", \"Yes, Maroc is in Country\")[\"Maroc\" in country])"
   ]
  },
  {
   "cell_type": "markdown",
   "id": "a31ec255",
   "metadata": {},
   "source": [
    "### 7. Trouvez et affichez l'index du pays \"Sénégal\" dans la liste."
   ]
  },
  {
   "cell_type": "code",
   "execution_count": 9,
   "id": "4bee78d6",
   "metadata": {},
   "outputs": [
    {
     "name": "stdout",
     "output_type": "stream",
     "text": [
      "Sénégal is not in country\n"
     ]
    }
   ],
   "source": [
    "if \"Sénégal\" in country:\n",
    "    print(\"The Senegal's index is :\", country.index[\"Sénégal\"])\n",
    "else:\n",
    "    print(\"Sénégal is not in country\")"
   ]
  },
  {
   "cell_type": "markdown",
   "id": "5d65bb38",
   "metadata": {},
   "source": [
    "### 8. Affichez la longueur de la liste."
   ]
  },
  {
   "cell_type": "code",
   "execution_count": 10,
   "id": "0375848f",
   "metadata": {},
   "outputs": [
    {
     "name": "stdout",
     "output_type": "stream",
     "text": [
      "The length of the list country is 5\n"
     ]
    }
   ],
   "source": [
    "print(\"The length of the list country is\", len(country))"
   ]
  },
  {
   "cell_type": "markdown",
   "id": "6473eb64",
   "metadata": {},
   "source": [
    "### 9. Créez une liste de nombres et utilisez la fonction `sum()` pour calculer leur somme."
   ]
  },
  {
   "cell_type": "code",
   "execution_count": 11,
   "id": "118e09ff",
   "metadata": {},
   "outputs": [
    {
     "name": "stdout",
     "output_type": "stream",
     "text": [
      "The sum of the number of the list is : 901\n"
     ]
    }
   ],
   "source": [
    "number = [2, 100, 40, 750, 9]\n",
    "print(\"The sum of the number of the list is :\", sum(number))"
   ]
  },
  {
   "cell_type": "markdown",
   "id": "2f31c700",
   "metadata": {},
   "source": [
    "### 10. Fusionnez deux listes en une seule liste."
   ]
  },
  {
   "cell_type": "code",
   "execution_count": 2,
   "id": "5d246689",
   "metadata": {},
   "outputs": [
    {
     "name": "stdout",
     "output_type": "stream",
     "text": [
      "[1, 2, 3, 10, 50, 'Mardi', 'Mercredi', 'Marie', 'Violetta', 'Ludmilla']\n"
     ]
    }
   ],
   "source": [
    "list1 = [1, 2, 3, 10, 50]\n",
    "list2 = [\"Mardi\", \"Mercredi\", \"Marie\", \"Violetta\", \"Ludmilla\"]\n",
    "\n",
    "list1.extend(list2)\n",
    "print(list1)"
   ]
  },
  {
   "cell_type": "markdown",
   "id": "b903fd12",
   "metadata": {},
   "source": [
    "### 11. Convertissez une chaîne de caractères en liste de mots."
   ]
  },
  {
   "cell_type": "code",
   "execution_count": 13,
   "id": "6bc9410b",
   "metadata": {},
   "outputs": [
    {
     "data": {
      "text/plain": [
       "['Parkint', 'va', 'à', \"l'école.\"]"
      ]
     },
     "execution_count": 13,
     "metadata": {},
     "output_type": "execute_result"
    }
   ],
   "source": [
    "strg = \"Parkint va à l'école.\"\n",
    "newlist = strg.split()\n",
    "newlist "
   ]
  },
  {
   "cell_type": "markdown",
   "id": "ea916f50",
   "metadata": {},
   "source": [
    "### 12. Supprimez les doublons d'une liste sans utiliser de boucle."
   ]
  },
  {
   "cell_type": "code",
   "execution_count": 14,
   "id": "67c9b2c5",
   "metadata": {},
   "outputs": [
    {
     "data": {
      "text/plain": [
       "[1, 2, 3, 100, 5, 'Fred', 'Terry', 'Patrick']"
      ]
     },
     "execution_count": 14,
     "metadata": {},
     "output_type": "execute_result"
    }
   ],
   "source": [
    "doublons = [\"Terry\", \"Terry\", \"Fred\", \"Patrick\", 1, 100, 2, 2, 3, 5, 5]\n",
    "sans_doublons = list(set(doublons))\n",
    "sans_doublons"
   ]
  },
  {
   "cell_type": "markdown",
   "id": "4c98737b",
   "metadata": {},
   "source": [
    "### 13. Récupérez les trois premiers éléments d'une liste en une seule ligne de code."
   ]
  },
  {
   "cell_type": "code",
   "execution_count": 15,
   "id": "5e538c7e",
   "metadata": {},
   "outputs": [
    {
     "name": "stdout",
     "output_type": "stream",
     "text": [
      "['Terry', 'Terry', 'Fred']\n"
     ]
    }
   ],
   "source": [
    "print(doublons[0:3])"
   ]
  },
  {
   "cell_type": "markdown",
   "id": "56b77ac3",
   "metadata": {},
   "source": [
    "### 14. Affichez les éléments d'une liste en ordre inverse sans utiliser `.reverse()`."
   ]
  },
  {
   "cell_type": "code",
   "execution_count": 17,
   "id": "1bafe1fa",
   "metadata": {},
   "outputs": [
    {
     "data": {
      "text/plain": [
       "[5, 5, 3, 2, 2, 100, 1, 'Patrick', 'Fred', 'Terry', 'Terry']"
      ]
     },
     "execution_count": 17,
     "metadata": {},
     "output_type": "execute_result"
    }
   ],
   "source": [
    "doublons_inverse1 = doublons[::-1]\n",
    "doublons_inverse1"
   ]
  },
  {
   "cell_type": "code",
   "execution_count": 19,
   "id": "bab93fa4",
   "metadata": {},
   "outputs": [
    {
     "data": {
      "text/plain": [
       "[5, 5, 3, 2, 2, 100, 1, 'Patrick', 'Fred', 'Terry', 'Terry']"
      ]
     },
     "execution_count": 19,
     "metadata": {},
     "output_type": "execute_result"
    }
   ],
   "source": [
    "doublons_inverse2 = list(reversed(doublons)) # différent de reverse()\n",
    "doublons_inverse2"
   ]
  },
  {
   "cell_type": "markdown",
   "id": "ec5b9daf",
   "metadata": {},
   "source": [
    "### 15. Remplacez tous les éléments d’une liste de chaînes de caractères par leur version en majuscules."
   ]
  },
  {
   "cell_type": "code",
   "execution_count": 25,
   "id": "a26f4f99",
   "metadata": {},
   "outputs": [
    {
     "data": {
      "text/plain": [
       "['MARDI', 'MERCREDI', 'MARIE', 'VIOLETTA', 'LUDMILLA']"
      ]
     },
     "execution_count": 25,
     "metadata": {},
     "output_type": "execute_result"
    }
   ],
   "source": [
    "maj = [nom.upper() for nom in list2]\n",
    "maj"
   ]
  },
  {
   "cell_type": "markdown",
   "id": "001fec8e",
   "metadata": {},
   "source": [
    "### 16. Trouvez l’élément ayant la plus grande valeur dans une liste de nombres."
   ]
  },
  {
   "cell_type": "code",
   "execution_count": 27,
   "id": "c1e24243",
   "metadata": {},
   "outputs": [
    {
     "data": {
      "text/plain": [
       "750"
      ]
     },
     "execution_count": 27,
     "metadata": {},
     "output_type": "execute_result"
    }
   ],
   "source": [
    "maximum = max(number)\n",
    "maximum"
   ]
  },
  {
   "cell_type": "markdown",
   "id": "7db4a741",
   "metadata": {},
   "source": [
    "### 17. Transformez une liste de chiffres en une seule chaîne de caractères."
   ]
  },
  {
   "cell_type": "code",
   "execution_count": 31,
   "id": "f49e96ef",
   "metadata": {},
   "outputs": [
    {
     "data": {
      "text/plain": [
       "'2100407509'"
      ]
     },
     "execution_count": 31,
     "metadata": {},
     "output_type": "execute_result"
    }
   ],
   "source": [
    "chaine = ''.join(str(n) for n in number)\n",
    "chaine"
   ]
  },
  {
   "cell_type": "markdown",
   "id": "571836b9",
   "metadata": {},
   "source": [
    "### 18. Extrayez tous les éléments pairs d’une liste de nombres."
   ]
  },
  {
   "cell_type": "code",
   "execution_count": 35,
   "id": "f86689fc",
   "metadata": {},
   "outputs": [
    {
     "data": {
      "text/plain": [
       "[2, 100, 40, 750]"
      ]
     },
     "execution_count": 35,
     "metadata": {},
     "output_type": "execute_result"
    }
   ],
   "source": [
    "pair = [p for p in number if p % 2 == 0]\n",
    "pair"
   ]
  },
  {
   "cell_type": "markdown",
   "id": "38472a1d",
   "metadata": {},
   "source": [
    "### 19. Créez une liste contenant trois sous-listes et accédez au deuxième élément de la deuxième sous-liste."
   ]
  },
  {
   "cell_type": "code",
   "execution_count": 37,
   "id": "3a08b3f9",
   "metadata": {},
   "outputs": [
    {
     "data": {
      "text/plain": [
       "['a', 'b', 'c', 'd']"
      ]
     },
     "execution_count": 37,
     "metadata": {},
     "output_type": "execute_result"
    }
   ],
   "source": [
    "grd_liste = [[\"True\", \"False\"], [\"a\", \"b\", \"c\", \"d\"], [1, 2, 3, 2000]]\n",
    "grd_liste[1]"
   ]
  },
  {
   "cell_type": "markdown",
   "id": "a8fdabdb",
   "metadata": {},
   "source": [
    "### 20. Supprimez tous les éléments d’une liste sans utiliser `clear()`."
   ]
  },
  {
   "cell_type": "code",
   "execution_count": 40,
   "id": "0d70a9d4",
   "metadata": {},
   "outputs": [
    {
     "data": {
      "text/plain": [
       "[]"
      ]
     },
     "execution_count": 40,
     "metadata": {},
     "output_type": "execute_result"
    }
   ],
   "source": [
    "grd_liste = []\n",
    "grd_liste"
   ]
  },
  {
   "cell_type": "markdown",
   "id": "f2c02699",
   "metadata": {},
   "source": [
    "### 21. Étant donné une liste `L`, créez une nouvelle liste contenant uniquement les éléments uniques."
   ]
  },
  {
   "cell_type": "code",
   "execution_count": 41,
   "id": "b2726275",
   "metadata": {},
   "outputs": [
    {
     "data": {
      "text/plain": [
       "[1, 1000, 28, 29, 30]"
      ]
     },
     "execution_count": 41,
     "metadata": {},
     "output_type": "execute_result"
    }
   ],
   "source": [
    "L = [1, 1, 28, 30, 30, 29, 28, 1000]\n",
    "\n",
    "L_unique = list(set(L))\n",
    "L_unique"
   ]
  },
  {
   "cell_type": "markdown",
   "id": "396cf9ec",
   "metadata": {},
   "source": [
    "### 22. Faites la différence entre deux listes (éléments présents dans la première mais pas dans la seconde)."
   ]
  },
  {
   "cell_type": "code",
   "execution_count": 43,
   "id": "18088344",
   "metadata": {},
   "outputs": [
    {
     "data": {
      "text/plain": [
       "[5, 'Volaille', 'Chance', 'Perle']"
      ]
     },
     "execution_count": 43,
     "metadata": {},
     "output_type": "execute_result"
    }
   ],
   "source": [
    "premiere_liste = [5, 12, \"Volaille\", \"Chance\", \"Perle\", \"Fin\"]\n",
    "seconde_liste = [\"Number\", \"Boème\", \"Fin\", \"Conqueror\", 12, 22]\n",
    "\n",
    "diff = [x for x in premiere_liste if x not in seconde_liste]\n",
    "diff"
   ]
  },
  {
   "cell_type": "markdown",
   "id": "cbea3a1d",
   "metadata": {},
   "source": [
    "### 23. Convertissez une liste en tuple et expliquez pourquoi cela peut être utile."
   ]
  },
  {
   "cell_type": "code",
   "execution_count": 45,
   "id": "b560e105",
   "metadata": {},
   "outputs": [
    {
     "data": {
      "text/plain": [
       "(5, 12, 'Volaille', 'Chance', 'Perle', 'Fin')"
      ]
     },
     "execution_count": 45,
     "metadata": {},
     "output_type": "execute_result"
    }
   ],
   "source": [
    "prem_tuple = tuple(premiere_liste)\n",
    "prem_tuple"
   ]
  },
  {
   "cell_type": "markdown",
   "id": "50a8a30f",
   "metadata": {},
   "source": [
    "###### Cela peut être utile à conserver les données de façon définitive."
   ]
  },
  {
   "cell_type": "markdown",
   "id": "aa09e9af",
   "metadata": {},
   "source": [
    "### 24. Générez une liste contenant 10 valeurs aléatoires entre 1 et 100."
   ]
  },
  {
   "cell_type": "code",
   "execution_count": 48,
   "id": "e5e476ec",
   "metadata": {},
   "outputs": [
    {
     "data": {
      "text/plain": [
       "[23, 76, 82, 87, 85, 60, 7, 98, 47, 50]"
      ]
     },
     "execution_count": 48,
     "metadata": {},
     "output_type": "execute_result"
    }
   ],
   "source": [
    "import random as rd\n",
    "\n",
    "random_values = [rd.randint(1, 100) for i in range(10)]\n",
    "random_values"
   ]
  },
  {
   "cell_type": "markdown",
   "id": "0c093d07",
   "metadata": {},
   "source": [
    "### 25. Effectuez une opération mathématique sur chaque élément d’une liste sans utiliser de boucle."
   ]
  },
  {
   "cell_type": "code",
   "execution_count": 49,
   "id": "161940f1",
   "metadata": {},
   "outputs": [
    {
     "data": {
      "text/plain": [
       "[104, 202, 142, 852, 111]"
      ]
     },
     "execution_count": 49,
     "metadata": {},
     "output_type": "execute_result"
    }
   ],
   "source": [
    "opération = list(map(lambda x: x + 102, number))\n",
    "opération"
   ]
  },
  {
   "cell_type": "markdown",
   "id": "97cb4e5c",
   "metadata": {},
   "source": [
    "### 26. Supprimez toutes les valeurs `None` d’une liste."
   ]
  },
  {
   "cell_type": "code",
   "execution_count": 53,
   "id": "2cb2be20",
   "metadata": {},
   "outputs": [
    {
     "data": {
      "text/plain": [
       "[1, 'Fuck', 'You', 5, 100]"
      ]
     },
     "execution_count": 53,
     "metadata": {},
     "output_type": "execute_result"
    }
   ],
   "source": [
    "none = [1, \"Fuck\", \"None\",\"You\", \"None\", 5, \"None\", \"None\", 100, \"None\"]\n",
    "w_none = [x for x in none if x != \"None\"]\n",
    "w_none"
   ]
  },
  {
   "cell_type": "markdown",
   "id": "61ae63bf",
   "metadata": {},
   "source": [
    "### 27. Répartissez une liste en plusieurs sous-listes de taille égale."
   ]
  },
  {
   "cell_type": "code",
   "execution_count": 56,
   "id": "85ff542d",
   "metadata": {},
   "outputs": [
    {
     "data": {
      "text/plain": [
       "[[1, 'Fuck'], ['None', 'You'], ['None', 5], ['None', 'None'], [100, 'None']]"
      ]
     },
     "execution_count": 56,
     "metadata": {},
     "output_type": "execute_result"
    }
   ],
   "source": [
    "taille = len(none) // 5\n",
    "sous_liste = []\n",
    "for i in range(0, len(none), taille):\n",
    "    sous_liste.append(none[i:i + taille])\n",
    "\n",
    "sous_liste "
   ]
  },
  {
   "cell_type": "markdown",
   "id": "89aaba58",
   "metadata": {},
   "source": [
    "### 28. Fusionnez deux listes en alternant leurs éléments."
   ]
  },
  {
   "cell_type": "code",
   "execution_count": 58,
   "id": "b33786e1",
   "metadata": {},
   "outputs": [
    {
     "name": "stdout",
     "output_type": "stream",
     "text": [
      "[1, 1, 2, 'Fuck', 3, 'None', 10, 'You', 50, 'None', 'Mardi', 5, 'Mercredi', 'None', 'Marie', 'None', 'Violetta', 100, 'Ludmilla', 'None']\n"
     ]
    }
   ],
   "source": [
    "join = []\n",
    "for i in range(max(len(list1), len(none))):\n",
    "    if i < len(list1):\n",
    "        join.append(list1[i])\n",
    "    if i < len(none):\n",
    "        join.append(none[i])\n",
    "\n",
    "print(join)"
   ]
  },
  {
   "cell_type": "markdown",
   "id": "0605ce37",
   "metadata": {},
   "source": [
    "### 29. Créez un dictionnaire à partir de deux listes, l'une contenant les clés et l'autre les valeurs."
   ]
  },
  {
   "cell_type": "code",
   "execution_count": 59,
   "id": "e4e24705",
   "metadata": {},
   "outputs": [
    {
     "data": {
      "text/plain": [
       "{'Nom': 'Ian',\n",
       " 'Prénoms': 'Anderson',\n",
       " 'Age': 25,\n",
       " 'Statut': 'Couplebataire',\n",
       " 'Profession': 'Humoriste'}"
      ]
     },
     "execution_count": 59,
     "metadata": {},
     "output_type": "execute_result"
    }
   ],
   "source": [
    "clés = [\"Nom\", \"Prénoms\", \"Age\", \"Statut\", \"Profession\"]\n",
    "\n",
    "values = [\"Ian\", \"Anderson\", 25, \"Couplebataire\", \"Humoriste\"]\n",
    "\n",
    "dictionnaire = dict(zip(clés, values))\n",
    "\n",
    "dictionnaire"
   ]
  },
  {
   "cell_type": "markdown",
   "id": "9e89d0e5",
   "metadata": {},
   "source": [
    "### 30. Identifiez les éléments communs entre deux listes."
   ]
  },
  {
   "cell_type": "code",
   "execution_count": 60,
   "id": "ecfb5799",
   "metadata": {},
   "outputs": [
    {
     "data": {
      "text/plain": [
       "[12, 'Fin']"
      ]
     },
     "execution_count": 60,
     "metadata": {},
     "output_type": "execute_result"
    }
   ],
   "source": [
    "premiere_liste = [5, 12, \"Volaille\", \"Chance\", \"Perle\", \"Fin\"]\n",
    "seconde_liste = [\"Number\", \"Boème\", \"Fin\", \"Conqueror\", 12, 22]\n",
    "\n",
    "commun = [x for x in premiere_liste if x in seconde_liste]\n",
    "commun"
   ]
  },
  {
   "cell_type": "markdown",
   "id": "8895abd0",
   "metadata": {},
   "source": [
    "## **III. Exercices sur les Tuples**"
   ]
  },
  {
   "cell_type": "markdown",
   "id": "e146cfe2",
   "metadata": {},
   "source": [
    "### 1. Créez un tuple contenant cinq nombres entiers."
   ]
  },
  {
   "cell_type": "code",
   "execution_count": 62,
   "id": "4780f1c0",
   "metadata": {},
   "outputs": [
    {
     "data": {
      "text/plain": [
       "(10, 20, 30, 60, 70)"
      ]
     },
     "execution_count": 62,
     "metadata": {},
     "output_type": "execute_result"
    }
   ],
   "source": [
    "numb = (10, 20, 30, 60, 70)\n",
    "numb"
   ]
  },
  {
   "cell_type": "markdown",
   "id": "54f2d05e",
   "metadata": {},
   "source": [
    "### 2. Accédez au troisième élément du tuple."
   ]
  },
  {
   "cell_type": "code",
   "execution_count": 63,
   "id": "15a8e947",
   "metadata": {},
   "outputs": [
    {
     "data": {
      "text/plain": [
       "30"
      ]
     },
     "execution_count": 63,
     "metadata": {},
     "output_type": "execute_result"
    }
   ],
   "source": [
    "numb[2]"
   ]
  },
  {
   "cell_type": "markdown",
   "id": "ed08a72a",
   "metadata": {},
   "source": [
    "### 3. Transformez un tuple en liste, modifiez un élément, puis retransformez-le en tuple."
   ]
  },
  {
   "cell_type": "code",
   "execution_count": 64,
   "id": "d9d8300f",
   "metadata": {},
   "outputs": [
    {
     "data": {
      "text/plain": [
       "(10, 20, 40, 60, 70)"
      ]
     },
     "execution_count": 64,
     "metadata": {},
     "output_type": "execute_result"
    }
   ],
   "source": [
    "numb_liste = list(numb)\n",
    "numb_liste[2] = 40\n",
    "numb = tuple(numb_liste)\n",
    "numb"
   ]
  },
  {
   "cell_type": "markdown",
   "id": "5c5ca0ed",
   "metadata": {},
   "source": [
    "### 4. Vérifiez si un élément donné est présent dans un tuple."
   ]
  },
  {
   "cell_type": "code",
   "execution_count": 66,
   "id": "17957b17",
   "metadata": {},
   "outputs": [
    {
     "name": "stdout",
     "output_type": "stream",
     "text": [
      "30 is not in numb\n"
     ]
    }
   ],
   "source": [
    "elm = 30\n",
    "if elm in numb:\n",
    "    print(elm, \"is in numb\")\n",
    "else:\n",
    "    print(elm, \"is not in numb\")"
   ]
  },
  {
   "cell_type": "markdown",
   "id": "07f8e0ee",
   "metadata": {},
   "source": [
    "### 5. Concaténez deux tuples en un seul."
   ]
  },
  {
   "cell_type": "code",
   "execution_count": 69,
   "id": "574ecc88",
   "metadata": {},
   "outputs": [
    {
     "data": {
      "text/plain": [
       "(10, 20, 40, 60, 70, 'Banana', 'Apple', 'Pineapple', 'Berries', 'Watermelon')"
      ]
     },
     "execution_count": 69,
     "metadata": {},
     "output_type": "execute_result"
    }
   ],
   "source": [
    "fruits = (\"Banana\", \"Apple\", \"Pineapple\", \"Berries\", \"Watermelon\")\n",
    "concate1 = numb + fruits \n",
    "concate1"
   ]
  },
  {
   "cell_type": "code",
   "execution_count": 70,
   "id": "2f87625a",
   "metadata": {},
   "outputs": [
    {
     "data": {
      "text/plain": [
       "(10, 20, 40, 60, 70, 'Banana', 'Apple', 'Pineapple', 'Berries', 'Watermelon')"
      ]
     },
     "execution_count": 70,
     "metadata": {},
     "output_type": "execute_result"
    }
   ],
   "source": [
    "concate2 = tuple(list(numb) + list(fruits))\n",
    "concate2"
   ]
  },
  {
   "cell_type": "markdown",
   "id": "7c083808",
   "metadata": {},
   "source": [
    "### 6. Extrayez une sous-partie d'un tuple."
   ]
  },
  {
   "cell_type": "code",
   "execution_count": 75,
   "id": "e2048383",
   "metadata": {},
   "outputs": [
    {
     "data": {
      "text/plain": [
       "(20, 40, 60, 70, 'Banana', 'Apple', 'Pineapple', 'Berries')"
      ]
     },
     "execution_count": 75,
     "metadata": {},
     "output_type": "execute_result"
    }
   ],
   "source": [
    "concate1[1:9]"
   ]
  },
  {
   "cell_type": "markdown",
   "id": "6fb2c3c1",
   "metadata": {},
   "source": [
    "### 7. Déterminez la longueur d'un tuple."
   ]
  },
  {
   "cell_type": "code",
   "execution_count": 73,
   "id": "885ddfa7",
   "metadata": {},
   "outputs": [
    {
     "data": {
      "text/plain": [
       "10"
      ]
     },
     "execution_count": 73,
     "metadata": {},
     "output_type": "execute_result"
    }
   ],
   "source": [
    "len(concate2)"
   ]
  },
  {
   "cell_type": "markdown",
   "id": "418a98f6",
   "metadata": {},
   "source": [
    "### 8. Trouvez la position d’un élément spécifique dans un tuple."
   ]
  },
  {
   "cell_type": "code",
   "execution_count": 74,
   "id": "638aabad",
   "metadata": {},
   "outputs": [
    {
     "data": {
      "text/plain": [
       "5"
      ]
     },
     "execution_count": 74,
     "metadata": {},
     "output_type": "execute_result"
    }
   ],
   "source": [
    "concate2.index(\"Banana\")"
   ]
  },
  {
   "cell_type": "markdown",
   "id": "da44af84",
   "metadata": {},
   "source": [
    "### 9. Convertissez un tuple de nombres en une chaîne de caractères."
   ]
  },
  {
   "cell_type": "code",
   "execution_count": 79,
   "id": "10f8585d",
   "metadata": {},
   "outputs": [
    {
     "data": {
      "text/plain": [
       "'1020406070'"
      ]
     },
     "execution_count": 79,
     "metadata": {},
     "output_type": "execute_result"
    }
   ],
   "source": [
    "chaine = ''.join(str(n) for n in numb)\n",
    "chaine"
   ]
  },
  {
   "cell_type": "markdown",
   "id": "8ff97a14",
   "metadata": {},
   "source": [
    "### 10. Expliquez pourquoi les tuples sont utiles pour stocker des données immuables.\n",
    "\n",
    "Les tuples sont utiles pour stocker des données immuables car une fois qu'elles sont créées, elles ne peuvent être modifié. Cela permet de protéger les données stockées."
   ]
  },
  {
   "cell_type": "markdown",
   "id": "7d195ec7",
   "metadata": {},
   "source": [
    "## **IV. Exercices sur les Dictionnaires**"
   ]
  },
  {
   "cell_type": "markdown",
   "id": "b9fdd024",
   "metadata": {},
   "source": [
    "### 1. Créez un dictionnaire contenant trois clés : \"nom\", \"âge\" et \"ville\"."
   ]
  },
  {
   "cell_type": "code",
   "execution_count": 109,
   "id": "b4e99a2f",
   "metadata": {},
   "outputs": [
    {
     "data": {
      "text/plain": [
       "{'Nom': 'Terrence', 'Age': 20, 'Ville': 'Vénis'}"
      ]
     },
     "execution_count": 109,
     "metadata": {},
     "output_type": "execute_result"
    }
   ],
   "source": [
    "infos = {\n",
    "    \"Nom\" : \"Terrence\",\n",
    "    \"Age\" : 20,\n",
    "    \"Ville\" : \"Vénis\"\n",
    "}\n",
    "\n",
    "infos"
   ]
  },
  {
   "cell_type": "markdown",
   "id": "b3fdafcd",
   "metadata": {},
   "source": [
    "### 2. Affichez la valeur associée à la clé \"âge\"."
   ]
  },
  {
   "cell_type": "code",
   "execution_count": 104,
   "id": "b4b6188a",
   "metadata": {},
   "outputs": [
    {
     "data": {
      "text/plain": [
       "20"
      ]
     },
     "execution_count": 104,
     "metadata": {},
     "output_type": "execute_result"
    }
   ],
   "source": [
    "infos[\"Age\"]"
   ]
  },
  {
   "cell_type": "markdown",
   "id": "a543b8a6",
   "metadata": {},
   "source": [
    "### 3. Ajoutez une nouvelle clé \"profession\" au dictionnaire."
   ]
  },
  {
   "cell_type": "code",
   "execution_count": 110,
   "id": "f9b5de88",
   "metadata": {},
   "outputs": [
    {
     "data": {
      "text/plain": [
       "{'Nom': 'Terrence',\n",
       " 'Age': 20,\n",
       " 'Ville': 'Vénis',\n",
       " 'Profession': \"Chef d'entreprise\"}"
      ]
     },
     "execution_count": 110,
     "metadata": {},
     "output_type": "execute_result"
    }
   ],
   "source": [
    "infos[\"Profession\"] = \"Chef d'entreprise\"\n",
    "infos"
   ]
  },
  {
   "cell_type": "code",
   "execution_count": 106,
   "id": "5965c64c",
   "metadata": {},
   "outputs": [
    {
     "data": {
      "text/plain": [
       "{'Nom': 'Terrence',\n",
       " 'Age': 20,\n",
       " 'Ville': 'Vénis',\n",
       " 'Profession': \"Chef d'entreprise\"}"
      ]
     },
     "execution_count": 106,
     "metadata": {},
     "output_type": "execute_result"
    }
   ],
   "source": [
    "infos.update({\"Profession\" : \"Chef d'entreprise\"})\n",
    "infos"
   ]
  },
  {
   "cell_type": "markdown",
   "id": "b4c851fa",
   "metadata": {},
   "source": [
    "### 4. Modifiez la valeur associée à \"ville\"."
   ]
  },
  {
   "cell_type": "code",
   "execution_count": 111,
   "id": "28c20861",
   "metadata": {},
   "outputs": [
    {
     "data": {
      "text/plain": [
       "{'Nom': 'Terrence',\n",
       " 'Age': 20,\n",
       " 'Ville': 'Madrid',\n",
       " 'Profession': \"Chef d'entreprise\"}"
      ]
     },
     "execution_count": 111,
     "metadata": {},
     "output_type": "execute_result"
    }
   ],
   "source": [
    "infos[\"Ville\"] = \"Madrid\"\n",
    "infos"
   ]
  },
  {
   "cell_type": "markdown",
   "id": "af31b561",
   "metadata": {},
   "source": [
    "### 5. Supprimez une clé du dictionnaire."
   ]
  },
  {
   "cell_type": "code",
   "execution_count": 101,
   "id": "370c6305",
   "metadata": {},
   "outputs": [
    {
     "data": {
      "text/plain": [
       "{'Nom': 'Terrence', 'Age': 20, 'Ville': 'Madrid'}"
      ]
     },
     "execution_count": 101,
     "metadata": {},
     "output_type": "execute_result"
    }
   ],
   "source": [
    "infos.pop(\"Profession\")\n",
    "infos"
   ]
  },
  {
   "cell_type": "code",
   "execution_count": 108,
   "id": "d139aa6c",
   "metadata": {},
   "outputs": [
    {
     "data": {
      "text/plain": [
       "{'Nom': 'Terrence', 'Age': 20, 'Ville': 'Madrid'}"
      ]
     },
     "execution_count": 108,
     "metadata": {},
     "output_type": "execute_result"
    }
   ],
   "source": [
    "infos.popitem()\n",
    "infos"
   ]
  },
  {
   "cell_type": "code",
   "execution_count": 112,
   "id": "82a95beb",
   "metadata": {},
   "outputs": [
    {
     "data": {
      "text/plain": [
       "{'Nom': 'Terrence', 'Age': 20, 'Ville': 'Madrid'}"
      ]
     },
     "execution_count": 112,
     "metadata": {},
     "output_type": "execute_result"
    }
   ],
   "source": [
    "del infos[\"Profession\"]\n",
    "infos"
   ]
  },
  {
   "cell_type": "markdown",
   "id": "7311f6fa",
   "metadata": {},
   "source": [
    "### 6. Vérifiez si une clé existe dans le dictionnaire."
   ]
  },
  {
   "cell_type": "code",
   "execution_count": 114,
   "id": "e6921a36",
   "metadata": {},
   "outputs": [
    {
     "name": "stdout",
     "output_type": "stream",
     "text": [
      "Statut is not in infos\n"
     ]
    }
   ],
   "source": [
    "if \"Statut\" in infos:\n",
    "    print(\"Statut is in infos\")\n",
    "else:\n",
    "    print(\"Statut is not in infos\")"
   ]
  },
  {
   "cell_type": "markdown",
   "id": "5ae1ee0a",
   "metadata": {},
   "source": [
    "### 7. Récupérez toutes les clés du dictionnaire."
   ]
  },
  {
   "cell_type": "code",
   "execution_count": 115,
   "id": "52693e13",
   "metadata": {},
   "outputs": [
    {
     "data": {
      "text/plain": [
       "dict_keys(['Nom', 'Age', 'Ville'])"
      ]
     },
     "execution_count": 115,
     "metadata": {},
     "output_type": "execute_result"
    }
   ],
   "source": [
    "infos.keys()"
   ]
  },
  {
   "cell_type": "markdown",
   "id": "8ebcebf4",
   "metadata": {},
   "source": [
    "### 8. Récupérez toutes les valeurs du dictionnaire."
   ]
  },
  {
   "cell_type": "code",
   "execution_count": 116,
   "id": "be704811",
   "metadata": {},
   "outputs": [
    {
     "data": {
      "text/plain": [
       "dict_values(['Terrence', 20, 'Madrid'])"
      ]
     },
     "execution_count": 116,
     "metadata": {},
     "output_type": "execute_result"
    }
   ],
   "source": [
    "infos.values()"
   ]
  },
  {
   "cell_type": "markdown",
   "id": "7051cfcf",
   "metadata": {},
   "source": [
    "### 9. Transformez le dictionnaire en une liste de tuples."
   ]
  },
  {
   "cell_type": "code",
   "execution_count": 119,
   "id": "6dedfe0f",
   "metadata": {},
   "outputs": [
    {
     "data": {
      "text/plain": [
       "(('Nom', 'Terrence'), ('Age', 20), ('Ville', 'Madrid'))"
      ]
     },
     "execution_count": 119,
     "metadata": {},
     "output_type": "execute_result"
    }
   ],
   "source": [
    "infos_tuple = tuple(infos.items())\n",
    "infos_tuple"
   ]
  },
  {
   "cell_type": "markdown",
   "id": "283a6929",
   "metadata": {},
   "source": [
    "### 10. Fusionnez deux dictionnaires."
   ]
  },
  {
   "cell_type": "code",
   "execution_count": 120,
   "id": "2c8dc37c",
   "metadata": {},
   "outputs": [
    {
     "data": {
      "text/plain": [
       "{'Nom': 'Ian',\n",
       " 'Age': 25,\n",
       " 'Ville': 'Madrid',\n",
       " 'Prénoms': 'Anderson',\n",
       " 'Statut': 'Couplebataire',\n",
       " 'Profession': 'Humoriste'}"
      ]
     },
     "execution_count": 120,
     "metadata": {},
     "output_type": "execute_result"
    }
   ],
   "source": [
    "join_dict1 = {**infos, **dictionnaire}\n",
    "join_dict1"
   ]
  },
  {
   "cell_type": "code",
   "execution_count": 125,
   "id": "86a4a0be",
   "metadata": {},
   "outputs": [
    {
     "data": {
      "text/plain": [
       "{'Nom': 'Ian',\n",
       " 'Age': 25,\n",
       " 'Ville': 'Madrid',\n",
       " 'Prénoms': 'Anderson',\n",
       " 'Statut': 'Couplebataire',\n",
       " 'Profession': 'Humoriste'}"
      ]
     },
     "execution_count": 125,
     "metadata": {},
     "output_type": "execute_result"
    }
   ],
   "source": [
    "join_dict2 = infos | dictionnaire\n",
    "join_dict2"
   ]
  },
  {
   "cell_type": "code",
   "execution_count": 127,
   "id": "e5485a0f",
   "metadata": {},
   "outputs": [
    {
     "data": {
      "text/plain": [
       "{'Nom': 'Ian',\n",
       " 'Age': 25,\n",
       " 'Ville': 'Madrid',\n",
       " 'Prénoms': 'Anderson',\n",
       " 'Statut': 'Couplebataire',\n",
       " 'Profession': 'Humoriste'}"
      ]
     },
     "execution_count": 127,
     "metadata": {},
     "output_type": "execute_result"
    }
   ],
   "source": [
    "infos.update(dictionnaire)\n",
    "infos"
   ]
  },
  {
   "cell_type": "markdown",
   "id": "6cfba444",
   "metadata": {},
   "source": [
    "### 11. Créez un dictionnaire dont les clés sont des pays et les valeurs leurs capitales."
   ]
  },
  {
   "cell_type": "code",
   "execution_count": 7,
   "id": "7012d8ff",
   "metadata": {},
   "outputs": [
    {
     "data": {
      "text/plain": [
       "{'Bénin': 'Porto-Novo',\n",
       " 'Colombie': 'Bogota',\n",
       " 'Mali': 'Bamako',\n",
       " \"Côte d'ivoire\": 'Yamoussokro',\n",
       " 'Burkina Faso': 'Ouagadogou',\n",
       " 'Gabon': 'Libreville',\n",
       " 'Sierra Leone': 'Freetown'}"
      ]
     },
     "execution_count": 7,
     "metadata": {},
     "output_type": "execute_result"
    }
   ],
   "source": [
    "countrycap = {\n",
    "    \"Bénin\" : \"Porto-Novo\",\n",
    "    \"Colombie\" : \"Bogota\",\n",
    "    \"Mali\" : \"Bamako\",\n",
    "    \"Côte d'ivoire\" : \"Yamoussokro\",\n",
    "    \"Burkina Faso\" : \"Ouagadogou\", \n",
    "    \"Gabon\" : \"Libreville\",\n",
    "    \"Sierra Leone\" : \"Freetown\"\n",
    "}\n",
    "\n",
    "countrycap"
   ]
  },
  {
   "cell_type": "markdown",
   "id": "3e631df9",
   "metadata": {},
   "source": [
    "### 12. Accédez à la capitale d’un pays donné."
   ]
  },
  {
   "cell_type": "code",
   "execution_count": 129,
   "id": "50a556f3",
   "metadata": {},
   "outputs": [
    {
     "data": {
      "text/plain": [
       "'Bamako'"
      ]
     },
     "execution_count": 129,
     "metadata": {},
     "output_type": "execute_result"
    }
   ],
   "source": [
    "countrycap[\"Mali\"]"
   ]
  },
  {
   "cell_type": "markdown",
   "id": "d1696e57",
   "metadata": {},
   "source": [
    "### 13. Remplacez une capitale par une autre."
   ]
  },
  {
   "cell_type": "code",
   "execution_count": 131,
   "id": "13ee5ce2",
   "metadata": {},
   "outputs": [
    {
     "data": {
      "text/plain": [
       "{'Bénin': 'Porto-Novo',\n",
       " 'Colombie': 'Cotonou',\n",
       " 'Mali': 'Bamako',\n",
       " \"Côte d'ivoire\": 'Yamoussokro',\n",
       " 'Burkina Faso': 'Ouagadogou',\n",
       " 'Gabon': 'Libreville',\n",
       " 'Sierra Leone': 'Freetown'}"
      ]
     },
     "execution_count": 131,
     "metadata": {},
     "output_type": "execute_result"
    }
   ],
   "source": [
    "countrycap[\"Colombie\"] = \"Cotonou\"\n",
    "countrycap"
   ]
  },
  {
   "cell_type": "markdown",
   "id": "bd2cc81f",
   "metadata": {},
   "source": [
    "### 14. Inversez les clés et les valeurs d’un dictionnaire."
   ]
  },
  {
   "cell_type": "code",
   "execution_count": 135,
   "id": "cb0f6b66",
   "metadata": {},
   "outputs": [
    {
     "data": {
      "text/plain": [
       "{'Porto-Novo': 'Bénin',\n",
       " 'Cotonou': 'Colombie',\n",
       " 'Bamako': 'Mali',\n",
       " 'Yamoussokro': \"Côte d'ivoire\",\n",
       " 'Ouagadogou': 'Burkina Faso',\n",
       " 'Libreville': 'Gabon',\n",
       " 'Freetown': 'Sierra Leone'}"
      ]
     },
     "execution_count": 135,
     "metadata": {},
     "output_type": "execute_result"
    }
   ],
   "source": [
    "inverse1 = {v:k for k, v in countrycap.items()}\n",
    "inverse1"
   ]
  },
  {
   "cell_type": "code",
   "execution_count": 136,
   "id": "fbaa3b03",
   "metadata": {},
   "outputs": [
    {
     "data": {
      "text/plain": [
       "{'Porto-Novo': 'Bénin',\n",
       " 'Cotonou': 'Colombie',\n",
       " 'Bamako': 'Mali',\n",
       " 'Yamoussokro': \"Côte d'ivoire\",\n",
       " 'Ouagadogou': 'Burkina Faso',\n",
       " 'Libreville': 'Gabon',\n",
       " 'Freetown': 'Sierra Leone'}"
      ]
     },
     "execution_count": 136,
     "metadata": {},
     "output_type": "execute_result"
    }
   ],
   "source": [
    "inverse2 = dict(zip(countrycap.values(), countrycap.keys()))\n",
    "inverse2"
   ]
  },
  {
   "cell_type": "markdown",
   "id": "4e36e0a5",
   "metadata": {},
   "source": [
    "### 15. Convertissez deux listes en un dictionnaire."
   ]
  },
  {
   "cell_type": "code",
   "execution_count": 133,
   "id": "b4c286a8",
   "metadata": {},
   "outputs": [
    {
     "data": {
      "text/plain": [
       "{1: 'Mardi', 2: 'Mercredi', 3: 'Marie', 10: 'Violetta', 50: 'Ludmilla'}"
      ]
     },
     "execution_count": 133,
     "metadata": {},
     "output_type": "execute_result"
    }
   ],
   "source": [
    "newdict = dict(zip(list1, list2))\n",
    "newdict"
   ]
  },
  {
   "cell_type": "markdown",
   "id": "86c80629",
   "metadata": {},
   "source": [
    "### 16. Filtrez un dictionnaire pour ne garder que certaines clés."
   ]
  },
  {
   "cell_type": "code",
   "execution_count": 139,
   "id": "dd942834",
   "metadata": {},
   "outputs": [
    {
     "data": {
      "text/plain": [
       "{'Porto-Novo': 'Bénin',\n",
       " 'Bamako': 'Mali',\n",
       " 'Yamoussokro': \"Côte d'ivoire\",\n",
       " 'Ouagadogou': 'Burkina Faso',\n",
       " 'Freetown': 'Sierra Leone'}"
      ]
     },
     "execution_count": 139,
     "metadata": {},
     "output_type": "execute_result"
    }
   ],
   "source": [
    "garder = [\"Cotonou\", \"Libreville\"]\n",
    "newinfos = {k:v for k, v in inverse2.items() if k not in garder}\n",
    "newinfos"
   ]
  },
  {
   "cell_type": "markdown",
   "id": "065ea3e3",
   "metadata": {},
   "source": [
    "### 17. Supprimez une clé sans générer d’erreur si elle n’existe pas."
   ]
  },
  {
   "cell_type": "code",
   "execution_count": 140,
   "id": "4146a8fc",
   "metadata": {},
   "outputs": [
    {
     "data": {
      "text/plain": [
       "{'Porto-Novo': 'Bénin',\n",
       " 'Cotonou': 'Colombie',\n",
       " 'Bamako': 'Mali',\n",
       " 'Yamoussokro': \"Côte d'ivoire\",\n",
       " 'Ouagadogou': 'Burkina Faso',\n",
       " 'Libreville': 'Gabon',\n",
       " 'Freetown': 'Sierra Leone'}"
      ]
     },
     "execution_count": 140,
     "metadata": {},
     "output_type": "execute_result"
    }
   ],
   "source": [
    "supprimer = \"Lomé\"\n",
    "inverse2.pop(supprimer, None)\n",
    "inverse2"
   ]
  },
  {
   "cell_type": "code",
   "execution_count": 141,
   "id": "4da03070",
   "metadata": {},
   "outputs": [
    {
     "data": {
      "text/plain": [
       "{'Porto-Novo': 'Bénin',\n",
       " 'Cotonou': 'Colombie',\n",
       " 'Bamako': 'Mali',\n",
       " 'Yamoussokro': \"Côte d'ivoire\",\n",
       " 'Ouagadogou': 'Burkina Faso',\n",
       " 'Libreville': 'Gabon',\n",
       " 'Freetown': 'Sierra Leone'}"
      ]
     },
     "execution_count": 141,
     "metadata": {},
     "output_type": "execute_result"
    }
   ],
   "source": [
    "supprimer = \"Pretoria\"\n",
    "try:\n",
    "    del inverse2[\"Pretoria\"]\n",
    "except KeyError:\n",
    "    pass\n",
    "inverse2"
   ]
  },
  {
   "cell_type": "markdown",
   "id": "47d9c73e",
   "metadata": {},
   "source": [
    "### 18. Affichez les paires clé-valeur sous forme de chaîne formatée."
   ]
  },
  {
   "cell_type": "code",
   "execution_count": 143,
   "id": "aae2d35e",
   "metadata": {},
   "outputs": [
    {
     "name": "stdout",
     "output_type": "stream",
     "text": [
      "Porto-Novo Bénin\n",
      "Cotonou Colombie\n",
      "Bamako Mali\n",
      "Yamoussokro Côte d'ivoire\n",
      "Ouagadogou Burkina Faso\n",
      "Libreville Gabon\n",
      "Freetown Sierra Leone\n"
     ]
    }
   ],
   "source": [
    "for k, v in inverse2.items():\n",
    "    print(k, v)"
   ]
  },
  {
   "cell_type": "markdown",
   "id": "eae421ea",
   "metadata": {},
   "source": [
    "### 19. Calculez la somme des valeurs d’un dictionnaire de nombres."
   ]
  },
  {
   "cell_type": "code",
   "execution_count": 144,
   "id": "56a9f948",
   "metadata": {},
   "outputs": [
    {
     "name": "stdout",
     "output_type": "stream",
     "text": [
      "The sum of the maths' notes of students is 72\n"
     ]
    }
   ],
   "source": [
    "maths = {\n",
    "    \"Bertrand\" : 15,\n",
    "    \"Gontrand\" : 18,\n",
    "    \"Grégoire\" : 19,\n",
    "    \"Colette\" : 20\n",
    "}\n",
    "print(\"The sum of the maths' notes of students is\", sum(maths.values()))"
   ]
  },
  {
   "cell_type": "markdown",
   "id": "91219077",
   "metadata": {},
   "source": [
    "### 20. Trouvez la clé associée à la plus grande valeur."
   ]
  },
  {
   "cell_type": "code",
   "execution_count": 147,
   "id": "ac3134a1",
   "metadata": {},
   "outputs": [
    {
     "data": {
      "text/plain": [
       "{'Colette'}"
      ]
     },
     "execution_count": 147,
     "metadata": {},
     "output_type": "execute_result"
    }
   ],
   "source": [
    "maxdict = {k for k, v in maths.items() if v == max(maths.values())}\n",
    "maxdict"
   ]
  },
  {
   "cell_type": "markdown",
   "id": "a30fbb8c",
   "metadata": {},
   "source": [
    "### 21. Créez un dictionnaire imbriqué (dictionnaire de dictionnaires)."
   ]
  },
  {
   "cell_type": "code",
   "execution_count": 154,
   "id": "a6be0beb",
   "metadata": {},
   "outputs": [
    {
     "data": {
      "text/plain": [
       "{'Mets1': {'Entrée': 'Samoussa',\n",
       "  'Résistance': 'Thiep',\n",
       "  'Déssert': 'Déguè aux fruits secs'},\n",
       " 'Mets2': {'Entrée': 'Accra',\n",
       "  'Résistance': 'Poulet yassa accompagné de riz créole',\n",
       "  'Déssert': 'Makroud'},\n",
       " 'mets3': {'Entrée': 'Brik',\n",
       "  'Résistance': 'Man tindjan avec pâte noire',\n",
       "  'Déssert': 'Puff puff'}}"
      ]
     },
     "execution_count": 154,
     "metadata": {},
     "output_type": "execute_result"
    }
   ],
   "source": [
    "repas = {\n",
    "    \"Mets1\" : {\n",
    "        \"Entrée\" : \"Samoussa\",\n",
    "        \"Résistance\" : \"Thiep\",\n",
    "        \"Déssert\" : \"Déguè aux fruits secs\"\n",
    "    },\n",
    "    \"Mets2\" : {\n",
    "        \"Entrée\" : \"Accra\",\n",
    "        \"Résistance\" : \"Poulet yassa accompagné de riz créole\",\n",
    "        \"Déssert\" : \"Makroud\" \n",
    "    },\n",
    "    \"mets3\" : {\n",
    "        \"Entrée\" : \"Brik\",\n",
    "        \"Résistance\" : \"Man tindjan avec pâte noire\",\n",
    "        \"Déssert\" : \"Puff puff\"\n",
    "    }\n",
    "}\n",
    "repas"
   ]
  },
  {
   "cell_type": "markdown",
   "id": "b21e63ff",
   "metadata": {},
   "source": [
    "### 22. Accédez à une valeur dans un dictionnaire imbriqué."
   ]
  },
  {
   "cell_type": "code",
   "execution_count": 155,
   "id": "ae67ae8c",
   "metadata": {},
   "outputs": [
    {
     "data": {
      "text/plain": [
       "'Makroud'"
      ]
     },
     "execution_count": 155,
     "metadata": {},
     "output_type": "execute_result"
    }
   ],
   "source": [
    "repas[\"Mets2\"][\"Déssert\"]"
   ]
  },
  {
   "cell_type": "markdown",
   "id": "dd1ada3f",
   "metadata": {},
   "source": [
    "### 23. Supprimez un élément spécifique d’un dictionnaire imbriqué."
   ]
  },
  {
   "cell_type": "code",
   "execution_count": 156,
   "id": "7151dee7",
   "metadata": {},
   "outputs": [
    {
     "data": {
      "text/plain": [
       "{'Mets1': {'Entrée': 'Samoussa',\n",
       "  'Résistance': 'Thiep',\n",
       "  'Déssert': 'Déguè aux fruits secs'},\n",
       " 'Mets2': {'Entrée': 'Accra',\n",
       "  'Résistance': 'Poulet yassa accompagné de riz créole'},\n",
       " 'mets3': {'Entrée': 'Brik',\n",
       "  'Résistance': 'Man tindjan avec pâte noire',\n",
       "  'Déssert': 'Puff puff'}}"
      ]
     },
     "execution_count": 156,
     "metadata": {},
     "output_type": "execute_result"
    }
   ],
   "source": [
    "del repas[\"Mets2\"][\"Déssert\"]\n",
    "repas"
   ]
  },
  {
   "cell_type": "markdown",
   "id": "5dd4c51a",
   "metadata": {},
   "source": [
    "### 24. Fusionnez deux dictionnaires sans écraser les valeurs existantes."
   ]
  },
  {
   "cell_type": "code",
   "execution_count": 162,
   "id": "e73d258f",
   "metadata": {},
   "outputs": [
    {
     "data": {
      "text/plain": [
       "{'Nom': ['Ian', 'Ian'],\n",
       " 'Age': [25, 25],\n",
       " 'Ville': ['Madrid'],\n",
       " 'Prénoms': ['Anderson', 'Anderson'],\n",
       " 'Statut': ['Couplebataire', 'Couplebataire'],\n",
       " 'Profession': ['Humoriste', 'Humoriste']}"
      ]
     },
     "execution_count": 162,
     "metadata": {},
     "output_type": "execute_result"
    }
   ],
   "source": [
    "join2 = {}\n",
    "\n",
    "for k, v in infos.items():\n",
    "    join2[k] = [v]\n",
    "for k, v in dictionnaire.items():\n",
    "    if k in join2:\n",
    "            join2[k].append(v)\n",
    "    else:\n",
    "            join2[k] = [v]\n",
    "\n",
    "join2"
   ]
  },
  {
   "cell_type": "markdown",
   "id": "d2396539",
   "metadata": {},
   "source": [
    "### 25. Trier un dictionnaire par ses clés."
   ]
  },
  {
   "cell_type": "code",
   "execution_count": 163,
   "id": "95a91108",
   "metadata": {},
   "outputs": [
    {
     "data": {
      "text/plain": [
       "{'Age': 25,\n",
       " 'Nom': 'Ian',\n",
       " 'Profession': 'Humoriste',\n",
       " 'Prénoms': 'Anderson',\n",
       " 'Statut': 'Couplebataire',\n",
       " 'Ville': 'Madrid'}"
      ]
     },
     "execution_count": 163,
     "metadata": {},
     "output_type": "execute_result"
    }
   ],
   "source": [
    "sort1 = dict(sorted(infos.items()))\n",
    "sort1"
   ]
  },
  {
   "cell_type": "code",
   "execution_count": 165,
   "id": "b3499c10",
   "metadata": {},
   "outputs": [
    {
     "data": {
      "text/plain": [
       "{'Ville': 'Madrid',\n",
       " 'Statut': 'Couplebataire',\n",
       " 'Prénoms': 'Anderson',\n",
       " 'Profession': 'Humoriste',\n",
       " 'Nom': 'Ian',\n",
       " 'Age': 25}"
      ]
     },
     "execution_count": 165,
     "metadata": {},
     "output_type": "execute_result"
    }
   ],
   "source": [
    "sort2 = dict(sorted(infos.items(), reverse=True))\n",
    "sort2"
   ]
  },
  {
   "cell_type": "code",
   "execution_count": 169,
   "id": "e19b8ddc",
   "metadata": {},
   "outputs": [
    {
     "data": {
      "text/plain": [
       "{'Age': 25,\n",
       " 'Nom': 'Ian',\n",
       " 'Profession': 'Humoriste',\n",
       " 'Prénoms': 'Anderson',\n",
       " 'Statut': 'Couplebataire',\n",
       " 'Ville': 'Madrid'}"
      ]
     },
     "execution_count": 169,
     "metadata": {},
     "output_type": "execute_result"
    }
   ],
   "source": [
    "sortkey = {}\n",
    "for k in sorted(infos.keys()):\n",
    "    sortkey[k] = infos[k]\n",
    "sortkey"
   ]
  },
  {
   "cell_type": "markdown",
   "id": "4fdde470",
   "metadata": {},
   "source": [
    "### 26. Trier un dictionnaire par ses valeurs."
   ]
  },
  {
   "cell_type": "code",
   "execution_count": 176,
   "id": "9397601a",
   "metadata": {},
   "outputs": [
    {
     "data": {
      "text/plain": [
       "{'Bertrand': 15, 'Gontrand': 18, 'Grégoire': 19, 'Colette': 20}"
      ]
     },
     "execution_count": 176,
     "metadata": {},
     "output_type": "execute_result"
    }
   ],
   "source": [
    "sortvalue = {k: v for k, v in sorted(maths.items(), key=lambda item: item[1])}\n",
    "sortvalue"
   ]
  },
  {
   "cell_type": "code",
   "execution_count": 179,
   "id": "0f41f391",
   "metadata": {},
   "outputs": [
    {
     "data": {
      "text/plain": [
       "{'Bertrand': 15, 'Gontrand': 18, 'Grégoire': 19, 'Colette': 20}"
      ]
     },
     "execution_count": 179,
     "metadata": {},
     "output_type": "execute_result"
    }
   ],
   "source": [
    "sortv = {}\n",
    "for k, v in sorted(maths.items(), key=lambda item: item[1]):\n",
    "    sortv[k] = v\n",
    "sortv"
   ]
  },
  {
   "cell_type": "markdown",
   "id": "2e0155c8",
   "metadata": {},
   "source": [
    "### 27. Convertissez un dictionnaire en JSON."
   ]
  },
  {
   "cell_type": "code",
   "execution_count": 180,
   "id": "c6dee582",
   "metadata": {},
   "outputs": [
    {
     "data": {
      "text/plain": [
       "'{\"Mets1\": {\"Entr\\\\u00e9e\": \"Samoussa\", \"R\\\\u00e9sistance\": \"Thiep\", \"D\\\\u00e9ssert\": \"D\\\\u00e9gu\\\\u00e8 aux fruits secs\"}, \"Mets2\": {\"Entr\\\\u00e9e\": \"Accra\", \"R\\\\u00e9sistance\": \"Poulet yassa accompagn\\\\u00e9 de riz cr\\\\u00e9ole\"}, \"mets3\": {\"Entr\\\\u00e9e\": \"Brik\", \"R\\\\u00e9sistance\": \"Man tindjan avec p\\\\u00e2te noire\", \"D\\\\u00e9ssert\": \"Puff puff\"}}'"
      ]
     },
     "execution_count": 180,
     "metadata": {},
     "output_type": "execute_result"
    }
   ],
   "source": [
    "import json as js\n",
    "\n",
    "jsonn = js.dumps(repas)\n",
    "jsonn"
   ]
  },
  {
   "cell_type": "markdown",
   "id": "f8cdaab6",
   "metadata": {},
   "source": [
    "### 28. Créez un dictionnaire à partir d’une liste en comptant les occurrences des éléments."
   ]
  },
  {
   "cell_type": "code",
   "execution_count": 4,
   "id": "439b8bb1",
   "metadata": {},
   "outputs": [
    {
     "name": "stdout",
     "output_type": "stream",
     "text": [
      "{1: 1, 2: 1, 3: 1, 10: 1, 50: 1, 'Mardi': 1, 'Mercredi': 1, 'Marie': 1, 'Violetta': 1, 'Ludmilla': 1}\n"
     ]
    }
   ],
   "source": [
    "dict_occur = {}\n",
    "\n",
    "for elm in list1:\n",
    "    if elm in dict_occur:\n",
    "        dict_occur[elm] += 1\n",
    "    else:\n",
    "        dict_occur[elm] = 1\n",
    "\n",
    "print(dict_occur)"
   ]
  },
  {
   "cell_type": "code",
   "execution_count": 3,
   "id": "efdc4d0a",
   "metadata": {},
   "outputs": [
    {
     "name": "stdout",
     "output_type": "stream",
     "text": [
      "Counter({1: 1, 2: 1, 3: 1, 10: 1, 50: 1, 'Mardi': 1, 'Mercredi': 1, 'Marie': 1, 'Violetta': 1, 'Ludmilla': 1})\n"
     ]
    }
   ],
   "source": [
    "from collections import Counter as ctr\n",
    "\n",
    "dict_occur = ctr(list1)\n",
    "print(dict_occur)"
   ]
  },
  {
   "cell_type": "markdown",
   "id": "62e096f9",
   "metadata": {},
   "source": [
    "### 29. Affichez un dictionnaire sous forme de tableau."
   ]
  },
  {
   "cell_type": "code",
   "execution_count": 9,
   "id": "c90a6bb3",
   "metadata": {},
   "outputs": [
    {
     "name": "stdout",
     "output_type": "stream",
     "text": [
      "+---------------+-------------+\n",
      "| Pays          | Capitale    |\n",
      "+===============+=============+\n",
      "| Bénin         | Porto-Novo  |\n",
      "+---------------+-------------+\n",
      "| Colombie      | Bogota      |\n",
      "+---------------+-------------+\n",
      "| Mali          | Bamako      |\n",
      "+---------------+-------------+\n",
      "| Côte d'ivoire | Yamoussokro |\n",
      "+---------------+-------------+\n",
      "| Burkina Faso  | Ouagadogou  |\n",
      "+---------------+-------------+\n",
      "| Gabon         | Libreville  |\n",
      "+---------------+-------------+\n",
      "| Sierra Leone  | Freetown    |\n",
      "+---------------+-------------+\n"
     ]
    }
   ],
   "source": [
    "from tabulate import tabulate as tbl\n",
    "print(tbl(countrycap.items(), headers=[\"Pays\", \"Capitale\"], tablefmt=\"grid\"))"
   ]
  },
  {
   "cell_type": "code",
   "execution_count": 21,
   "id": "ff0b0ffc",
   "metadata": {},
   "outputs": [
    {
     "name": "stdout",
     "output_type": "stream",
     "text": [
      "Pays          | Capitale   \n",
      "----------------------------\n",
      "Bénin         | Porto-Novo \n",
      "Colombie      | Bogota     \n",
      "Mali          | Bamako     \n",
      "Côte d'ivoire | Yamoussokro\n",
      "Burkina Faso  | Ouagadogou \n",
      "Gabon         | Libreville \n",
      "Sierra Leone  | Freetown   \n"
     ]
    }
   ],
   "source": [
    "mlongk = max(len(str(k)) for k in countrycap.keys()) if countrycap else 0\n",
    "mlongv = max(len(str(v)) for v in countrycap.values()) if countrycap else 0\n",
    "\n",
    "entetek = \"Pays\"\n",
    "entetev = \"Capitale\"\n",
    "mlongk = max(mlongk, len(entetek))\n",
    "mlongv = max(mlongv, len(entetev))\n",
    "\n",
    "print(entetek.ljust(mlongk), \"|\", entetev.ljust(mlongv))\n",
    "print(\"-\" * (mlongk + mlongv + 4))\n",
    "\n",
    "for k, v in countrycap.items():\n",
    "    print(str(k).ljust(mlongk) , \"|\", str(v).ljust(mlongv))"
   ]
  },
  {
   "cell_type": "markdown",
   "id": "7e55d752",
   "metadata": {},
   "source": [
    "### 30. Créez un dictionnaire représentant un inventaire de produits avec gestion des stocks."
   ]
  },
  {
   "cell_type": "code",
   "execution_count": 41,
   "id": "cfd476d8",
   "metadata": {},
   "outputs": [
    {
     "data": {
      "text/plain": [
       "{'101': {'Nom': 'T-shirt', 'Prix': 15.99, 'Quantité': 50},\n",
       " '112': {'Nom': 'Jean', 'Prix': 29.9, 'Quantité': 30},\n",
       " '123': {'Nom': 'Chaussures', 'Prix': 49.75, 'Quantité': 20},\n",
       " '134': {'Nom': 'Casquette', 'Prix': 9.5, 'Quantité': 100},\n",
       " '145': {'Nom': 'Eyeline', 'Prix': 5.95, 'Quantité': 40},\n",
       " '156': {'Nom': 'Baskets', 'Prix': 120.49, 'Quantité': 80},\n",
       " '167': {'Nom': 'Teddy Bear', 'Prix': 20.85, 'Quantité': 95},\n",
       " '178': {'Nom': ' One piece Hat', 'Prix': 50.99, 'Quantité': 9},\n",
       " '189': {'Nom': 'Snowboard', 'Prix': 250.69, 'Quantité': 28},\n",
       " '190': {'Nom': 'Dior', 'Prix': 38.75, 'Quantité': 150}}"
      ]
     },
     "execution_count": 41,
     "metadata": {},
     "output_type": "execute_result"
    }
   ],
   "source": [
    "inventaire = {\n",
    "    \"101\" : {\"Nom\" : \"T-shirt\", \"Prix\" : 15.99, \"Quantité\" : 50},\n",
    "    \"112\" : {\"Nom\" : \"Jean\", \"Prix\" : 29.90, \"Quantité\" : 30},\n",
    "    \"123\" : {\"Nom\" : \"Chaussures\", \"Prix\" : 49.75, \"Quantité\" : 20},\n",
    "    \"134\" : {\"Nom\" : \"Casquette\", \"Prix\" : 9.50, \"Quantité\" : 100},\n",
    "    \"145\" : {\"Nom\" : \"Eyeline\", \"Prix\" : 5.95, \"Quantité\" : 40},\n",
    "    \"156\" : {\"Nom\" : \"Baskets\", \"Prix\" : 120.49, \"Quantité\" : 80},\n",
    "    \"167\" : {\"Nom\" : \"Teddy Bear\", \"Prix\" : 20.85, \"Quantité\" : 95},\n",
    "    \"178\" : {\"Nom\" : \" One piece Hat\", \"Prix\" : 50.99, \"Quantité\" : 9},\n",
    "    \"189\" : {\"Nom\" : \"Snowboard\", \"Prix\" : 250.69, \"Quantité\" : 28},\n",
    "    \"190\" : {\"Nom\" : \"Dior\", \"Prix\" : 38.75, \"Quantité\" : 150}\n",
    "}\n",
    "\n",
    "inventaire"
   ]
  },
  {
   "cell_type": "code",
   "execution_count": 42,
   "id": "26ba474d",
   "metadata": {},
   "outputs": [
    {
     "name": "stdout",
     "output_type": "stream",
     "text": [
      "122 a été ajouté à l'inventaire avec succès.\n"
     ]
    },
    {
     "data": {
      "text/plain": [
       "{'101': {'Nom': 'T-shirt', 'Prix': 15.99, 'Quantité': 50},\n",
       " '112': {'Nom': 'Jean', 'Prix': 29.9, 'Quantité': 30},\n",
       " '123': {'Nom': 'Chaussures', 'Prix': 49.75, 'Quantité': 20},\n",
       " '134': {'Nom': 'Casquette', 'Prix': 9.5, 'Quantité': 100},\n",
       " '145': {'Nom': 'Eyeline', 'Prix': 5.95, 'Quantité': 40},\n",
       " '156': {'Nom': 'Baskets', 'Prix': 120.49, 'Quantité': 80},\n",
       " '167': {'Nom': 'Teddy Bear', 'Prix': 20.85, 'Quantité': 95},\n",
       " '178': {'Nom': ' One piece Hat', 'Prix': 50.99, 'Quantité': 9},\n",
       " '189': {'Nom': 'Snowboard', 'Prix': 250.69, 'Quantité': 28},\n",
       " '190': {'Nom': 'Dior', 'Prix': 38.75, 'Quantité': 150},\n",
       " '122': {'Nom': 'Watch', 'Prix': 40.35, 'Quantité': 60}}"
      ]
     },
     "execution_count": 42,
     "metadata": {},
     "output_type": "execute_result"
    }
   ],
   "source": [
    "def ajout_produit(inventaire, IDproduit, Nom, Prix, Quantité):\n",
    "    if IDproduit not in inventaire:\n",
    "        inventaire[IDproduit] = {\"Nom\" : Nom, \"Prix\" : Prix, \"Quantité\" : Quantité}\n",
    "        print(IDproduit, \"a été ajouté à l'inventaire avec succès.\")\n",
    "    else:\n",
    "        print(IDproduit, \"est déjà renseigné dans l'inventaire.\")\n",
    "        \n",
    "ajout_produit(inventaire, \"122\", \"Watch\", 40.35, 60)\n",
    "inventaire"
   ]
  },
  {
   "cell_type": "code",
   "execution_count": 43,
   "id": "df99c60a",
   "metadata": {},
   "outputs": [
    {
     "name": "stdout",
     "output_type": "stream",
     "text": [
      "La quantité du produit Chaussures a été mise à jour avec succés : 35\n"
     ]
    },
    {
     "data": {
      "text/plain": [
       "{'101': {'Nom': 'T-shirt', 'Prix': 15.99, 'Quantité': 50},\n",
       " '112': {'Nom': 'Jean', 'Prix': 29.9, 'Quantité': 30},\n",
       " '123': {'Nom': 'Chaussures', 'Prix': 49.75, 'Quantité': 35},\n",
       " '134': {'Nom': 'Casquette', 'Prix': 9.5, 'Quantité': 100},\n",
       " '145': {'Nom': 'Eyeline', 'Prix': 5.95, 'Quantité': 40},\n",
       " '156': {'Nom': 'Baskets', 'Prix': 120.49, 'Quantité': 80},\n",
       " '167': {'Nom': 'Teddy Bear', 'Prix': 20.85, 'Quantité': 95},\n",
       " '178': {'Nom': ' One piece Hat', 'Prix': 50.99, 'Quantité': 9},\n",
       " '189': {'Nom': 'Snowboard', 'Prix': 250.69, 'Quantité': 28},\n",
       " '190': {'Nom': 'Dior', 'Prix': 38.75, 'Quantité': 150},\n",
       " '122': {'Nom': 'Watch', 'Prix': 40.35, 'Quantité': 60}}"
      ]
     },
     "execution_count": 43,
     "metadata": {},
     "output_type": "execute_result"
    }
   ],
   "source": [
    "def mj_quantité(inventaire, IDproduit, ajout_quantité):\n",
    "    if IDproduit in inventaire:\n",
    "        inventaire[IDproduit][\"Quantité\"] += ajout_quantité\n",
    "        print(\"La quantité du produit\", inventaire[IDproduit][\"Nom\"], \"a été mise à jour avec succés :\", inventaire[IDproduit][\"Quantité\"])\n",
    "    else:\n",
    "        print(\"Le produit\", inventaire[IDproduit][\"Nom\"], \"ne se trouve pas dans l'inventaire. Veuillez d'abord l'ajouter avant la mise à jour. Merci...\")\n",
    "        \n",
    "mj_quantité(inventaire, \"123\", 15)\n",
    "inventaire"
   ]
  },
  {
   "cell_type": "code",
   "execution_count": 54,
   "id": "daf687ee",
   "metadata": {},
   "outputs": [
    {
     "name": "stdout",
     "output_type": "stream",
     "text": [
      "Erreur, la quantité vendue sélectionnée est incorrecte. Veuillez réessayer, Merci.\n"
     ]
    },
    {
     "data": {
      "text/plain": [
       "{'101': {'Nom': 'T-shirt', 'Prix': 15.99, 'Quantité': 50},\n",
       " '112': {'Nom': 'Jean', 'Prix': 29.9, 'Quantité': 30},\n",
       " '123': {'Nom': 'Chaussures', 'Prix': 49.75, 'Quantité': 35},\n",
       " '134': {'Nom': 'Casquette', 'Prix': 9.5, 'Quantité': 35},\n",
       " '145': {'Nom': 'Eyeline', 'Prix': 5.95, 'Quantité': 40},\n",
       " '156': {'Nom': 'Baskets', 'Prix': 120.49, 'Quantité': 80},\n",
       " '167': {'Nom': 'Teddy Bear', 'Prix': 20.85, 'Quantité': 95},\n",
       " '178': {'Nom': ' One piece Hat', 'Prix': 50.99, 'Quantité': 9},\n",
       " '189': {'Nom': 'Snowboard', 'Prix': 250.69, 'Quantité': 28},\n",
       " '190': {'Nom': 'Dior', 'Prix': 38.75, 'Quantité': 150},\n",
       " '122': {'Nom': 'Watch', 'Prix': 40.35, 'Quantité': 60}}"
      ]
     },
     "execution_count": 54,
     "metadata": {},
     "output_type": "execute_result"
    }
   ],
   "source": [
    "def quantité_vd(inventaire, IDproduit, qtité_vend):\n",
    "    if IDproduit in inventaire:\n",
    "        if inventaire[IDproduit][\"Quantité\"] >= qtité_vend:\n",
    "            inventaire[IDproduit][\"Quantité\"] -= qtité_vend\n",
    "            print(\"Mise à jour opéré. Le nouveau stock du produit\", inventaire[IDproduit][\"Nom\"], \"est :\", inventaire[IDproduit][\"Quantité\"])\n",
    "        else:\n",
    "                print(\"Erreur, la quantité vendue sélectionnée est incorrecte. Veuillez réessayer, Merci.\")\n",
    "    else: \n",
    "        print(\"Le produit\", inventaire[IDproduit][\"Nom\"], \"ne se trouve pas dans l'inventaire. Veuillez d'abord l'ajouter avant la mise à jour. Merci...\")\n",
    "        \n",
    "quantité_vd(inventaire, \"134\", 65)\n",
    "inventaire"
   ]
  },
  {
   "cell_type": "code",
   "execution_count": 88,
   "id": "13d6dbe1",
   "metadata": {},
   "outputs": [
    {
     "name": "stdout",
     "output_type": "stream",
     "text": [
      "\n",
      "Inventaire actuel :\n",
      "IDproduit  | Nom                  | Prix       | Quantité\n",
      "------------------------------------------------------------\n",
      "101        | T-shirt              | 15.99   €  | 50\n",
      "112        | Jean                 | 29.9    €  | 30\n",
      "123        | Chaussures           | 49.75   €  | 35\n",
      "134        | Casquette            | 9.5     €  | 35\n",
      "145        | Eyeline              | 5.95    €  | 40\n",
      "156        | Baskets              | 120.49  €  | 80\n",
      "167        | Teddy Bear           | 20.85   €  | 95\n",
      "178        |  One piece Hat       | 50.99   €  | 9\n",
      "189        | Snowboard            | 250.69  €  | 28\n",
      "190        | Dior                 | 38.75   €  | 150\n",
      "122        | Watch                | 40.35   €  | 60\n"
     ]
    }
   ],
   "source": [
    "def aff_inventaire(inventaire):\n",
    "    print(\"\\nInventaire actuel :\")\n",
    "    print(\"IDproduit\".ljust(10), \"|\", \"Nom\".ljust(20), \"|\", \"Prix\".ljust(10), \"|\", \"Quantité\")\n",
    "    print(\"-\" * 60)\n",
    "    for IDproduit, details in inventaire.items():\n",
    "        print(IDproduit.ljust(10), \"|\", details[\"Nom\"].ljust(20), \"|\", str(details[\"Prix\"]).ljust(7), \"€  |\", details[\"Quantité\"])\n",
    "        \n",
    "aff_inventaire(inventaire)"
   ]
  }
 ],
 "metadata": {
  "kernelspec": {
   "display_name": "Python 3 (ipykernel)",
   "language": "python",
   "name": "python3"
  },
  "language_info": {
   "codemirror_mode": {
    "name": "ipython",
    "version": 3
   },
   "file_extension": ".py",
   "mimetype": "text/x-python",
   "name": "python",
   "nbconvert_exporter": "python",
   "pygments_lexer": "ipython3",
   "version": "3.11.4"
  }
 },
 "nbformat": 4,
 "nbformat_minor": 5
}
